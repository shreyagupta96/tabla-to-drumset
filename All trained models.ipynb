{
 "cells": [
  {
   "cell_type": "code",
   "id": "initial_id",
   "metadata": {
    "collapsed": true,
    "ExecuteTime": {
     "end_time": "2025-05-28T19:13:25.655680Z",
     "start_time": "2025-05-28T19:13:25.489118Z"
    }
   },
   "source": "",
   "outputs": [],
   "execution_count": 1
  },
  {
   "metadata": {
    "ExecuteTime": {
     "end_time": "2025-07-21T17:28:03.393014Z",
     "start_time": "2025-07-21T17:28:03.390045Z"
    }
   },
   "cell_type": "code",
   "source": [
    "### Environment setting\n",
    "import torch\n",
    "import torch.nn as nn\n",
    "import numpy as np\n",
    "import matplotlib.pyplot as plt\n",
    "import librosa\n",
    "import os\n",
    "import seaborn as sns\n",
    "import csv\n",
    "import pandas as pd\n",
    "import re\n",
    "import pickle\n",
    "\n",
    "from glob import glob\n",
    "from torch.utils.data import Dataset, DataLoader, TensorDataset\n",
    "from numpy.ma.core import squeeze\n",
    "from pathlib import Path\n",
    "from sklearn.metrics import confusion_matrix\n",
    "from collections import Counter\n",
    "from scipy.signal import find_peaks\n",
    "from collections import defaultdict\n",
    "from sklearn.metrics import accuracy_score, classification_report"
   ],
   "id": "9f259b33da36b5b5",
   "outputs": [],
   "execution_count": 34
  },
  {
   "metadata": {
    "ExecuteTime": {
     "end_time": "2025-07-21T17:28:03.753984Z",
     "start_time": "2025-07-21T17:28:03.748895Z"
    }
   },
   "cell_type": "code",
   "source": [
    "# load\n",
    "with open('model.pkl', 'rb') as f:\n",
    "    model = pickle.load(f)\n",
    "\n",
    "with open('model_2.pkl', 'rb') as f:\n",
    "    model_2 = pickle.load(f)"
   ],
   "id": "d9ed00322568ad6d",
   "outputs": [],
   "execution_count": 35
  },
  {
   "metadata": {
    "ExecuteTime": {
     "end_time": "2025-07-21T17:28:04.105861Z",
     "start_time": "2025-07-21T17:28:04.103980Z"
    }
   },
   "cell_type": "code",
   "source": "work_dir = Path.cwd()",
   "id": "1ad31e060836c343",
   "outputs": [],
   "execution_count": 36
  },
  {
   "metadata": {
    "ExecuteTime": {
     "end_time": "2025-07-21T17:28:04.610822Z",
     "start_time": "2025-07-21T17:28:04.606697Z"
    }
   },
   "cell_type": "code",
   "source": [
    "# CNN Module Block\n",
    "class ConvBlock(torch.nn.Module):\n",
    "    def __init__(self, in_channels, out_channels, kernel_size):\n",
    "        super(ConvBlock, self).__init__()\n",
    "        self.conv = torch.nn.Conv2d(in_channels, out_channels, kernel_size, padding=kernel_size // 2)\n",
    "        self.bn = torch.nn.BatchNorm2d(out_channels)\n",
    "        self.relu = torch.nn.ReLU()\n",
    "\n",
    "    def forward(self, x):\n",
    "        x = self.conv(x)\n",
    "        x = self.bn(x)\n",
    "        x = self.relu(x)\n",
    "        return x\n",
    "\n",
    "\n",
    "# Define a simple CNN model for classification\n",
    "class ConvNet(torch.nn.Module):\n",
    "    def __init__(self, input_channels, num_classes=12, num_channels=16, kernel_size=5):\n",
    "        super(ConvNet, self).__init__()\n",
    "        self.layers = torch.nn.Sequential(\n",
    "            ConvBlock(input_channels, num_channels, kernel_size),\n",
    "            ConvBlock(num_channels, num_channels, kernel_size),\n",
    "            ConvBlock(num_channels, num_channels, kernel_size),\n",
    "            ConvBlock(num_channels, num_channels, kernel_size),\n",
    "            ConvBlock(num_channels, num_channels, kernel_size),\n",
    "            ConvBlock(num_channels, num_channels, kernel_size),\n",
    "            ConvBlock(num_channels, num_channels, kernel_size),\n",
    "            ConvBlock(num_channels, num_channels, kernel_size),\n",
    "        )\n",
    "        self.global_avg_pool = torch.nn.AdaptiveAvgPool2d((1, 1))  # Change to 2d pooling\n",
    "        self.fc = torch.nn.Linear(num_channels, num_classes)\n",
    "\n",
    "    def forward(self, x):\n",
    "        x = self.layers(x)\n",
    "        x = self.global_avg_pool(x).view(x.size(0), -1)  # Flatten to 2d\n",
    "        network_output = self.fc(x)\n",
    "        return network_output"
   ],
   "id": "f411116721311eeb",
   "outputs": [],
   "execution_count": 37
  },
  {
   "metadata": {
    "ExecuteTime": {
     "end_time": "2025-07-21T17:28:05.177922Z",
     "start_time": "2025-07-21T17:28:05.169574Z"
    }
   },
   "cell_type": "code",
   "source": [
    "# Load the trained CNN model\n",
    "model_path = work_dir / \"ModelSave\" / \"ConvNet_SNFPR_model.pth\"  # Enclose the filename in quotes\n",
    "model_CNN = ConvNet(input_channels=13, num_classes=12)  # Ensure input_channels and num_classes match your model\n",
    "model_CNN.load_state_dict(torch.load(model_path))\n",
    "model_CNN.eval()"
   ],
   "id": "66ff0cf7f5add92d",
   "outputs": [
    {
     "data": {
      "text/plain": [
       "ConvNet(\n",
       "  (layers): Sequential(\n",
       "    (0): ConvBlock(\n",
       "      (conv): Conv2d(13, 16, kernel_size=(5, 5), stride=(1, 1), padding=(2, 2))\n",
       "      (bn): BatchNorm2d(16, eps=1e-05, momentum=0.1, affine=True, track_running_stats=True)\n",
       "      (relu): ReLU()\n",
       "    )\n",
       "    (1): ConvBlock(\n",
       "      (conv): Conv2d(16, 16, kernel_size=(5, 5), stride=(1, 1), padding=(2, 2))\n",
       "      (bn): BatchNorm2d(16, eps=1e-05, momentum=0.1, affine=True, track_running_stats=True)\n",
       "      (relu): ReLU()\n",
       "    )\n",
       "    (2): ConvBlock(\n",
       "      (conv): Conv2d(16, 16, kernel_size=(5, 5), stride=(1, 1), padding=(2, 2))\n",
       "      (bn): BatchNorm2d(16, eps=1e-05, momentum=0.1, affine=True, track_running_stats=True)\n",
       "      (relu): ReLU()\n",
       "    )\n",
       "    (3): ConvBlock(\n",
       "      (conv): Conv2d(16, 16, kernel_size=(5, 5), stride=(1, 1), padding=(2, 2))\n",
       "      (bn): BatchNorm2d(16, eps=1e-05, momentum=0.1, affine=True, track_running_stats=True)\n",
       "      (relu): ReLU()\n",
       "    )\n",
       "    (4): ConvBlock(\n",
       "      (conv): Conv2d(16, 16, kernel_size=(5, 5), stride=(1, 1), padding=(2, 2))\n",
       "      (bn): BatchNorm2d(16, eps=1e-05, momentum=0.1, affine=True, track_running_stats=True)\n",
       "      (relu): ReLU()\n",
       "    )\n",
       "    (5): ConvBlock(\n",
       "      (conv): Conv2d(16, 16, kernel_size=(5, 5), stride=(1, 1), padding=(2, 2))\n",
       "      (bn): BatchNorm2d(16, eps=1e-05, momentum=0.1, affine=True, track_running_stats=True)\n",
       "      (relu): ReLU()\n",
       "    )\n",
       "    (6): ConvBlock(\n",
       "      (conv): Conv2d(16, 16, kernel_size=(5, 5), stride=(1, 1), padding=(2, 2))\n",
       "      (bn): BatchNorm2d(16, eps=1e-05, momentum=0.1, affine=True, track_running_stats=True)\n",
       "      (relu): ReLU()\n",
       "    )\n",
       "    (7): ConvBlock(\n",
       "      (conv): Conv2d(16, 16, kernel_size=(5, 5), stride=(1, 1), padding=(2, 2))\n",
       "      (bn): BatchNorm2d(16, eps=1e-05, momentum=0.1, affine=True, track_running_stats=True)\n",
       "      (relu): ReLU()\n",
       "    )\n",
       "  )\n",
       "  (global_avg_pool): AdaptiveAvgPool2d(output_size=(1, 1))\n",
       "  (fc): Linear(in_features=16, out_features=12, bias=True)\n",
       ")"
      ]
     },
     "execution_count": 38,
     "metadata": {},
     "output_type": "execute_result"
    }
   ],
   "execution_count": 38
  },
  {
   "metadata": {
    "ExecuteTime": {
     "end_time": "2025-07-21T17:28:05.376287Z",
     "start_time": "2025-07-21T17:28:05.373500Z"
    }
   },
   "cell_type": "code",
   "source": [
    "# RCD Onset Detection\n",
    "def compute_rcd_onsets(y, sr, n_fft=2048, hop_length=512, threshold=0.3):\n",
    "    S = librosa.stft(y, n_fft=n_fft, hop_length=hop_length)\n",
    "    mag, phase = np.abs(S), np.angle(S)\n",
    "\n",
    "    # Estimate phase prediction\n",
    "    phase_diff = np.diff(phase, axis=1)\n",
    "    phase_diff = np.pad(phase_diff, ((0, 0), (1, 0)), mode='constant')\n",
    "    pred = mag[:, :-1] * np.exp(1j * (phase[:, :-1] + phase_diff[:, :-1]))\n",
    "    error = np.abs(S[:, 1:] - pred)\n",
    "\n",
    "    # Rectified Complex Domain\n",
    "    rcd = np.where(mag[:, 1:] >= mag[:, :-1], error, 0)\n",
    "    onset_env = np.sum(rcd, axis=0)\n",
    "\n",
    "    # Normalize and peak pick\n",
    "    onset_env = onset_env - np.mean(onset_env)\n",
    "    onset_env /= np.std(onset_env) + 1e-8\n",
    "    peaks = librosa.util.peak_pick(onset_env, pre_max=3, post_max=3, pre_avg=3, post_avg=3,delta=threshold, wait=5)\n",
    "\n",
    "    # Convert frames to samples\n",
    "    onset_samples = librosa.frames_to_samples(peaks, hop_length=hop_length)\n",
    "\n",
    "    # Append the end of audio to capture the last stroke\n",
    "    if onset_samples[-1] < len(y):\n",
    "        onset_samples = np.append(onset_samples, len(y))\n",
    "\n",
    "    return onset_samples, onset_env"
   ],
   "id": "a7dc7fd4bef50444",
   "outputs": [],
   "execution_count": 39
  },
  {
   "metadata": {
    "ExecuteTime": {
     "end_time": "2025-07-21T17:28:05.922699Z",
     "start_time": "2025-07-21T17:28:05.918050Z"
    }
   },
   "cell_type": "code",
   "source": [
    "# Function to preprocess audio data\n",
    "def preprocess(audio_data, sample_rate):\n",
    "    # Normalize the audio data\n",
    "    if np.max(np.abs(audio_data)) > 0:\n",
    "        audio_data = audio_data / np.max(np.abs(audio_data))\n",
    "\n",
    "    # Extract MFCCs (13 coefficients)\n",
    "    mfccs = librosa.feature.mfcc(y=audio_data, sr=sample_rate, n_mfcc=13)\n",
    "\n",
    "    # Extract Chroma features\n",
    "    chroma = librosa.feature.chroma_stft(y=audio_data, sr=sample_rate, n_chroma=13)\n",
    "\n",
    "    # Ensure both features have the same number of time frames\n",
    "    min_frames = min(mfccs.shape[1], chroma.shape[1])\n",
    "    mfccs = mfccs[:, :min_frames]\n",
    "    chroma = chroma[:, :min_frames]\n",
    "\n",
    "    # Stack features along a new dimension to create a 3D array\n",
    "    # Shape: (n_features, n_time_frames, n_feature_types)\n",
    "    features = np.stack([mfccs, chroma], axis=2)\n",
    "\n",
    "\n",
    "    return features"
   ],
   "id": "1564cb9b5b34405a",
   "outputs": [],
   "execution_count": 40
  },
  {
   "metadata": {
    "ExecuteTime": {
     "end_time": "2025-07-21T17:28:06.346267Z",
     "start_time": "2025-07-21T17:28:06.344075Z"
    }
   },
   "cell_type": "code",
   "source": "note_labels = [\"Dha\", \"Dhin\", \"Ghe\", \"Kat\", \"Ki\", \"Na\", \"Re\", \"T\", \"Ta\", \"Ti\", \"Tun\", \"Tin\"]",
   "id": "ec4978531dc77361",
   "outputs": [],
   "execution_count": 41
  },
  {
   "metadata": {
    "ExecuteTime": {
     "end_time": "2025-07-21T17:28:06.845284Z",
     "start_time": "2025-07-21T17:28:06.843229Z"
    }
   },
   "cell_type": "code",
   "source": [
    "# Function to adjust the length of audio data\n",
    "def Adjust_Length(audio_data, target_length):\n",
    "    # Right zero-padding\n",
    "    if len(audio_data) < target_length:\n",
    "        padded_audio = np.pad(audio_data, (0, target_length - len(audio_data)), mode = 'constant')\n",
    "        return padded_audio\n",
    "    else:\n",
    "        return audio_data"
   ],
   "id": "dbc2d78fecd33ec1",
   "outputs": [],
   "execution_count": 42
  },
  {
   "metadata": {
    "ExecuteTime": {
     "end_time": "2025-07-21T17:28:07.901136Z",
     "start_time": "2025-07-21T17:28:07.895684Z"
    }
   },
   "cell_type": "code",
   "source": [
    "def predict_tabla_bols(\n",
    "    file_path,\n",
    "    model,\n",
    "    adjust_length_fn,\n",
    "    target_length,\n",
    "    db_threshold=-30,\n",
    "    pre_onset_samples=1000\n",
    "):\n",
    "    # Load audio\n",
    "    y, sr = librosa.load(file_path, sr=None)\n",
    "\n",
    "    # Compute RCD-based onsets\n",
    "    onset_samples, onset_env = compute_rcd_onsets(y, sr)\n",
    "\n",
    "    # Manually add 0 if missing at start\n",
    "    if 0 not in onset_samples:\n",
    "        initial_db = librosa.amplitude_to_db([np.max(np.abs(y[:2048]))])[0]\n",
    "        print(f\"Added onset at 0s manually (initial dB: {initial_db:.2f})\")\n",
    "        onset_samples = np.insert(onset_samples, 0, 0)\n",
    "\n",
    "    results = []\n",
    "    duration = []\n",
    "    t_axis = np.linspace(0, len(y) / sr, len(y))\n",
    "    plt.figure(figsize=(12, 5))\n",
    "    plt.plot(t_axis, y, label=\"Waveform\", color=\"skyblue\", linewidth=1)\n",
    "\n",
    "    print(f\"Detected {len(onset_samples) - 1} strokes\")\n",
    "\n",
    "    for i in range(len(onset_samples) - 1):\n",
    "        start = max(onset_samples[i] - pre_onset_samples, 0)\n",
    "        end = onset_samples[i + 1]\n",
    "        duration_samples = end - start\n",
    "        duration_sec = duration_samples / sr\n",
    "        duration.append(duration_sec)\n",
    "        stroke = y[start:end]\n",
    "\n",
    "        if stroke.shape[0] == 0:\n",
    "            print(f\"Skipping stroke {i+1}: zero-length.\")\n",
    "            continue\n",
    "\n",
    "        stroke_db = librosa.amplitude_to_db([np.max(np.abs(stroke))])[0]\n",
    "        if stroke_db < db_threshold:\n",
    "            print(f\"Skipping stroke {i+1}: below dB threshold ({stroke_db:.2f} dB).\")\n",
    "            continue\n",
    "\n",
    "        # Preprocess\n",
    "        adjusted = adjust_length_fn(stroke, target_length)\n",
    "        features = preprocess(adjusted, sr)\n",
    "        input_tensor = torch.tensor(features, dtype=torch.float32).unsqueeze(0)\n",
    "\n",
    "        # Predict\n",
    "        model.eval()\n",
    "        with torch.no_grad():\n",
    "            output = model(input_tensor)\n",
    "            pred_index = torch.argmax(output, dim=1).item()\n",
    "            predicted_bol = note_labels[pred_index]\n",
    "\n",
    "        results.append(predicted_bol)\n",
    "        print(f\"Stroke {i+1}: Predicted → {predicted_bol} (dB: {stroke_db:.2f})\")\n",
    "\n",
    "        # Plot\n",
    "        t_stroke = t_axis[start:end]\n",
    "        plt.plot(t_stroke, y[start:end] + 1.1 - 0.2 * i, label=f\"Stroke {i+1}: {predicted_bol}\", linewidth=2)\n",
    "\n",
    "    plt.title(\"Detected Strokes with Predictions\")\n",
    "    plt.xlabel(\"Time (s)\")\n",
    "    plt.legend()\n",
    "    plt.tight_layout()\n",
    "    plt.show()\n",
    "\n",
    "    return results, duration"
   ],
   "id": "329ed6aa9f404451",
   "outputs": [],
   "execution_count": 43
  },
  {
   "metadata": {
    "ExecuteTime": {
     "end_time": "2025-07-21T17:28:09.927633Z",
     "start_time": "2025-07-21T17:28:08.947709Z"
    }
   },
   "cell_type": "code",
   "source": [
    "predicted_normalised, durations = predict_tabla_bols(file_path=\"DataSet/Kaggle_Dataset/Ektaal/Ektaal-060.wav\",model=model_CNN,adjust_length_fn=Adjust_Length,\n",
    "    target_length=72000)\n",
    "\n",
    "print(predicted_normalised, durations)"
   ],
   "id": "8b3f45329b6e1a09",
   "outputs": [
    {
     "name": "stdout",
     "output_type": "stream",
     "text": [
      "Added onset at 0s manually (initial dB: -51.77)\n",
      "Detected 17 strokes\n",
      "Skipping stroke 1: below dB threshold (-51.77 dB).\n",
      "Stroke 2: Predicted → Dhin (dB: -1.08)\n",
      "Stroke 3: Predicted → Dhin (dB: -8.77)\n",
      "Stroke 4: Predicted → Dha (dB: -4.78)\n",
      "Stroke 5: Predicted → Ghe (dB: -7.58)\n",
      "Stroke 6: Predicted → Ti (dB: -9.38)\n",
      "Stroke 7: Predicted → Ti (dB: -6.70)\n",
      "Stroke 8: Predicted → T (dB: -5.96)\n",
      "Stroke 9: Predicted → Na (dB: -9.19)\n",
      "Stroke 10: Predicted → Kat (dB: -4.68)\n",
      "Stroke 11: Predicted → Tin (dB: -4.75)\n",
      "Stroke 12: Predicted → Dha (dB: -4.07)\n",
      "Stroke 13: Predicted → Ghe (dB: -8.47)\n",
      "Stroke 14: Predicted → Ti (dB: -7.68)\n",
      "Stroke 15: Predicted → Ti (dB: -6.56)\n",
      "Stroke 16: Predicted → Dhin (dB: -8.43)\n",
      "Stroke 17: Predicted → Na (dB: -9.04)\n"
     ]
    },
    {
     "data": {
      "text/plain": [
       "<Figure size 1200x500 with 1 Axes>"
      ],
      "image/png": "[encoded data removed]"
     },
     "metadata": {},
     "output_type": "display_data"
    },
    {
     "name": "stdout",
     "output_type": "stream",
     "text": [
      "['Dhin', 'Dhin', 'Dha', 'Ghe', 'Ti', 'Ti', 'T', 'Na', 'Kat', 'Tin', 'Dha', 'Ghe', 'Ti', 'Ti', 'Dhin', 'Na'] [0.042666666666666665, 0.26616666666666666, 0.2555, 0.13816666666666666, 0.13816666666666666, 0.14883333333333335, 0.13816666666666666, 0.26616666666666666, 0.2555, 0.26616666666666666, 0.2555, 0.14883333333333335, 0.1275, 0.14883333333333335, 0.13816666666666666, 0.26616666666666666, 0.24972916666666667]\n"
     ]
    }
   ],
   "execution_count": 44
  },
  {
   "metadata": {
    "ExecuteTime": {
     "end_time": "2025-05-30T08:32:41.563906Z",
     "start_time": "2025-05-30T08:32:41.562245Z"
    }
   },
   "cell_type": "code",
   "source": "",
   "id": "4439ea385f961838",
   "outputs": [],
   "execution_count": null
  },
  {
   "metadata": {
    "ExecuteTime": {
     "end_time": "2025-07-21T17:28:25.207529Z",
     "start_time": "2025-07-21T17:28:25.205473Z"
    }
   },
   "cell_type": "code",
   "source": [
    "def preprocess_generate (predicted_notes, durations):\n",
    "    merge_list = []\n",
    "    for i in range(len(predicted_notes)):\n",
    "        merge_list.append(note_labels.index(predicted_notes[i]))\n",
    "        merge_list.append(durations[i])\n",
    "    return merge_list[len(merge_list) - 6:]"
   ],
   "id": "4718430d42e2dcc9",
   "outputs": [],
   "execution_count": 46
  },
  {
   "metadata": {
    "ExecuteTime": {
     "end_time": "2025-07-21T17:28:25.632513Z",
     "start_time": "2025-07-21T17:28:25.630147Z"
    }
   },
   "cell_type": "code",
   "source": "print(preprocess_generate(predicted_notes=predicted_normalised, durations=durations))",
   "id": "f9223fb5e7bb168c",
   "outputs": [
    {
     "name": "stdout",
     "output_type": "stream",
     "text": [
      "[9, 0.14883333333333335, 1, 0.13816666666666666, 5, 0.26616666666666666]\n"
     ]
    }
   ],
   "execution_count": 47
  },
  {
   "metadata": {
    "ExecuteTime": {
     "end_time": "2025-07-21T17:28:26.355Z",
     "start_time": "2025-07-21T17:28:26.308897Z"
    }
   },
   "cell_type": "code",
   "source": "model.predict(preprocess_generate(predicted_notes=predicted_normalised, durations=durations))",
   "id": "d3b52521a2133d79",
   "outputs": [
    {
     "name": "stderr",
     "output_type": "stream",
     "text": [
      "/opt/anaconda3/envs/ML312/lib/python3.12/site-packages/sklearn/utils/validation.py:2739: UserWarning: X does not have valid feature names, but RandomForestClassifier was fitted with feature names\n",
      "  warnings.warn(\n"
     ]
    },
    {
     "ename": "ValueError",
     "evalue": "Expected 2D array, got 1D array instead:\narray=[9.         0.14883333 1.         0.13816667 5.         0.26616666].\nReshape your data either using array.reshape(-1, 1) if your data has a single feature or array.reshape(1, -1) if it contains a single sample.",
     "output_type": "error",
     "traceback": [
      "\u001B[0;31m---------------------------------------------------------------------------\u001B[0m",
      "\u001B[0;31mValueError\u001B[0m                                Traceback (most recent call last)",
      "Cell \u001B[0;32mIn[48], line 1\u001B[0m\n\u001B[0;32m----> 1\u001B[0m model\u001B[38;5;241m.\u001B[39mpredict(preprocess_generate(predicted_notes\u001B[38;5;241m=\u001B[39mpredicted_normalised, durations\u001B[38;5;241m=\u001B[39mdurations))\n",
      "File \u001B[0;32m/opt/anaconda3/envs/ML312/lib/python3.12/site-packages/sklearn/ensemble/_forest.py:904\u001B[0m, in \u001B[0;36mForestClassifier.predict\u001B[0;34m(self, X)\u001B[0m\n\u001B[1;32m    883\u001B[0m \u001B[38;5;28;01mdef\u001B[39;00m \u001B[38;5;21mpredict\u001B[39m(\u001B[38;5;28mself\u001B[39m, X):\n\u001B[1;32m    884\u001B[0m \u001B[38;5;250m    \u001B[39m\u001B[38;5;124;03m\"\"\"\u001B[39;00m\n\u001B[1;32m    885\u001B[0m \u001B[38;5;124;03m    Predict class for X.\u001B[39;00m\n\u001B[1;32m    886\u001B[0m \n\u001B[0;32m   (...)\u001B[0m\n\u001B[1;32m    902\u001B[0m \u001B[38;5;124;03m        The predicted classes.\u001B[39;00m\n\u001B[1;32m    903\u001B[0m \u001B[38;5;124;03m    \"\"\"\u001B[39;00m\n\u001B[0;32m--> 904\u001B[0m     proba \u001B[38;5;241m=\u001B[39m \u001B[38;5;28mself\u001B[39m\u001B[38;5;241m.\u001B[39mpredict_proba(X)\n\u001B[1;32m    906\u001B[0m     \u001B[38;5;28;01mif\u001B[39;00m \u001B[38;5;28mself\u001B[39m\u001B[38;5;241m.\u001B[39mn_outputs_ \u001B[38;5;241m==\u001B[39m \u001B[38;5;241m1\u001B[39m:\n\u001B[1;32m    907\u001B[0m         \u001B[38;5;28;01mreturn\u001B[39;00m \u001B[38;5;28mself\u001B[39m\u001B[38;5;241m.\u001B[39mclasses_\u001B[38;5;241m.\u001B[39mtake(np\u001B[38;5;241m.\u001B[39margmax(proba, axis\u001B[38;5;241m=\u001B[39m\u001B[38;5;241m1\u001B[39m), axis\u001B[38;5;241m=\u001B[39m\u001B[38;5;241m0\u001B[39m)\n",
      "File \u001B[0;32m/opt/anaconda3/envs/ML312/lib/python3.12/site-packages/sklearn/ensemble/_forest.py:946\u001B[0m, in \u001B[0;36mForestClassifier.predict_proba\u001B[0;34m(self, X)\u001B[0m\n\u001B[1;32m    944\u001B[0m check_is_fitted(\u001B[38;5;28mself\u001B[39m)\n\u001B[1;32m    945\u001B[0m \u001B[38;5;66;03m# Check data\u001B[39;00m\n\u001B[0;32m--> 946\u001B[0m X \u001B[38;5;241m=\u001B[39m \u001B[38;5;28mself\u001B[39m\u001B[38;5;241m.\u001B[39m_validate_X_predict(X)\n\u001B[1;32m    948\u001B[0m \u001B[38;5;66;03m# Assign chunk of trees to jobs\u001B[39;00m\n\u001B[1;32m    949\u001B[0m n_jobs, _, _ \u001B[38;5;241m=\u001B[39m _partition_estimators(\u001B[38;5;28mself\u001B[39m\u001B[38;5;241m.\u001B[39mn_estimators, \u001B[38;5;28mself\u001B[39m\u001B[38;5;241m.\u001B[39mn_jobs)\n",
      "File \u001B[0;32m/opt/anaconda3/envs/ML312/lib/python3.12/site-packages/sklearn/ensemble/_forest.py:638\u001B[0m, in \u001B[0;36mBaseForest._validate_X_predict\u001B[0;34m(self, X)\u001B[0m\n\u001B[1;32m    635\u001B[0m \u001B[38;5;28;01melse\u001B[39;00m:\n\u001B[1;32m    636\u001B[0m     ensure_all_finite \u001B[38;5;241m=\u001B[39m \u001B[38;5;28;01mTrue\u001B[39;00m\n\u001B[0;32m--> 638\u001B[0m X \u001B[38;5;241m=\u001B[39m validate_data(\n\u001B[1;32m    639\u001B[0m     \u001B[38;5;28mself\u001B[39m,\n\u001B[1;32m    640\u001B[0m     X,\n\u001B[1;32m    641\u001B[0m     dtype\u001B[38;5;241m=\u001B[39mDTYPE,\n\u001B[1;32m    642\u001B[0m     accept_sparse\u001B[38;5;241m=\u001B[39m\u001B[38;5;124m\"\u001B[39m\u001B[38;5;124mcsr\u001B[39m\u001B[38;5;124m\"\u001B[39m,\n\u001B[1;32m    643\u001B[0m     reset\u001B[38;5;241m=\u001B[39m\u001B[38;5;28;01mFalse\u001B[39;00m,\n\u001B[1;32m    644\u001B[0m     ensure_all_finite\u001B[38;5;241m=\u001B[39mensure_all_finite,\n\u001B[1;32m    645\u001B[0m )\n\u001B[1;32m    646\u001B[0m \u001B[38;5;28;01mif\u001B[39;00m issparse(X) \u001B[38;5;129;01mand\u001B[39;00m (X\u001B[38;5;241m.\u001B[39mindices\u001B[38;5;241m.\u001B[39mdtype \u001B[38;5;241m!=\u001B[39m np\u001B[38;5;241m.\u001B[39mintc \u001B[38;5;129;01mor\u001B[39;00m X\u001B[38;5;241m.\u001B[39mindptr\u001B[38;5;241m.\u001B[39mdtype \u001B[38;5;241m!=\u001B[39m np\u001B[38;5;241m.\u001B[39mintc):\n\u001B[1;32m    647\u001B[0m     \u001B[38;5;28;01mraise\u001B[39;00m \u001B[38;5;167;01mValueError\u001B[39;00m(\u001B[38;5;124m\"\u001B[39m\u001B[38;5;124mNo support for np.int64 index based sparse matrices\u001B[39m\u001B[38;5;124m\"\u001B[39m)\n",
      "File \u001B[0;32m/opt/anaconda3/envs/ML312/lib/python3.12/site-packages/sklearn/utils/validation.py:2944\u001B[0m, in \u001B[0;36mvalidate_data\u001B[0;34m(_estimator, X, y, reset, validate_separately, skip_check_array, **check_params)\u001B[0m\n\u001B[1;32m   2942\u001B[0m         out \u001B[38;5;241m=\u001B[39m X, y\n\u001B[1;32m   2943\u001B[0m \u001B[38;5;28;01melif\u001B[39;00m \u001B[38;5;129;01mnot\u001B[39;00m no_val_X \u001B[38;5;129;01mand\u001B[39;00m no_val_y:\n\u001B[0;32m-> 2944\u001B[0m     out \u001B[38;5;241m=\u001B[39m check_array(X, input_name\u001B[38;5;241m=\u001B[39m\u001B[38;5;124m\"\u001B[39m\u001B[38;5;124mX\u001B[39m\u001B[38;5;124m\"\u001B[39m, \u001B[38;5;241m*\u001B[39m\u001B[38;5;241m*\u001B[39mcheck_params)\n\u001B[1;32m   2945\u001B[0m \u001B[38;5;28;01melif\u001B[39;00m no_val_X \u001B[38;5;129;01mand\u001B[39;00m \u001B[38;5;129;01mnot\u001B[39;00m no_val_y:\n\u001B[1;32m   2946\u001B[0m     out \u001B[38;5;241m=\u001B[39m _check_y(y, \u001B[38;5;241m*\u001B[39m\u001B[38;5;241m*\u001B[39mcheck_params)\n",
      "File \u001B[0;32m/opt/anaconda3/envs/ML312/lib/python3.12/site-packages/sklearn/utils/validation.py:1093\u001B[0m, in \u001B[0;36mcheck_array\u001B[0;34m(array, accept_sparse, accept_large_sparse, dtype, order, copy, force_writeable, force_all_finite, ensure_all_finite, ensure_non_negative, ensure_2d, allow_nd, ensure_min_samples, ensure_min_features, estimator, input_name)\u001B[0m\n\u001B[1;32m   1086\u001B[0m         \u001B[38;5;28;01melse\u001B[39;00m:\n\u001B[1;32m   1087\u001B[0m             msg \u001B[38;5;241m=\u001B[39m (\n\u001B[1;32m   1088\u001B[0m                 \u001B[38;5;124mf\u001B[39m\u001B[38;5;124m\"\u001B[39m\u001B[38;5;124mExpected 2D array, got 1D array instead:\u001B[39m\u001B[38;5;130;01m\\n\u001B[39;00m\u001B[38;5;124marray=\u001B[39m\u001B[38;5;132;01m{\u001B[39;00marray\u001B[38;5;132;01m}\u001B[39;00m\u001B[38;5;124m.\u001B[39m\u001B[38;5;130;01m\\n\u001B[39;00m\u001B[38;5;124m\"\u001B[39m\n\u001B[1;32m   1089\u001B[0m                 \u001B[38;5;124m\"\u001B[39m\u001B[38;5;124mReshape your data either using array.reshape(-1, 1) if \u001B[39m\u001B[38;5;124m\"\u001B[39m\n\u001B[1;32m   1090\u001B[0m                 \u001B[38;5;124m\"\u001B[39m\u001B[38;5;124myour data has a single feature or array.reshape(1, -1) \u001B[39m\u001B[38;5;124m\"\u001B[39m\n\u001B[1;32m   1091\u001B[0m                 \u001B[38;5;124m\"\u001B[39m\u001B[38;5;124mif it contains a single sample.\u001B[39m\u001B[38;5;124m\"\u001B[39m\n\u001B[1;32m   1092\u001B[0m             )\n\u001B[0;32m-> 1093\u001B[0m         \u001B[38;5;28;01mraise\u001B[39;00m \u001B[38;5;167;01mValueError\u001B[39;00m(msg)\n\u001B[1;32m   1095\u001B[0m \u001B[38;5;28;01mif\u001B[39;00m dtype_numeric \u001B[38;5;129;01mand\u001B[39;00m \u001B[38;5;28mhasattr\u001B[39m(array\u001B[38;5;241m.\u001B[39mdtype, \u001B[38;5;124m\"\u001B[39m\u001B[38;5;124mkind\u001B[39m\u001B[38;5;124m\"\u001B[39m) \u001B[38;5;129;01mand\u001B[39;00m array\u001B[38;5;241m.\u001B[39mdtype\u001B[38;5;241m.\u001B[39mkind \u001B[38;5;129;01min\u001B[39;00m \u001B[38;5;124m\"\u001B[39m\u001B[38;5;124mUSV\u001B[39m\u001B[38;5;124m\"\u001B[39m:\n\u001B[1;32m   1096\u001B[0m     \u001B[38;5;28;01mraise\u001B[39;00m \u001B[38;5;167;01mValueError\u001B[39;00m(\n\u001B[1;32m   1097\u001B[0m         \u001B[38;5;124m\"\u001B[39m\u001B[38;5;124mdtype=\u001B[39m\u001B[38;5;124m'\u001B[39m\u001B[38;5;124mnumeric\u001B[39m\u001B[38;5;124m'\u001B[39m\u001B[38;5;124m is not compatible with arrays of bytes/strings.\u001B[39m\u001B[38;5;124m\"\u001B[39m\n\u001B[1;32m   1098\u001B[0m         \u001B[38;5;124m\"\u001B[39m\u001B[38;5;124mConvert your data to numeric values explicitly instead.\u001B[39m\u001B[38;5;124m\"\u001B[39m\n\u001B[1;32m   1099\u001B[0m     )\n",
      "\u001B[0;31mValueError\u001B[0m: Expected 2D array, got 1D array instead:\narray=[9.         0.14883333 1.         0.13816667 5.         0.26616666].\nReshape your data either using array.reshape(-1, 1) if your data has a single feature or array.reshape(1, -1) if it contains a single sample."
     ]
    }
   ],
   "execution_count": 48
  },
  {
   "metadata": {
    "ExecuteTime": {
     "end_time": "2025-07-21T17:28:29.797107Z",
     "start_time": "2025-07-21T17:28:29.793927Z"
    }
   },
   "cell_type": "code",
   "source": [
    "def generate_notes (predicted_normalised, durations):\n",
    "    predicted_notes = []\n",
    "    predicted_duration = []\n",
    "    x_test_sample = preprocess_generate(predicted_notes=predicted_normalised, durations=durations)\n",
    "    for i in range(0,6):\n",
    "        pred_note = model.predict([x_test_sample])\n",
    "        pred_duration = model_2.predict([x_test_sample])\n",
    "        print(note_labels[pred_note[0]], pred_duration[0])\n",
    "        predicted_notes.append(note_labels[pred_note[0]])\n",
    "        predicted_duration.append(pred_duration[0])\n",
    "        x_test_sample = x_test_sample[2:]\n",
    "        x_test_sample.append(pred_note[0])\n",
    "        x_test_sample.append(pred_duration[0])\n",
    "    return predicted_notes, predicted_duration"
   ],
   "id": "f16bb1950c36dc52",
   "outputs": [],
   "execution_count": 50
  },
  {
   "metadata": {
    "ExecuteTime": {
     "end_time": "2025-07-21T17:28:30.464535Z",
     "start_time": "2025-07-21T17:28:30.438108Z"
    }
   },
   "cell_type": "code",
   "source": "print(generate_notes(predicted_normalised=predicted_normalised, durations=durations))",
   "id": "ee446aaeb5462258",
   "outputs": [
    {
     "name": "stdout",
     "output_type": "stream",
     "text": [
      "Na 0.24993066166666694\n",
      "Tin 0.20478670095238083\n",
      "Tin 0.25272839999999996\n",
      "Na 0.15223073333333348\n",
      "Dha 0.14977061000000005\n",
      "Na 0.23954951499999996\n",
      "(['Na', 'Tin', 'Tin', 'Na', 'Dha', 'Na'], [0.24993066166666694, 0.20478670095238083, 0.25272839999999996, 0.15223073333333348, 0.14977061000000005, 0.23954951499999996])\n"
     ]
    },
    {
     "name": "stderr",
     "output_type": "stream",
     "text": [
      "/opt/anaconda3/envs/ML312/lib/python3.12/site-packages/sklearn/utils/validation.py:2739: UserWarning: X does not have valid feature names, but RandomForestClassifier was fitted with feature names\n",
      "  warnings.warn(\n",
      "/opt/anaconda3/envs/ML312/lib/python3.12/site-packages/sklearn/utils/validation.py:2739: UserWarning: X does not have valid feature names, but RandomForestRegressor was fitted with feature names\n",
      "  warnings.warn(\n",
      "/opt/anaconda3/envs/ML312/lib/python3.12/site-packages/sklearn/utils/validation.py:2739: UserWarning: X does not have valid feature names, but RandomForestClassifier was fitted with feature names\n",
      "  warnings.warn(\n",
      "/opt/anaconda3/envs/ML312/lib/python3.12/site-packages/sklearn/utils/validation.py:2739: UserWarning: X does not have valid feature names, but RandomForestRegressor was fitted with feature names\n",
      "  warnings.warn(\n",
      "/opt/anaconda3/envs/ML312/lib/python3.12/site-packages/sklearn/utils/validation.py:2739: UserWarning: X does not have valid feature names, but RandomForestClassifier was fitted with feature names\n",
      "  warnings.warn(\n",
      "/opt/anaconda3/envs/ML312/lib/python3.12/site-packages/sklearn/utils/validation.py:2739: UserWarning: X does not have valid feature names, but RandomForestRegressor was fitted with feature names\n",
      "  warnings.warn(\n",
      "/opt/anaconda3/envs/ML312/lib/python3.12/site-packages/sklearn/utils/validation.py:2739: UserWarning: X does not have valid feature names, but RandomForestClassifier was fitted with feature names\n",
      "  warnings.warn(\n",
      "/opt/anaconda3/envs/ML312/lib/python3.12/site-packages/sklearn/utils/validation.py:2739: UserWarning: X does not have valid feature names, but RandomForestRegressor was fitted with feature names\n",
      "  warnings.warn(\n",
      "/opt/anaconda3/envs/ML312/lib/python3.12/site-packages/sklearn/utils/validation.py:2739: UserWarning: X does not have valid feature names, but RandomForestClassifier was fitted with feature names\n",
      "  warnings.warn(\n",
      "/opt/anaconda3/envs/ML312/lib/python3.12/site-packages/sklearn/utils/validation.py:2739: UserWarning: X does not have valid feature names, but RandomForestRegressor was fitted with feature names\n",
      "  warnings.warn(\n",
      "/opt/anaconda3/envs/ML312/lib/python3.12/site-packages/sklearn/utils/validation.py:2739: UserWarning: X does not have valid feature names, but RandomForestClassifier was fitted with feature names\n",
      "  warnings.warn(\n",
      "/opt/anaconda3/envs/ML312/lib/python3.12/site-packages/sklearn/utils/validation.py:2739: UserWarning: X does not have valid feature names, but RandomForestRegressor was fitted with feature names\n",
      "  warnings.warn(\n"
     ]
    }
   ],
   "execution_count": 51
  },
  {
   "metadata": {
    "ExecuteTime": {
     "end_time": "2025-07-21T17:28:46.638701Z",
     "start_time": "2025-07-21T17:28:46.633865Z"
    }
   },
   "cell_type": "code",
   "source": [
    "# Set this to your dataset folder path\n",
    "DATASET_PATH = \"/Users/shreyagupta/Desktop/Machine_Learning/Group_Project/Project_Tabla_Kaggle/DataSet/TablaSN\"\n",
    "\n",
    "\n",
    "def get_random_sample(note):\n",
    "    \"\"\"Returns a random AudioSegment for a given tabla note label\"\"\"\n",
    "    folder = os.path.join(DATASET_PATH, note)\n",
    "    print(f\"🧾 Looking in folder: {folder}\")\n",
    "    files = [f for f in os.listdir(folder) if f.endswith(\".wav\")]\n",
    "    if not files:\n",
    "        raise FileNotFoundError(f\"No WAV files found in {folder}\")\n",
    "    chosen = random.choice(files)\n",
    "    return AudioSegment.from_wav(os.path.join(folder, chosen))\n",
    "\n",
    "\n",
    "def adjust_duration(audio, target_sec):\n",
    "    \"\"\"Trims or pads the audio to match the predicted duration (in seconds)\"\"\"\n",
    "    target_ms = int(target_sec * 1000)\n",
    "    if len(audio) > target_ms:\n",
    "        return audio[:target_ms]\n",
    "    else:\n",
    "        silence = AudioSegment.silent(duration=target_ms - len(audio))\n",
    "        return audio + silence\n",
    "\n",
    "\n",
    "def play_audiosegment(audio):\n",
    "    \"\"\"Plays a pydub AudioSegment with blocking using simpleaudio\"\"\"\n",
    "    playback = sa.play_buffer(\n",
    "        audio.raw_data,\n",
    "        num_channels=audio.channels,\n",
    "        bytes_per_sample=audio.sample_width,\n",
    "        sample_rate=audio.frame_rate,\n",
    "    )\n",
    "    playback.wait_done()\n",
    "\n",
    "\n",
    "def play_sequence(predicted_notes, predicted_durations):\n",
    "    \"\"\"Main sampler loop\"\"\"\n",
    "    for note, dur in zip(predicted_notes, predicted_durations):\n",
    "        note = str(note)\n",
    "        duration = float(dur)\n",
    "        try:\n",
    "            sample = get_random_sample(note)\n",
    "            sample = adjust_duration(sample, duration)\n",
    "            print(f\"Playing {note} for {round(duration, 3)} sec\")\n",
    "            play_audiosegment(sample)\n",
    "        except Exception as e:\n",
    "            print(f\"Error with {note}: {e}\")\n",
    "\n",
    "\n",
    "def export_sequence(predicted_notes, predicted_durations, output_path=\"output.wav\"):\n",
    "    sequence = AudioSegment.silent(duration=0)\n",
    "    for note, dur in zip(predicted_notes, predicted_durations):\n",
    "        note = str(note).strip()  # Ensure no whitespace\n",
    "        duration = float(dur)\n",
    "        try:\n",
    "            sample = get_random_sample(note)\n",
    "            sample = adjust_duration(sample, duration)\n",
    "            sequence += sample\n",
    "        except Exception as e:\n",
    "            print(f\"Error with {note}: {e}\")\n",
    "    if len(sequence) == 0:\n",
    "        print(\"⚠️ Nothing to export. Sequence is empty.\")\n",
    "        return\n",
    "    sequence.export(output_path, format=\"wav\")\n",
    "    print(f\"✅ Exported to {output_path}\")\n"
   ],
   "id": "9aab1aeef26e7ec7",
   "outputs": [],
   "execution_count": 53
  },
  {
   "metadata": {
    "ExecuteTime": {
     "end_time": "2025-07-21T17:28:47.871371Z",
     "start_time": "2025-07-21T17:28:47.795221Z"
    }
   },
   "cell_type": "code",
   "source": "export_sequence(predicted_normalised, durations)",
   "id": "98872a3eaf157ba8",
   "outputs": [
    {
     "name": "stdout",
     "output_type": "stream",
     "text": [
      "🧾 Looking in folder: /Users/shreyagupta/Desktop/Machine_Learning/Group_Project/Project_Tabla_Kaggle/DataSet/TablaSN/Dhin\n",
      "🧾 Looking in folder: /Users/shreyagupta/Desktop/Machine_Learning/Group_Project/Project_Tabla_Kaggle/DataSet/TablaSN/Dhin\n",
      "🧾 Looking in folder: /Users/shreyagupta/Desktop/Machine_Learning/Group_Project/Project_Tabla_Kaggle/DataSet/TablaSN/Dha\n",
      "🧾 Looking in folder: /Users/shreyagupta/Desktop/Machine_Learning/Group_Project/Project_Tabla_Kaggle/DataSet/TablaSN/Ghe\n",
      "🧾 Looking in folder: /Users/shreyagupta/Desktop/Machine_Learning/Group_Project/Project_Tabla_Kaggle/DataSet/TablaSN/Ti\n",
      "🧾 Looking in folder: /Users/shreyagupta/Desktop/Machine_Learning/Group_Project/Project_Tabla_Kaggle/DataSet/TablaSN/Ti\n",
      "🧾 Looking in folder: /Users/shreyagupta/Desktop/Machine_Learning/Group_Project/Project_Tabla_Kaggle/DataSet/TablaSN/T\n",
      "🧾 Looking in folder: /Users/shreyagupta/Desktop/Machine_Learning/Group_Project/Project_Tabla_Kaggle/DataSet/TablaSN/Na\n",
      "🧾 Looking in folder: /Users/shreyagupta/Desktop/Machine_Learning/Group_Project/Project_Tabla_Kaggle/DataSet/TablaSN/Kat\n",
      "🧾 Looking in folder: /Users/shreyagupta/Desktop/Machine_Learning/Group_Project/Project_Tabla_Kaggle/DataSet/TablaSN/Tin\n",
      "🧾 Looking in folder: /Users/shreyagupta/Desktop/Machine_Learning/Group_Project/Project_Tabla_Kaggle/DataSet/TablaSN/Dha\n",
      "🧾 Looking in folder: /Users/shreyagupta/Desktop/Machine_Learning/Group_Project/Project_Tabla_Kaggle/DataSet/TablaSN/Ghe\n",
      "🧾 Looking in folder: /Users/shreyagupta/Desktop/Machine_Learning/Group_Project/Project_Tabla_Kaggle/DataSet/TablaSN/Ti\n",
      "🧾 Looking in folder: /Users/shreyagupta/Desktop/Machine_Learning/Group_Project/Project_Tabla_Kaggle/DataSet/TablaSN/Ti\n",
      "🧾 Looking in folder: /Users/shreyagupta/Desktop/Machine_Learning/Group_Project/Project_Tabla_Kaggle/DataSet/TablaSN/Dhin\n",
      "🧾 Looking in folder: /Users/shreyagupta/Desktop/Machine_Learning/Group_Project/Project_Tabla_Kaggle/DataSet/TablaSN/Na\n",
      "✅ Exported to output.wav\n"
     ]
    }
   ],
   "execution_count": 54
  },
  {
   "metadata": {
    "ExecuteTime": {
     "end_time": "2025-07-21T17:18:56.521014Z",
     "start_time": "2025-07-21T17:18:56.492811Z"
    }
   },
   "cell_type": "code",
   "source": [
    "import os\n",
    "import random\n",
    "import numpy as np\n",
    "from pydub import AudioSegment\n",
    "import simpleaudio as sa\n",
    "\n",
    "# Set this to your dataset folder path\n",
    "DATASET_PATH = \"/Users/shreyagupta/Desktop/Machine_Learning/Group_Project/Project_Tabla_Kaggle/Drum_shots\"\n",
    "\n",
    "\n",
    "def get_random_sample(note):\n",
    "    \"\"\"Returns a random AudioSegment for a given tabla note label\"\"\"\n",
    "    folder = os.path.join(DATASET_PATH, note)\n",
    "    return AudioSegment.from_wav(os.path.join(folder))\n",
    "\n",
    "\n",
    "def adjust_duration(audio, target_sec):\n",
    "    \"\"\"Trims or pads the audio to match the predicted duration (in seconds)\"\"\"\n",
    "    target_ms = int(target_sec * 1000)\n",
    "    if len(audio) > target_ms:\n",
    "        return audio[:target_ms]\n",
    "    else:\n",
    "        silence = AudioSegment.silent(duration=target_ms - len(audio))\n",
    "        return audio + silence\n",
    "\n",
    "\n",
    "def play_audiosegment(audio):\n",
    "    \"\"\"Plays a pydub AudioSegment with blocking using simpleaudio\"\"\"\n",
    "    playback = sa.play_buffer(\n",
    "        audio.raw_data,\n",
    "        num_channels=audio.channels,\n",
    "        bytes_per_sample=audio.sample_width,\n",
    "        sample_rate=audio.frame_rate,\n",
    "    )\n",
    "    playback.wait_done()\n",
    "\n",
    "\n",
    "def play_sequence(predicted_notes, predicted_durations):\n",
    "    \"\"\"Main sampler loop\"\"\"\n",
    "    for note, dur in zip(predicted_notes, predicted_durations):\n",
    "        note = str(note)\n",
    "        duration = float(dur)\n",
    "        try:\n",
    "            sample = get_random_sample(note)\n",
    "            sample = adjust_duration(sample, duration)\n",
    "            print(f\"Playing {note} for {round(duration, 3)} sec\")\n",
    "            play_audiosegment(sample)\n",
    "        except Exception as e:\n",
    "            print(f\"Error with {note}: {e}\")\n",
    "\n",
    "\n",
    "def export_sequence(predicted_notes, predicted_durations, output_path=\"drum_output.wav\"):\n",
    "    sequence = AudioSegment.silent(duration=0)\n",
    "    for note, dur in zip(predicted_notes, predicted_durations):\n",
    "        note = str(note).strip()  # Ensure no whitespace\n",
    "        note_wav = note + \".wav\"\n",
    "        duration = float(dur)\n",
    "        try:\n",
    "            sample = get_random_sample(note_wav)\n",
    "            sample = adjust_duration(sample, duration)\n",
    "            sequence += sample\n",
    "        except Exception as e:\n",
    "            print(f\"Error with {note_wav}: {e}\")\n",
    "    if len(sequence) == 0:\n",
    "        print(\"⚠️ Nothing to export. Sequence is empty.\")\n",
    "        return\n",
    "    sequence.export(output_path, format=\"wav\")\n",
    "    print(f\"✅ Exported to {output_path}\")\n",
    "\n",
    "\n"
   ],
   "id": "6f820d0beea80531",
   "outputs": [],
   "execution_count": 23
  },
  {
   "metadata": {
    "ExecuteTime": {
     "end_time": "2025-07-21T17:18:59.554236Z",
     "start_time": "2025-07-21T17:18:59.392417Z"
    }
   },
   "cell_type": "code",
   "source": [
    "# After playing the tabla prediction\n",
    "print(predicted_normalised)\n",
    "print(durations)\n",
    "export_sequence(predicted_normalised, durations)"
   ],
   "id": "f1836084912b3884",
   "outputs": [
    {
     "name": "stdout",
     "output_type": "stream",
     "text": [
      "['Dhin', 'Dhin', 'Dha', 'Ghe', 'Ti', 'Ti', 'T', 'Na', 'Kat', 'Tin', 'Dha', 'Ghe', 'Ti', 'Ti', 'Dhin', 'Na']\n",
      "[0.042666666666666665, 0.26616666666666666, 0.2555, 0.13816666666666666, 0.13816666666666666, 0.14883333333333335, 0.13816666666666666, 0.26616666666666666, 0.2555, 0.26616666666666666, 0.2555, 0.14883333333333335, 0.1275, 0.14883333333333335, 0.13816666666666666, 0.26616666666666666, 0.24972916666666667]\n",
      "✅ Exported to drum_output.wav\n"
     ]
    }
   ],
   "execution_count": 24
  }
 ],
 "metadata": {
  "kernelspec": {
   "display_name": "ML312",
   "language": "python",
   "name": "ml312"
  },
  "language_info": {
   "codemirror_mode": {
    "name": "ipython",
    "version": 2
   },
   "file_extension": ".py",
   "mimetype": "text/x-python",
   "name": "python",
   "nbconvert_exporter": "python",
   "pygments_lexer": "ipython2",
   "version": "2.7.6"
  }
 },
 "nbformat": 4,
 "nbformat_minor": 5
}
