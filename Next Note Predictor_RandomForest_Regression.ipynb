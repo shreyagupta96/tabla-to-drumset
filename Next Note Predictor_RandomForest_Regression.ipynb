{
 "cells": [
  {
   "metadata": {
    "ExecuteTime": {
     "end_time": "2025-05-28T19:10:06.657306Z",
     "start_time": "2025-05-28T19:10:06.653628Z"
    }
   },
   "cell_type": "code",
   "source": [
    "import numpy as np\n",
    "import matplotlib.pyplot as plt\n",
    "import librosa\n",
    "import os\n",
    "import seaborn as sns\n",
    "import csv\n",
    "import pandas as pd\n",
    "import re\n",
    "\n",
    "from glob import glob\n",
    "from numpy.ma.core import squeeze\n",
    "from pathlib import Path\n",
    "from sklearn.metrics import confusion_matrix\n",
    "from collections import Counter\n",
    "from scipy.signal import find_peaks\n",
    "from sklearn.model_selection import train_test_split\n",
    "from sklearn.naive_bayes import CategoricalNB\n",
    "from sklearn import tree\n",
    "from sklearn.metrics import accuracy_score, classification_report, confusion_matrix\n",
    "from sklearn.ensemble import RandomForestClassifier\n",
    "from sklearn.linear_model import LinearRegression\n",
    "import random\n",
    "from pydub import AudioSegment\n",
    "from pydub.playback import play\n",
    "import time\n",
    "from sklearn.ensemble import RandomForestRegressor"
   ],
   "id": "6b5ab89f024f077f",
   "outputs": [],
   "execution_count": 157
  },
  {
   "metadata": {
    "ExecuteTime": {
     "end_time": "2025-05-28T19:10:07.635289Z",
     "start_time": "2025-05-28T19:10:06.841224Z"
    }
   },
   "cell_type": "code",
   "source": "pip install pydub simpleaudio",
   "id": "a024691cedf5698",
   "outputs": [
    {
     "name": "stdout",
     "output_type": "stream",
     "text": [
      "Requirement already satisfied: pydub in /opt/anaconda3/envs/ML312/lib/python3.12/site-packages (0.25.1)\r\n",
      "Requirement already satisfied: simpleaudio in /opt/anaconda3/envs/ML312/lib/python3.12/site-packages (1.0.4)\r\n",
      "Note: you may need to restart the kernel to use updated packages.\n"
     ]
    }
   ],
   "execution_count": 158
  },
  {
   "metadata": {
    "ExecuteTime": {
     "end_time": "2025-05-28T19:10:07.660098Z",
     "start_time": "2025-05-28T19:10:07.652112Z"
    }
   },
   "cell_type": "code",
   "source": "data = pd.read_csv(\"/Users/shreyagupta/Desktop/Machine_Learning/Group_Project/Project_Tabla_Kaggle/tabla_predictions_kaggle_unlabelled_combined.csv\")",
   "id": "2d8f9bf4dce854ff",
   "outputs": [],
   "execution_count": 159
  },
  {
   "metadata": {
    "ExecuteTime": {
     "end_time": "2025-05-28T19:10:07.676491Z",
     "start_time": "2025-05-28T19:10:07.673306Z"
    }
   },
   "cell_type": "code",
   "source": "print(data)",
   "id": "a7e05a5d5d76eed3",
   "outputs": [
    {
     "name": "stdout",
     "output_type": "stream",
     "text": [
      "                Filename  Stroke_Index   Bol  Duration\n",
      "0    Addhatrital-069.wav             0   Dha   0.03200\n",
      "1    Addhatrital-069.wav             1  Dhin   0.38350\n",
      "2    Addhatrital-069.wav             2    Na   0.26617\n",
      "3    Addhatrital-069.wav             3   Dha   0.12750\n",
      "4    Addhatrital-069.wav             4   Dha   0.26617\n",
      "..                   ...           ...   ...       ...\n",
      "976     Teentaal-099.wav            12    Ta   0.28750\n",
      "977     Teentaal-099.wav            13  Dhin   0.29817\n",
      "978     Teentaal-099.wav            14  Dhin   0.29817\n",
      "979     Teentaal-099.wav            15   Dha   0.28750\n",
      "980     Teentaal-099.wav            16     T   0.24483\n",
      "\n",
      "[981 rows x 4 columns]\n"
     ]
    }
   ],
   "execution_count": 160
  },
  {
   "metadata": {
    "ExecuteTime": {
     "end_time": "2025-05-28T19:10:07.706572Z",
     "start_time": "2025-05-28T19:10:07.704889Z"
    }
   },
   "cell_type": "code",
   "source": [
    "\n",
    "\n",
    "\n",
    "print(len(data))"
   ],
   "id": "db33dfb107cd3f21",
   "outputs": [
    {
     "name": "stdout",
     "output_type": "stream",
     "text": [
      "981\n"
     ]
    }
   ],
   "execution_count": 161
  },
  {
   "metadata": {
    "ExecuteTime": {
     "end_time": "2025-05-28T19:10:07.741095Z",
     "start_time": "2025-05-28T19:10:07.739155Z"
    }
   },
   "cell_type": "code",
   "source": "note_labels = [\"Dha\", \"Dhin\", \"Ghe\", \"Kat\", \"Ki\", \"Na\", \"Re\", \"T\", \"Ta\", \"Ti\", \"Tun\", \"Tin\"]",
   "id": "203a5de8f856d5bb",
   "outputs": [],
   "execution_count": 162
  },
  {
   "metadata": {
    "ExecuteTime": {
     "end_time": "2025-05-28T19:10:08.201782Z",
     "start_time": "2025-05-28T19:10:08.159432Z"
    }
   },
   "cell_type": "code",
   "source": [
    "seq_data = []\n",
    "row = []\n",
    "for i in range(0,len(data)):\n",
    "    if data.iloc[i]['Stroke_Index'] == 0:\n",
    "        if len(row) > 0:\n",
    "            seq_data.append(row)\n",
    "        row = []\n",
    "    row.append((data.iloc[i]['Bol'],data.iloc[i]['Duration']))\n"
   ],
   "id": "882bbdafbbf95b38",
   "outputs": [],
   "execution_count": 163
  },
  {
   "metadata": {
    "ExecuteTime": {
     "end_time": "2025-05-28T19:10:08.248835Z",
     "start_time": "2025-05-28T19:10:08.246776Z"
    }
   },
   "cell_type": "code",
   "source": "print(seq_data[0])",
   "id": "ae901982bc007c76",
   "outputs": [
    {
     "name": "stdout",
     "output_type": "stream",
     "text": [
      "[('Dha', np.float64(0.032)), ('Dhin', np.float64(0.3835)), ('Na', np.float64(0.26617)), ('Dha', np.float64(0.1275)), ('Dha', np.float64(0.26617)), ('Dhin', np.float64(0.3835)), ('Na', np.float64(0.26617)), ('Dha', np.float64(0.13817)), ('Dha', np.float64(0.2555)), ('Tin', np.float64(0.3835)), ('T', np.float64(0.2555)), ('Ta', np.float64(0.13817)), ('Na', np.float64(0.26617)), ('Dhin', np.float64(0.3835)), ('Dhin', np.float64(0.2555)), ('Dha', np.float64(0.13817))]\n"
     ]
    }
   ],
   "execution_count": 164
  },
  {
   "metadata": {
    "ExecuteTime": {
     "end_time": "2025-05-28T19:10:08.339203Z",
     "start_time": "2025-05-28T19:10:08.336765Z"
    }
   },
   "cell_type": "code",
   "source": "'''given three notes, predict the next note'''",
   "id": "be57a1672a324310",
   "outputs": [
    {
     "data": {
      "text/plain": [
       "'given three notes, predict the next note'"
      ]
     },
     "execution_count": 165,
     "metadata": {},
     "output_type": "execute_result"
    }
   ],
   "execution_count": 165
  },
  {
   "metadata": {
    "ExecuteTime": {
     "end_time": "2025-05-28T19:10:08.546899Z",
     "start_time": "2025-05-28T19:10:08.544967Z"
    }
   },
   "cell_type": "code",
   "source": "print(len(seq_data))",
   "id": "7557ca3b9d423d88",
   "outputs": [
    {
     "name": "stdout",
     "output_type": "stream",
     "text": [
      "79\n"
     ]
    }
   ],
   "execution_count": 166
  },
  {
   "metadata": {
    "ExecuteTime": {
     "end_time": "2025-05-28T19:10:08.554752Z",
     "start_time": "2025-05-28T19:10:08.552189Z"
    }
   },
   "cell_type": "code",
   "source": [
    "model_data = []\n",
    "for i in range(0,len(seq_data)):\n",
    "\n",
    "    for j in range(0,len(seq_data[i])-3):\n",
    "        '''point'''\n",
    "        row = []\n",
    "        row.append(note_labels.index(seq_data[i][j][0]))\n",
    "        row.append(seq_data[i][j][1])\n",
    "        row.append(note_labels.index(seq_data[i][j+1][0]))\n",
    "        row.append(seq_data[i][j+1][1])\n",
    "        row.append(note_labels.index(seq_data[i][j+2][0]))\n",
    "        row.append(seq_data[i][j+2][1])\n",
    "        row.append(note_labels.index(seq_data[i][j+3][0]))\n",
    "        row.append(seq_data[i][j+3][1])\n",
    "        model_data.append(row)"
   ],
   "id": "a0b8d6c80c26fbb6",
   "outputs": [],
   "execution_count": 167
  },
  {
   "metadata": {
    "ExecuteTime": {
     "end_time": "2025-05-28T19:10:08.599821Z",
     "start_time": "2025-05-28T19:10:08.596185Z"
    }
   },
   "cell_type": "code",
   "source": "print((model_data))",
   "id": "27dea41a64d9f260",
   "outputs": [
    {
     "name": "stdout",
     "output_type": "stream",
     "text": [
      "[[0, np.float64(0.032), 1, np.float64(0.3835), 5, np.float64(0.26617), 0, np.float64(0.1275)], [1, np.float64(0.3835), 5, np.float64(0.26617), 0, np.float64(0.1275), 0, np.float64(0.26617)], [5, np.float64(0.26617), 0, np.float64(0.1275), 0, np.float64(0.26617), 1, np.float64(0.3835)], [0, np.float64(0.1275), 0, np.float64(0.26617), 1, np.float64(0.3835), 5, np.float64(0.26617)], [0, np.float64(0.26617), 1, np.float64(0.3835), 5, np.float64(0.26617), 0, np.float64(0.13817)], [1, np.float64(0.3835), 5, np.float64(0.26617), 0, np.float64(0.13817), 0, np.float64(0.2555)], [5, np.float64(0.26617), 0, np.float64(0.13817), 0, np.float64(0.2555), 11, np.float64(0.3835)], [0, np.float64(0.13817), 0, np.float64(0.2555), 11, np.float64(0.3835), 7, np.float64(0.2555)], [0, np.float64(0.2555), 11, np.float64(0.3835), 7, np.float64(0.2555), 8, np.float64(0.13817)], [11, np.float64(0.3835), 7, np.float64(0.2555), 8, np.float64(0.13817), 5, np.float64(0.26617)], [7, np.float64(0.2555), 8, np.float64(0.13817), 5, np.float64(0.26617), 1, np.float64(0.3835)], [8, np.float64(0.13817), 5, np.float64(0.26617), 1, np.float64(0.3835), 1, np.float64(0.2555)], [5, np.float64(0.26617), 1, np.float64(0.3835), 1, np.float64(0.2555), 0, np.float64(0.13817)], [0, np.float64(0.37333), 1, np.float64(0.26617), 5, np.float64(0.13817), 0, np.float64(0.2555)], [1, np.float64(0.26617), 5, np.float64(0.13817), 0, np.float64(0.2555), 0, np.float64(0.3835)], [5, np.float64(0.13817), 0, np.float64(0.2555), 0, np.float64(0.3835), 1, np.float64(0.26617)], [0, np.float64(0.2555), 0, np.float64(0.3835), 1, np.float64(0.26617), 1, np.float64(0.13817)], [0, np.float64(0.3835), 1, np.float64(0.26617), 1, np.float64(0.13817), 0, np.float64(0.26617)], [1, np.float64(0.26617), 1, np.float64(0.13817), 0, np.float64(0.26617), 0, np.float64(0.3835)], [1, np.float64(0.13817), 0, np.float64(0.26617), 0, np.float64(0.3835), 11, np.float64(0.2555)], [0, np.float64(0.26617), 0, np.float64(0.3835), 11, np.float64(0.2555), 7, np.float64(0.13817)], [0, np.float64(0.3835), 11, np.float64(0.2555), 7, np.float64(0.13817), 5, np.float64(0.26617)], [11, np.float64(0.2555), 7, np.float64(0.13817), 5, np.float64(0.26617), 5, np.float64(0.3835)], [7, np.float64(0.13817), 5, np.float64(0.26617), 5, np.float64(0.3835), 1, np.float64(0.2555)], [5, np.float64(0.26617), 5, np.float64(0.3835), 1, np.float64(0.2555), 5, np.float64(0.13817)], [5, np.float64(0.3835), 1, np.float64(0.2555), 5, np.float64(0.13817), 0, np.float64(0.27981)], [0, np.float64(0.36267), 1, np.float64(0.26617), 5, np.float64(0.13817), 0, np.float64(0.2555)], [1, np.float64(0.26617), 5, np.float64(0.13817), 0, np.float64(0.2555), 0, np.float64(0.3835)], [5, np.float64(0.13817), 0, np.float64(0.2555), 0, np.float64(0.3835), 1, np.float64(0.26617)], [0, np.float64(0.2555), 0, np.float64(0.3835), 1, np.float64(0.26617), 1, np.float64(0.13817)], [0, np.float64(0.3835), 1, np.float64(0.26617), 1, np.float64(0.13817), 0, np.float64(0.2555)], [1, np.float64(0.26617), 1, np.float64(0.13817), 0, np.float64(0.2555), 0, np.float64(0.3835)], [1, np.float64(0.13817), 0, np.float64(0.2555), 0, np.float64(0.3835), 11, np.float64(0.2555)], [0, np.float64(0.2555), 0, np.float64(0.3835), 11, np.float64(0.2555), 7, np.float64(0.13817)], [0, np.float64(0.3835), 11, np.float64(0.2555), 7, np.float64(0.13817), 5, np.float64(0.26617)], [11, np.float64(0.2555), 7, np.float64(0.13817), 5, np.float64(0.26617), 5, np.float64(0.3835)], [7, np.float64(0.13817), 5, np.float64(0.26617), 5, np.float64(0.3835), 1, np.float64(0.26617)], [5, np.float64(0.26617), 5, np.float64(0.3835), 1, np.float64(0.26617), 5, np.float64(0.13817)], [5, np.float64(0.3835), 1, np.float64(0.26617), 5, np.float64(0.13817), 0, np.float64(0.24904)], [0, np.float64(0.01067), 1, np.float64(0.36267), 5, np.float64(0.27683), 0, np.float64(0.1275)], [1, np.float64(0.36267), 5, np.float64(0.27683), 0, np.float64(0.1275), 0, np.float64(0.26617)], [5, np.float64(0.27683), 0, np.float64(0.1275), 0, np.float64(0.26617), 1, np.float64(0.3835)], [0, np.float64(0.1275), 0, np.float64(0.26617), 1, np.float64(0.3835), 5, np.float64(0.2555)], [0, np.float64(0.26617), 1, np.float64(0.3835), 5, np.float64(0.2555), 0, np.float64(0.13817)], [1, np.float64(0.3835), 5, np.float64(0.2555), 0, np.float64(0.13817), 0, np.float64(0.26617)], [5, np.float64(0.2555), 0, np.float64(0.13817), 0, np.float64(0.26617), 11, np.float64(0.37283)], [0, np.float64(0.13817), 0, np.float64(0.26617), 11, np.float64(0.37283), 7, np.float64(0.26617)], [0, np.float64(0.26617), 11, np.float64(0.37283), 7, np.float64(0.26617), 5, np.float64(0.13817)], [11, np.float64(0.37283), 7, np.float64(0.26617), 5, np.float64(0.13817), 5, np.float64(0.2555)], [7, np.float64(0.26617), 5, np.float64(0.13817), 5, np.float64(0.2555), 1, np.float64(0.3835)], [5, np.float64(0.13817), 5, np.float64(0.2555), 1, np.float64(0.3835), 5, np.float64(0.27683)], [5, np.float64(0.2555), 1, np.float64(0.3835), 5, np.float64(0.27683), 0, np.float64(0.1275)], [0, np.float64(0.36267), 1, np.float64(0.2555), 5, np.float64(0.13817), 0, np.float64(0.26617)], [1, np.float64(0.2555), 5, np.float64(0.13817), 0, np.float64(0.26617), 0, np.float64(0.37283)], [5, np.float64(0.13817), 0, np.float64(0.26617), 0, np.float64(0.37283), 1, np.float64(0.26617)], [0, np.float64(0.26617), 0, np.float64(0.37283), 1, np.float64(0.26617), 7, np.float64(0.13817)], [0, np.float64(0.37283), 1, np.float64(0.26617), 7, np.float64(0.13817), 0, np.float64(0.26617)], [1, np.float64(0.26617), 7, np.float64(0.13817), 0, np.float64(0.26617), 0, np.float64(0.3835)], [7, np.float64(0.13817), 0, np.float64(0.26617), 0, np.float64(0.3835), 11, np.float64(0.2555)], [0, np.float64(0.26617), 0, np.float64(0.3835), 11, np.float64(0.2555), 7, np.float64(0.13817)], [0, np.float64(0.3835), 11, np.float64(0.2555), 7, np.float64(0.13817), 5, np.float64(0.26617)], [11, np.float64(0.2555), 7, np.float64(0.13817), 5, np.float64(0.26617), 5, np.float64(0.3835)], [7, np.float64(0.13817), 5, np.float64(0.26617), 5, np.float64(0.3835), 1, np.float64(0.2555)], [5, np.float64(0.26617), 5, np.float64(0.3835), 1, np.float64(0.2555), 5, np.float64(0.13817)], [5, np.float64(0.3835), 1, np.float64(0.2555), 5, np.float64(0.13817), 0, np.float64(0.25002)], [0, np.float64(0.01067), 1, np.float64(0.37333), 1, np.float64(0.2555), 0, np.float64(0.14883)], [1, np.float64(0.37333), 1, np.float64(0.2555), 0, np.float64(0.14883), 0, np.float64(0.2555)], [1, np.float64(0.2555), 0, np.float64(0.14883), 0, np.float64(0.2555), 1, np.float64(0.3835)], [0, np.float64(0.14883), 0, np.float64(0.2555), 1, np.float64(0.3835), 2, np.float64(0.2555)], [0, np.float64(0.2555), 1, np.float64(0.3835), 2, np.float64(0.2555), 0, np.float64(0.13817)], [1, np.float64(0.3835), 2, np.float64(0.2555), 0, np.float64(0.13817), 0, np.float64(0.26617)], [2, np.float64(0.2555), 0, np.float64(0.13817), 0, np.float64(0.26617), 11, np.float64(0.3835)], [0, np.float64(0.13817), 0, np.float64(0.26617), 11, np.float64(0.3835), 7, np.float64(0.2555)], [0, np.float64(0.26617), 11, np.float64(0.3835), 7, np.float64(0.2555), 5, np.float64(0.13817)], [11, np.float64(0.3835), 7, np.float64(0.2555), 5, np.float64(0.13817), 5, np.float64(0.26617)], [7, np.float64(0.2555), 5, np.float64(0.13817), 5, np.float64(0.26617), 1, np.float64(0.37283)], [5, np.float64(0.13817), 5, np.float64(0.26617), 1, np.float64(0.37283), 2, np.float64(0.26617)], [5, np.float64(0.26617), 1, np.float64(0.37283), 2, np.float64(0.26617), 0, np.float64(0.14883)], [0, np.float64(0.01067), 1, np.float64(0.37333), 0, np.float64(0.3835), 0, np.float64(0.26617)], [1, np.float64(0.37333), 0, np.float64(0.3835), 0, np.float64(0.26617), 1, np.float64(0.37283)], [0, np.float64(0.3835), 0, np.float64(0.26617), 1, np.float64(0.37283), 7, np.float64(0.27683)], [0, np.float64(0.26617), 1, np.float64(0.37283), 7, np.float64(0.27683), 0, np.float64(0.1275)], [1, np.float64(0.37283), 7, np.float64(0.27683), 0, np.float64(0.1275), 0, np.float64(0.2555)], [7, np.float64(0.27683), 0, np.float64(0.1275), 0, np.float64(0.2555), 11, np.float64(0.3835)], [0, np.float64(0.1275), 0, np.float64(0.2555), 11, np.float64(0.3835), 7, np.float64(0.26617)], [0, np.float64(0.2555), 11, np.float64(0.3835), 7, np.float64(0.26617), 5, np.float64(0.13817)], [11, np.float64(0.3835), 7, np.float64(0.26617), 5, np.float64(0.13817), 5, np.float64(0.2555)], [7, np.float64(0.26617), 5, np.float64(0.13817), 5, np.float64(0.2555), 1, np.float64(0.3835)], [5, np.float64(0.13817), 5, np.float64(0.2555), 1, np.float64(0.3835), 2, np.float64(0.26617)], [5, np.float64(0.2555), 1, np.float64(0.3835), 2, np.float64(0.26617), 0, np.float64(0.13817)], [0, np.float64(0.01067), 1, np.float64(0.37333), 2, np.float64(0.27683), 0, np.float64(0.1275)], [1, np.float64(0.37333), 2, np.float64(0.27683), 0, np.float64(0.1275), 0, np.float64(0.26617)], [2, np.float64(0.27683), 0, np.float64(0.1275), 0, np.float64(0.26617), 1, np.float64(0.3835)], [0, np.float64(0.1275), 0, np.float64(0.26617), 1, np.float64(0.3835), 0, np.float64(0.37283)], [0, np.float64(0.26617), 1, np.float64(0.3835), 0, np.float64(0.37283), 0, np.float64(0.2555)], [1, np.float64(0.3835), 0, np.float64(0.37283), 0, np.float64(0.2555), 11, np.float64(0.3835)], [0, np.float64(0.37283), 0, np.float64(0.2555), 11, np.float64(0.3835), 7, np.float64(0.26617)], [0, np.float64(0.2555), 11, np.float64(0.3835), 7, np.float64(0.26617), 5, np.float64(0.13817)], [11, np.float64(0.3835), 7, np.float64(0.26617), 5, np.float64(0.13817), 5, np.float64(0.2555)], [7, np.float64(0.26617), 5, np.float64(0.13817), 5, np.float64(0.2555), 1, np.float64(0.3835)], [5, np.float64(0.13817), 5, np.float64(0.2555), 1, np.float64(0.3835), 7, np.float64(0.27683)], [5, np.float64(0.2555), 1, np.float64(0.3835), 7, np.float64(0.27683), 0, np.float64(0.1275)], [0, np.float64(0.01067), 1, np.float64(0.384), 0, np.float64(0.37283), 0, np.float64(0.2555)], [1, np.float64(0.384), 0, np.float64(0.37283), 0, np.float64(0.2555), 1, np.float64(0.3835)], [0, np.float64(0.37283), 0, np.float64(0.2555), 1, np.float64(0.3835), 0, np.float64(0.3835)], [0, np.float64(0.2555), 1, np.float64(0.3835), 0, np.float64(0.3835), 0, np.float64(0.26617)], [1, np.float64(0.3835), 0, np.float64(0.3835), 0, np.float64(0.26617), 11, np.float64(0.37283)], [0, np.float64(0.3835), 0, np.float64(0.26617), 11, np.float64(0.37283), 7, np.float64(0.26617)], [0, np.float64(0.26617), 11, np.float64(0.37283), 7, np.float64(0.26617), 5, np.float64(0.13817)], [11, np.float64(0.37283), 7, np.float64(0.26617), 5, np.float64(0.13817), 8, np.float64(0.26617)], [7, np.float64(0.26617), 5, np.float64(0.13817), 8, np.float64(0.26617), 1, np.float64(0.37283)], [5, np.float64(0.13817), 8, np.float64(0.26617), 1, np.float64(0.37283), 0, np.float64(0.3835)], [0, np.float64(0.01067), 1, np.float64(0.37333), 2, np.float64(0.27683), 0, np.float64(0.1275)], [1, np.float64(0.37333), 2, np.float64(0.27683), 0, np.float64(0.1275), 0, np.float64(0.26617)], [2, np.float64(0.27683), 0, np.float64(0.1275), 0, np.float64(0.26617), 1, np.float64(0.3835)], [0, np.float64(0.1275), 0, np.float64(0.26617), 1, np.float64(0.3835), 2, np.float64(0.2555)], [0, np.float64(0.26617), 1, np.float64(0.3835), 2, np.float64(0.2555), 0, np.float64(0.13817)], [1, np.float64(0.3835), 2, np.float64(0.2555), 0, np.float64(0.13817), 0, np.float64(0.26617)], [2, np.float64(0.2555), 0, np.float64(0.13817), 0, np.float64(0.26617), 11, np.float64(0.37283)], [0, np.float64(0.13817), 0, np.float64(0.26617), 11, np.float64(0.37283), 7, np.float64(0.26617)], [0, np.float64(0.26617), 11, np.float64(0.37283), 7, np.float64(0.26617), 5, np.float64(0.13817)], [11, np.float64(0.37283), 7, np.float64(0.26617), 5, np.float64(0.13817), 5, np.float64(0.26617)], [7, np.float64(0.26617), 5, np.float64(0.13817), 5, np.float64(0.26617), 1, np.float64(0.3835)], [5, np.float64(0.13817), 5, np.float64(0.26617), 1, np.float64(0.3835), 2, np.float64(0.2555)], [5, np.float64(0.26617), 1, np.float64(0.3835), 2, np.float64(0.2555), 0, np.float64(0.13817)], [1, np.float64(0.01067), 5, np.float64(0.256), 1, np.float64(0.13817), 1, np.float64(0.26617)], [5, np.float64(0.256), 1, np.float64(0.13817), 1, np.float64(0.26617), 5, np.float64(0.13817)], [1, np.float64(0.13817), 1, np.float64(0.26617), 5, np.float64(0.13817), 7, np.float64(0.13817)], [1, np.float64(0.26617), 5, np.float64(0.13817), 7, np.float64(0.13817), 11, np.float64(0.13817)], [5, np.float64(0.13817), 7, np.float64(0.13817), 11, np.float64(0.13817), 5, np.float64(0.26617)], [7, np.float64(0.13817), 11, np.float64(0.13817), 5, np.float64(0.26617), 11, np.float64(0.13817)], [11, np.float64(0.13817), 5, np.float64(0.26617), 11, np.float64(0.13817), 11, np.float64(0.2555)], [5, np.float64(0.26617), 11, np.float64(0.13817), 11, np.float64(0.2555), 5, np.float64(0.14883)], [11, np.float64(0.13817), 11, np.float64(0.2555), 5, np.float64(0.14883), 0, np.float64(0.13817)], [1, np.float64(0.01067), 5, np.float64(0.256), 1, np.float64(0.14883), 1, np.float64(0.2555)], [5, np.float64(0.256), 1, np.float64(0.14883), 1, np.float64(0.2555), 5, np.float64(0.13817)], [1, np.float64(0.14883), 1, np.float64(0.2555), 5, np.float64(0.13817), 0, np.float64(0.13817)], [1, np.float64(0.2555), 5, np.float64(0.13817), 0, np.float64(0.13817), 11, np.float64(0.13817)], [5, np.float64(0.13817), 0, np.float64(0.13817), 11, np.float64(0.13817), 5, np.float64(0.26617)], [0, np.float64(0.13817), 11, np.float64(0.13817), 5, np.float64(0.26617), 11, np.float64(0.13817)], [11, np.float64(0.13817), 5, np.float64(0.26617), 11, np.float64(0.13817), 11, np.float64(0.2555)], [5, np.float64(0.26617), 11, np.float64(0.13817), 11, np.float64(0.2555), 5, np.float64(0.14883)], [11, np.float64(0.13817), 11, np.float64(0.2555), 5, np.float64(0.14883), 0, np.float64(0.13817)], [1, np.float64(0.01067), 5, np.float64(0.24533), 0, np.float64(0.13817), 1, np.float64(0.26617)], [5, np.float64(0.24533), 0, np.float64(0.13817), 1, np.float64(0.26617), 5, np.float64(0.13817)], [0, np.float64(0.13817), 1, np.float64(0.26617), 5, np.float64(0.13817), 7, np.float64(0.14883)], [1, np.float64(0.26617), 5, np.float64(0.13817), 7, np.float64(0.14883), 11, np.float64(0.13817)], [5, np.float64(0.13817), 7, np.float64(0.14883), 11, np.float64(0.13817), 5, np.float64(0.2555)], [7, np.float64(0.14883), 11, np.float64(0.13817), 5, np.float64(0.2555), 11, np.float64(0.14883)], [11, np.float64(0.13817), 5, np.float64(0.2555), 11, np.float64(0.14883), 11, np.float64(0.2555)], [5, np.float64(0.2555), 11, np.float64(0.14883), 11, np.float64(0.2555), 5, np.float64(0.13817)], [11, np.float64(0.14883), 11, np.float64(0.2555), 5, np.float64(0.13817), 5, np.float64(0.13817)], [1, np.float64(0.032), 5, np.float64(0.2555), 1, np.float64(0.14883), 1, np.float64(0.2555)], [5, np.float64(0.2555), 1, np.float64(0.14883), 1, np.float64(0.2555), 5, np.float64(0.13817)], [1, np.float64(0.14883), 1, np.float64(0.2555), 5, np.float64(0.13817), 7, np.float64(0.14883)], [1, np.float64(0.2555), 5, np.float64(0.13817), 7, np.float64(0.14883), 11, np.float64(0.13817)], [5, np.float64(0.13817), 7, np.float64(0.14883), 11, np.float64(0.13817), 5, np.float64(0.2555)], [7, np.float64(0.14883), 11, np.float64(0.13817), 5, np.float64(0.2555), 11, np.float64(0.14883)], [11, np.float64(0.13817), 5, np.float64(0.2555), 11, np.float64(0.14883), 11, np.float64(0.2555)], [5, np.float64(0.2555), 11, np.float64(0.14883), 11, np.float64(0.2555), 5, np.float64(0.13817)], [11, np.float64(0.14883), 11, np.float64(0.2555), 5, np.float64(0.13817), 5, np.float64(0.13817)], [1, np.float64(0.24533), 5, np.float64(0.13817), 1, np.float64(0.2555), 1, np.float64(0.13817)], [5, np.float64(0.13817), 1, np.float64(0.2555), 1, np.float64(0.13817), 5, np.float64(0.14883)], [1, np.float64(0.2555), 1, np.float64(0.13817), 5, np.float64(0.14883), 7, np.float64(0.13817)], [1, np.float64(0.13817), 5, np.float64(0.14883), 7, np.float64(0.13817), 11, np.float64(0.2555)], [5, np.float64(0.14883), 7, np.float64(0.13817), 11, np.float64(0.2555), 5, np.float64(0.14883)], [7, np.float64(0.13817), 11, np.float64(0.2555), 5, np.float64(0.14883), 11, np.float64(0.2555)], [11, np.float64(0.2555), 5, np.float64(0.14883), 11, np.float64(0.2555), 11, np.float64(0.14883)], [5, np.float64(0.14883), 11, np.float64(0.2555), 11, np.float64(0.14883), 5, np.float64(0.13817)], [11, np.float64(0.2555), 11, np.float64(0.14883), 5, np.float64(0.13817), 0, np.float64(0.1464)], [1, np.float64(0.07467), 5, np.float64(0.2555), 0, np.float64(0.14883), 1, np.float64(0.26617)], [5, np.float64(0.2555), 0, np.float64(0.14883), 1, np.float64(0.26617), 5, np.float64(0.13817)], [0, np.float64(0.14883), 1, np.float64(0.26617), 5, np.float64(0.13817), 7, np.float64(0.13817)], [1, np.float64(0.26617), 5, np.float64(0.13817), 7, np.float64(0.13817), 11, np.float64(0.13817)], [5, np.float64(0.13817), 7, np.float64(0.13817), 11, np.float64(0.13817), 5, np.float64(0.2555)], [7, np.float64(0.13817), 11, np.float64(0.13817), 5, np.float64(0.2555), 11, np.float64(0.14883)], [11, np.float64(0.13817), 5, np.float64(0.2555), 11, np.float64(0.14883), 11, np.float64(0.2555)], [5, np.float64(0.2555), 11, np.float64(0.14883), 11, np.float64(0.2555), 5, np.float64(0.13817)], [11, np.float64(0.14883), 11, np.float64(0.2555), 5, np.float64(0.13817), 7, np.float64(0.14883)], [1, np.float64(0.01067), 5, np.float64(0.24533), 0, np.float64(0.13817), 1, np.float64(0.26617)], [5, np.float64(0.24533), 0, np.float64(0.13817), 1, np.float64(0.26617), 5, np.float64(0.13817)], [0, np.float64(0.13817), 1, np.float64(0.26617), 5, np.float64(0.13817), 7, np.float64(0.13817)], [1, np.float64(0.26617), 5, np.float64(0.13817), 7, np.float64(0.13817), 11, np.float64(0.14883)], [5, np.float64(0.13817), 7, np.float64(0.13817), 11, np.float64(0.14883), 5, np.float64(0.2555)], [7, np.float64(0.13817), 11, np.float64(0.14883), 5, np.float64(0.2555), 11, np.float64(0.13817)], [11, np.float64(0.14883), 5, np.float64(0.2555), 11, np.float64(0.13817), 11, np.float64(0.26617)], [5, np.float64(0.2555), 11, np.float64(0.13817), 11, np.float64(0.26617), 5, np.float64(0.13817)], [11, np.float64(0.13817), 11, np.float64(0.26617), 5, np.float64(0.13817), 0, np.float64(0.13817)], [1, np.float64(0.02133), 5, np.float64(0.2555), 0, np.float64(0.14883), 1, np.float64(0.2555)], [5, np.float64(0.2555), 0, np.float64(0.14883), 1, np.float64(0.2555), 5, np.float64(0.13817)], [0, np.float64(0.14883), 1, np.float64(0.2555), 5, np.float64(0.13817), 7, np.float64(0.14883)], [1, np.float64(0.2555), 5, np.float64(0.13817), 7, np.float64(0.14883), 11, np.float64(0.13817)], [5, np.float64(0.13817), 7, np.float64(0.14883), 11, np.float64(0.13817), 5, np.float64(0.2555)], [7, np.float64(0.14883), 11, np.float64(0.13817), 5, np.float64(0.2555), 11, np.float64(0.14883)], [11, np.float64(0.13817), 5, np.float64(0.2555), 11, np.float64(0.14883), 11, np.float64(0.2555)], [5, np.float64(0.2555), 11, np.float64(0.14883), 11, np.float64(0.2555), 5, np.float64(0.13817)], [11, np.float64(0.14883), 11, np.float64(0.2555), 5, np.float64(0.13817), 0, np.float64(0.13817)], [1, np.float64(0.01067), 5, np.float64(0.24533), 0, np.float64(0.14883), 1, np.float64(0.2555)], [5, np.float64(0.24533), 0, np.float64(0.14883), 1, np.float64(0.2555), 5, np.float64(0.13817)], [0, np.float64(0.14883), 1, np.float64(0.2555), 5, np.float64(0.13817), 5, np.float64(0.13817)], [1, np.float64(0.2555), 5, np.float64(0.13817), 5, np.float64(0.13817), 11, np.float64(0.14883)], [5, np.float64(0.13817), 5, np.float64(0.13817), 11, np.float64(0.14883), 5, np.float64(0.2555)], [5, np.float64(0.13817), 11, np.float64(0.14883), 5, np.float64(0.2555), 11, np.float64(0.13817)], [11, np.float64(0.14883), 5, np.float64(0.2555), 11, np.float64(0.13817), 11, np.float64(0.26617)], [5, np.float64(0.2555), 11, np.float64(0.13817), 11, np.float64(0.26617), 5, np.float64(0.13817)], [11, np.float64(0.13817), 11, np.float64(0.26617), 5, np.float64(0.13817), 2, np.float64(0.14883)], [1, np.float64(0.032), 5, np.float64(0.2555), 0, np.float64(0.14883), 1, np.float64(0.2555)], [5, np.float64(0.2555), 0, np.float64(0.14883), 1, np.float64(0.2555), 5, np.float64(0.13817)], [0, np.float64(0.14883), 1, np.float64(0.2555), 5, np.float64(0.13817), 7, np.float64(0.14883)], [1, np.float64(0.2555), 5, np.float64(0.13817), 7, np.float64(0.14883), 11, np.float64(0.13817)], [5, np.float64(0.13817), 7, np.float64(0.14883), 11, np.float64(0.13817), 5, np.float64(0.2555)], [7, np.float64(0.14883), 11, np.float64(0.13817), 5, np.float64(0.2555), 11, np.float64(0.14883)], [11, np.float64(0.13817), 5, np.float64(0.2555), 11, np.float64(0.14883), 11, np.float64(0.2555)], [5, np.float64(0.2555), 11, np.float64(0.14883), 11, np.float64(0.2555), 5, np.float64(0.13817)], [11, np.float64(0.14883), 11, np.float64(0.2555), 5, np.float64(0.13817), 7, np.float64(0.13817)], [11, np.float64(0.2555), 5, np.float64(0.13817), 7, np.float64(0.13817), 7, np.float64(0.13817)], [0, np.float64(0.17067), 1, np.float64(0.2555), 5, np.float64(0.26617), 0, np.float64(0.2555)], [1, np.float64(0.2555), 5, np.float64(0.26617), 0, np.float64(0.2555), 11, np.float64(0.26617)], [5, np.float64(0.26617), 0, np.float64(0.2555), 11, np.float64(0.26617), 8, np.float64(0.2555)], [0, np.float64(0.192), 1, np.float64(0.26617), 5, np.float64(0.2555), 0, np.float64(0.26617)], [1, np.float64(0.26617), 5, np.float64(0.2555), 0, np.float64(0.26617), 11, np.float64(0.2555)], [5, np.float64(0.2555), 0, np.float64(0.26617), 11, np.float64(0.2555), 8, np.float64(0.2555)], [0, np.float64(0.21333), 1, np.float64(0.2555), 5, np.float64(0.26617), 0, np.float64(0.2555)], [1, np.float64(0.2555), 5, np.float64(0.26617), 0, np.float64(0.2555), 11, np.float64(0.2555)], [5, np.float64(0.26617), 0, np.float64(0.2555), 11, np.float64(0.2555), 5, np.float64(0.26617)], [0, np.float64(0.20267), 1, np.float64(0.26617), 5, np.float64(0.26617), 0, np.float64(0.2555)], [1, np.float64(0.26617), 5, np.float64(0.26617), 0, np.float64(0.2555), 11, np.float64(0.2555)], [5, np.float64(0.26617), 0, np.float64(0.2555), 11, np.float64(0.2555), 5, np.float64(0.26617)], [0, np.float64(0.192), 1, np.float64(0.26617), 5, np.float64(0.2555), 0, np.float64(0.26617)], [1, np.float64(0.26617), 5, np.float64(0.2555), 0, np.float64(0.26617), 11, np.float64(0.26617)], [5, np.float64(0.2555), 0, np.float64(0.26617), 11, np.float64(0.26617), 8, np.float64(0.2555)], [0, np.float64(0.192), 1, np.float64(0.26617), 5, np.float64(0.2555), 0, np.float64(0.2555)], [1, np.float64(0.26617), 5, np.float64(0.2555), 0, np.float64(0.2555), 11, np.float64(0.26617)], [5, np.float64(0.2555), 0, np.float64(0.2555), 11, np.float64(0.26617), 8, np.float64(0.2555)], [0, np.float64(0.224), 1, np.float64(0.26617), 5, np.float64(0.2555), 0, np.float64(0.2555)], [1, np.float64(0.26617), 5, np.float64(0.2555), 0, np.float64(0.2555), 11, np.float64(0.26617)], [5, np.float64(0.2555), 0, np.float64(0.2555), 11, np.float64(0.26617), 8, np.float64(0.2555)], [0, np.float64(0.192), 1, np.float64(0.26617), 5, np.float64(0.2555), 0, np.float64(0.26617)], [1, np.float64(0.26617), 5, np.float64(0.2555), 0, np.float64(0.26617), 11, np.float64(0.2555)], [5, np.float64(0.2555), 0, np.float64(0.26617), 11, np.float64(0.2555), 8, np.float64(0.2555)], [0, np.float64(0.21333), 1, np.float64(0.26617), 5, np.float64(0.2555), 0, np.float64(0.26617)], [1, np.float64(0.26617), 5, np.float64(0.2555), 0, np.float64(0.26617), 11, np.float64(0.26617)], [5, np.float64(0.2555), 0, np.float64(0.26617), 11, np.float64(0.26617), 8, np.float64(0.2555)], [0, np.float64(0.192), 1, np.float64(0.26617), 5, np.float64(0.2555), 0, np.float64(0.2555)], [1, np.float64(0.26617), 5, np.float64(0.2555), 0, np.float64(0.2555), 11, np.float64(0.26617)], [5, np.float64(0.2555), 0, np.float64(0.2555), 11, np.float64(0.26617), 8, np.float64(0.2555)], [0, np.float64(0.02133), 1, np.float64(0.23417), 0, np.float64(0.4155), 0, np.float64(0.21283)], [1, np.float64(0.23417), 0, np.float64(0.4155), 0, np.float64(0.21283), 11, np.float64(0.2235)], [0, np.float64(0.4155), 0, np.float64(0.21283), 11, np.float64(0.2235), 8, np.float64(0.42617)], [0, np.float64(0.21283), 11, np.float64(0.2235), 8, np.float64(0.42617), 11, np.float64(0.2235)], [11, np.float64(0.2235), 8, np.float64(0.42617), 11, np.float64(0.2235), 0, np.float64(0.42617)], [8, np.float64(0.42617), 11, np.float64(0.2235), 0, np.float64(0.42617), 0, np.float64(0.21283)], [11, np.float64(0.2235), 0, np.float64(0.42617), 0, np.float64(0.21283), 1, np.float64(0.2235)], [0, np.float64(0.01067), 1, np.float64(0.224), 0, np.float64(0.42617), 0, np.float64(0.21283)], [1, np.float64(0.224), 0, np.float64(0.42617), 0, np.float64(0.21283), 11, np.float64(0.2235)], [0, np.float64(0.42617), 0, np.float64(0.21283), 11, np.float64(0.2235), 8, np.float64(0.42617)], [0, np.float64(0.21283), 11, np.float64(0.2235), 8, np.float64(0.42617), 11, np.float64(0.21283)], [11, np.float64(0.2235), 8, np.float64(0.42617), 11, np.float64(0.21283), 0, np.float64(0.42617)], [8, np.float64(0.42617), 11, np.float64(0.21283), 0, np.float64(0.42617), 0, np.float64(0.2235)], [11, np.float64(0.21283), 0, np.float64(0.42617), 0, np.float64(0.2235), 1, np.float64(0.2235)], [0, np.float64(0.02133), 1, np.float64(0.2235), 0, np.float64(0.4155), 0, np.float64(0.2235)], [1, np.float64(0.2235), 0, np.float64(0.4155), 0, np.float64(0.2235), 11, np.float64(0.2235)], [0, np.float64(0.4155), 0, np.float64(0.2235), 11, np.float64(0.2235), 8, np.float64(0.4155)], [0, np.float64(0.2235), 11, np.float64(0.2235), 8, np.float64(0.4155), 11, np.float64(0.2235)], [11, np.float64(0.2235), 8, np.float64(0.4155), 11, np.float64(0.2235), 0, np.float64(0.42617)], [8, np.float64(0.4155), 11, np.float64(0.2235), 0, np.float64(0.42617), 0, np.float64(0.2235)], [11, np.float64(0.2235), 0, np.float64(0.42617), 0, np.float64(0.2235), 1, np.float64(0.2235)], [0, np.float64(0.02133), 1, np.float64(0.2235), 0, np.float64(0.4155), 0, np.float64(0.2235)], [1, np.float64(0.2235), 0, np.float64(0.4155), 0, np.float64(0.2235), 11, np.float64(0.2235)], [0, np.float64(0.4155), 0, np.float64(0.2235), 11, np.float64(0.2235), 8, np.float64(0.4155)], [0, np.float64(0.2235), 11, np.float64(0.2235), 8, np.float64(0.4155), 11, np.float64(0.2235)], [11, np.float64(0.2235), 8, np.float64(0.4155), 11, np.float64(0.2235), 0, np.float64(0.42617)], [8, np.float64(0.4155), 11, np.float64(0.2235), 0, np.float64(0.42617), 0, np.float64(0.21283)], [11, np.float64(0.2235), 0, np.float64(0.42617), 0, np.float64(0.21283), 1, np.float64(0.23417)], [0, np.float64(0.02133), 1, np.float64(0.2235), 0, np.float64(0.42617), 0, np.float64(0.21283)], [1, np.float64(0.2235), 0, np.float64(0.42617), 0, np.float64(0.21283), 11, np.float64(0.2235)], [0, np.float64(0.42617), 0, np.float64(0.21283), 11, np.float64(0.2235), 8, np.float64(0.42617)], [0, np.float64(0.21283), 11, np.float64(0.2235), 8, np.float64(0.42617), 11, np.float64(0.21283)], [11, np.float64(0.2235), 8, np.float64(0.42617), 11, np.float64(0.21283), 0, np.float64(0.42617)], [8, np.float64(0.42617), 11, np.float64(0.21283), 0, np.float64(0.42617), 0, np.float64(0.2235)], [11, np.float64(0.21283), 0, np.float64(0.42617), 0, np.float64(0.2235), 1, np.float64(0.2235)], [0, np.float64(0.01067), 1, np.float64(0.21333), 0, np.float64(0.42617), 0, np.float64(0.2235)], [1, np.float64(0.21333), 0, np.float64(0.42617), 0, np.float64(0.2235), 11, np.float64(0.2235)], [0, np.float64(0.42617), 0, np.float64(0.2235), 11, np.float64(0.2235), 8, np.float64(0.4155)], [0, np.float64(0.2235), 11, np.float64(0.2235), 8, np.float64(0.4155), 11, np.float64(0.2235)], [11, np.float64(0.2235), 8, np.float64(0.4155), 11, np.float64(0.2235), 0, np.float64(0.4155)], [8, np.float64(0.4155), 11, np.float64(0.2235), 0, np.float64(0.4155), 0, np.float64(0.2235)], [11, np.float64(0.2235), 0, np.float64(0.4155), 0, np.float64(0.2235), 1, np.float64(0.2235)], [0, np.float64(0.02133), 1, np.float64(0.2235), 0, np.float64(0.4155), 0, np.float64(0.2235)], [1, np.float64(0.2235), 0, np.float64(0.4155), 0, np.float64(0.2235), 11, np.float64(0.2235)], [0, np.float64(0.4155), 0, np.float64(0.2235), 11, np.float64(0.2235), 8, np.float64(0.42617)], [0, np.float64(0.2235), 11, np.float64(0.2235), 8, np.float64(0.42617), 11, np.float64(0.21283)], [11, np.float64(0.2235), 8, np.float64(0.42617), 11, np.float64(0.21283), 0, np.float64(0.42617)], [8, np.float64(0.42617), 11, np.float64(0.21283), 0, np.float64(0.42617), 0, np.float64(0.2235)], [11, np.float64(0.21283), 0, np.float64(0.42617), 0, np.float64(0.2235), 1, np.float64(0.2235)], [0, np.float64(0.01067), 1, np.float64(0.224), 0, np.float64(0.4155), 0, np.float64(0.2235)], [1, np.float64(0.224), 0, np.float64(0.4155), 0, np.float64(0.2235), 11, np.float64(0.21283)], [0, np.float64(0.4155), 0, np.float64(0.2235), 11, np.float64(0.21283), 8, np.float64(0.42617)], [0, np.float64(0.2235), 11, np.float64(0.21283), 8, np.float64(0.42617), 11, np.float64(0.2235)], [11, np.float64(0.21283), 8, np.float64(0.42617), 11, np.float64(0.2235), 0, np.float64(0.42617)], [8, np.float64(0.42617), 11, np.float64(0.2235), 0, np.float64(0.42617), 0, np.float64(0.2235)], [11, np.float64(0.2235), 0, np.float64(0.42617), 0, np.float64(0.2235), 1, np.float64(0.21283)], [0, np.float64(0.02133), 0, np.float64(0.2235), 0, np.float64(0.4155), 0, np.float64(0.2235)], [0, np.float64(0.2235), 0, np.float64(0.4155), 0, np.float64(0.2235), 11, np.float64(0.2235)], [0, np.float64(0.4155), 0, np.float64(0.2235), 11, np.float64(0.2235), 8, np.float64(0.4155)], [0, np.float64(0.2235), 11, np.float64(0.2235), 8, np.float64(0.4155), 11, np.float64(0.2235)], [11, np.float64(0.2235), 8, np.float64(0.4155), 11, np.float64(0.2235), 0, np.float64(0.42617)], [8, np.float64(0.4155), 11, np.float64(0.2235), 0, np.float64(0.42617), 0, np.float64(0.2235)], [11, np.float64(0.2235), 0, np.float64(0.42617), 0, np.float64(0.2235), 0, np.float64(0.2235)], [0, np.float64(0.01067), 1, np.float64(0.21333), 0, np.float64(0.4155), 0, np.float64(0.2235)], [1, np.float64(0.21333), 0, np.float64(0.4155), 0, np.float64(0.2235), 11, np.float64(0.2235)], [0, np.float64(0.4155), 0, np.float64(0.2235), 11, np.float64(0.2235), 8, np.float64(0.4155)], [0, np.float64(0.2235), 11, np.float64(0.2235), 8, np.float64(0.4155), 11, np.float64(0.23417)], [11, np.float64(0.2235), 8, np.float64(0.4155), 11, np.float64(0.23417), 0, np.float64(0.4155)], [8, np.float64(0.4155), 11, np.float64(0.23417), 0, np.float64(0.4155), 0, np.float64(0.2235)], [11, np.float64(0.23417), 0, np.float64(0.4155), 0, np.float64(0.2235), 1, np.float64(0.2235)], [1, np.float64(0.04267), 1, np.float64(0.26617), 0, np.float64(0.2555), 7, np.float64(0.14883)], [1, np.float64(0.26617), 0, np.float64(0.2555), 7, np.float64(0.14883), 9, np.float64(0.13817)], [0, np.float64(0.2555), 7, np.float64(0.14883), 9, np.float64(0.13817), 9, np.float64(0.13817)], [7, np.float64(0.14883), 9, np.float64(0.13817), 9, np.float64(0.13817), 10, np.float64(0.13817)], [9, np.float64(0.13817), 9, np.float64(0.13817), 10, np.float64(0.13817), 5, np.float64(0.2555)], [9, np.float64(0.13817), 10, np.float64(0.13817), 5, np.float64(0.2555), 3, np.float64(0.26617)], [10, np.float64(0.13817), 5, np.float64(0.2555), 3, np.float64(0.26617), 8, np.float64(0.26617)], [5, np.float64(0.2555), 3, np.float64(0.26617), 8, np.float64(0.26617), 0, np.float64(0.2555)], [3, np.float64(0.26617), 8, np.float64(0.26617), 0, np.float64(0.2555), 7, np.float64(0.14883)], [8, np.float64(0.26617), 0, np.float64(0.2555), 7, np.float64(0.14883), 9, np.float64(0.13817)], [0, np.float64(0.2555), 7, np.float64(0.14883), 9, np.float64(0.13817), 9, np.float64(0.1275)], [7, np.float64(0.14883), 9, np.float64(0.13817), 9, np.float64(0.1275), 1, np.float64(0.14883)], [9, np.float64(0.13817), 9, np.float64(0.1275), 1, np.float64(0.14883), 5, np.float64(0.2555)], [1, np.float64(0.05333), 1, np.float64(0.2555), 0, np.float64(0.26617), 7, np.float64(0.14883)], [1, np.float64(0.2555), 0, np.float64(0.26617), 7, np.float64(0.14883), 9, np.float64(0.1275)], [0, np.float64(0.26617), 7, np.float64(0.14883), 9, np.float64(0.1275), 9, np.float64(0.14883)], [7, np.float64(0.14883), 9, np.float64(0.1275), 9, np.float64(0.14883), 10, np.float64(0.13817)], [9, np.float64(0.1275), 9, np.float64(0.14883), 10, np.float64(0.13817), 5, np.float64(0.26617)], [9, np.float64(0.14883), 10, np.float64(0.13817), 5, np.float64(0.26617), 3, np.float64(0.2555)], [10, np.float64(0.13817), 5, np.float64(0.26617), 3, np.float64(0.2555), 8, np.float64(0.2555)], [5, np.float64(0.26617), 3, np.float64(0.2555), 8, np.float64(0.2555), 0, np.float64(0.26617)], [3, np.float64(0.2555), 8, np.float64(0.2555), 0, np.float64(0.26617), 0, np.float64(0.13817)], [8, np.float64(0.2555), 0, np.float64(0.26617), 0, np.float64(0.13817), 9, np.float64(0.13817)], [0, np.float64(0.26617), 0, np.float64(0.13817), 9, np.float64(0.13817), 6, np.float64(0.14883)], [0, np.float64(0.13817), 9, np.float64(0.13817), 6, np.float64(0.14883), 1, np.float64(0.13817)], [9, np.float64(0.13817), 6, np.float64(0.14883), 1, np.float64(0.13817), 5, np.float64(0.2555)], [6, np.float64(0.14883), 1, np.float64(0.13817), 5, np.float64(0.2555), 7, np.float64(0.2555)], [1, np.float64(0.01067), 1, np.float64(0.256), 0, np.float64(0.2555), 7, np.float64(0.14883)], [1, np.float64(0.256), 0, np.float64(0.2555), 7, np.float64(0.14883), 9, np.float64(0.13817)], [0, np.float64(0.2555), 7, np.float64(0.14883), 9, np.float64(0.13817), 7, np.float64(0.13817)], [7, np.float64(0.14883), 9, np.float64(0.13817), 7, np.float64(0.13817), 10, np.float64(0.14883)], [9, np.float64(0.13817), 7, np.float64(0.13817), 10, np.float64(0.14883), 5, np.float64(0.2555)], [7, np.float64(0.13817), 10, np.float64(0.14883), 5, np.float64(0.2555), 7, np.float64(0.2555)], [10, np.float64(0.14883), 5, np.float64(0.2555), 7, np.float64(0.2555), 8, np.float64(0.26617)], [5, np.float64(0.2555), 7, np.float64(0.2555), 8, np.float64(0.26617), 0, np.float64(0.2555)], [7, np.float64(0.2555), 8, np.float64(0.26617), 0, np.float64(0.2555), 0, np.float64(0.14883)], [8, np.float64(0.26617), 0, np.float64(0.2555), 0, np.float64(0.14883), 9, np.float64(0.13817)], [0, np.float64(0.2555), 0, np.float64(0.14883), 9, np.float64(0.13817), 7, np.float64(0.13817)], [0, np.float64(0.14883), 9, np.float64(0.13817), 7, np.float64(0.13817), 1, np.float64(0.14883)], [9, np.float64(0.13817), 7, np.float64(0.13817), 1, np.float64(0.14883), 5, np.float64(0.2555)], [1, np.float64(0.01067), 1, np.float64(0.256), 0, np.float64(0.26617), 7, np.float64(0.13817)], [1, np.float64(0.256), 0, np.float64(0.26617), 7, np.float64(0.13817), 9, np.float64(0.13817)], [0, np.float64(0.26617), 7, np.float64(0.13817), 9, np.float64(0.13817), 6, np.float64(0.13817)], [7, np.float64(0.13817), 9, np.float64(0.13817), 6, np.float64(0.13817), 10, np.float64(0.14883)], [9, np.float64(0.13817), 6, np.float64(0.13817), 10, np.float64(0.14883), 5, np.float64(0.2555)], [6, np.float64(0.13817), 10, np.float64(0.14883), 5, np.float64(0.2555), 3, np.float64(0.26617)], [10, np.float64(0.14883), 5, np.float64(0.2555), 3, np.float64(0.26617), 8, np.float64(0.2555)], [5, np.float64(0.2555), 3, np.float64(0.26617), 8, np.float64(0.2555), 0, np.float64(0.26617)], [3, np.float64(0.26617), 8, np.float64(0.2555), 0, np.float64(0.26617), 7, np.float64(0.14883)], [8, np.float64(0.2555), 0, np.float64(0.26617), 7, np.float64(0.14883), 9, np.float64(0.1275)], [0, np.float64(0.26617), 7, np.float64(0.14883), 9, np.float64(0.1275), 7, np.float64(0.13817)], [7, np.float64(0.14883), 9, np.float64(0.1275), 7, np.float64(0.13817), 1, np.float64(0.14883)], [9, np.float64(0.1275), 7, np.float64(0.13817), 1, np.float64(0.14883), 5, np.float64(0.2555)], [1, np.float64(0.01067), 1, np.float64(0.24533), 0, np.float64(0.26617), 7, np.float64(0.14883)], [1, np.float64(0.24533), 0, np.float64(0.26617), 7, np.float64(0.14883), 9, np.float64(0.1275)], [0, np.float64(0.26617), 7, np.float64(0.14883), 9, np.float64(0.1275), 7, np.float64(0.14883)], [7, np.float64(0.14883), 9, np.float64(0.1275), 7, np.float64(0.14883), 10, np.float64(0.13817)], [9, np.float64(0.1275), 7, np.float64(0.14883), 10, np.float64(0.13817), 5, np.float64(0.2555)], [7, np.float64(0.14883), 10, np.float64(0.13817), 5, np.float64(0.2555), 7, np.float64(0.26617)], [10, np.float64(0.13817), 5, np.float64(0.2555), 7, np.float64(0.26617), 7, np.float64(0.2555)], [5, np.float64(0.2555), 7, np.float64(0.26617), 7, np.float64(0.2555), 0, np.float64(0.26617)], [7, np.float64(0.26617), 7, np.float64(0.2555), 0, np.float64(0.26617), 7, np.float64(0.13817)], [7, np.float64(0.2555), 0, np.float64(0.26617), 7, np.float64(0.13817), 9, np.float64(0.13817)], [0, np.float64(0.26617), 7, np.float64(0.13817), 9, np.float64(0.13817), 6, np.float64(0.14883)], [7, np.float64(0.13817), 9, np.float64(0.13817), 6, np.float64(0.14883), 1, np.float64(0.13817)], [9, np.float64(0.13817), 6, np.float64(0.14883), 1, np.float64(0.13817), 5, np.float64(0.2555)], [1, np.float64(0.01067), 1, np.float64(0.256), 0, np.float64(0.2555), 7, np.float64(0.14883)], [1, np.float64(0.256), 0, np.float64(0.2555), 7, np.float64(0.14883), 9, np.float64(0.1275)], [0, np.float64(0.2555), 7, np.float64(0.14883), 9, np.float64(0.1275), 7, np.float64(0.14883)], [7, np.float64(0.14883), 9, np.float64(0.1275), 7, np.float64(0.14883), 10, np.float64(0.14883)], [9, np.float64(0.1275), 7, np.float64(0.14883), 10, np.float64(0.14883), 5, np.float64(0.2555)], [7, np.float64(0.14883), 10, np.float64(0.14883), 5, np.float64(0.2555), 7, np.float64(0.2555)], [10, np.float64(0.14883), 5, np.float64(0.2555), 7, np.float64(0.2555), 7, np.float64(0.26617)], [5, np.float64(0.2555), 7, np.float64(0.2555), 7, np.float64(0.26617), 0, np.float64(0.2555)], [7, np.float64(0.2555), 7, np.float64(0.26617), 0, np.float64(0.2555), 7, np.float64(0.14883)], [7, np.float64(0.26617), 0, np.float64(0.2555), 7, np.float64(0.14883), 9, np.float64(0.1275)], [0, np.float64(0.2555), 7, np.float64(0.14883), 9, np.float64(0.1275), 7, np.float64(0.14883)], [7, np.float64(0.14883), 9, np.float64(0.1275), 7, np.float64(0.14883), 1, np.float64(0.14883)], [9, np.float64(0.1275), 7, np.float64(0.14883), 1, np.float64(0.14883), 5, np.float64(0.2555)], [1, np.float64(0.032), 1, np.float64(0.26617), 0, np.float64(0.26617), 7, np.float64(0.13817)], [1, np.float64(0.26617), 0, np.float64(0.26617), 7, np.float64(0.13817), 9, np.float64(0.13817)], [0, np.float64(0.26617), 7, np.float64(0.13817), 9, np.float64(0.13817), 9, np.float64(0.13817)], [7, np.float64(0.13817), 9, np.float64(0.13817), 9, np.float64(0.13817), 10, np.float64(0.13817)], [9, np.float64(0.13817), 9, np.float64(0.13817), 10, np.float64(0.13817), 5, np.float64(0.26617)], [9, np.float64(0.13817), 10, np.float64(0.13817), 5, np.float64(0.26617), 3, np.float64(0.2555)], [10, np.float64(0.13817), 5, np.float64(0.26617), 3, np.float64(0.2555), 8, np.float64(0.26617)], [5, np.float64(0.26617), 3, np.float64(0.2555), 8, np.float64(0.26617), 0, np.float64(0.2555)], [3, np.float64(0.2555), 8, np.float64(0.26617), 0, np.float64(0.2555), 7, np.float64(0.14883)], [8, np.float64(0.26617), 0, np.float64(0.2555), 7, np.float64(0.14883), 9, np.float64(0.13817)], [0, np.float64(0.2555), 7, np.float64(0.14883), 9, np.float64(0.13817), 1, np.float64(0.13817)], [7, np.float64(0.14883), 9, np.float64(0.13817), 1, np.float64(0.13817), 1, np.float64(0.14883)], [9, np.float64(0.13817), 1, np.float64(0.13817), 1, np.float64(0.14883), 5, np.float64(0.2555)], [1, np.float64(0.05333), 1, np.float64(0.2555), 0, np.float64(0.26617), 7, np.float64(0.13817)], [1, np.float64(0.2555), 0, np.float64(0.26617), 7, np.float64(0.13817), 9, np.float64(0.13817)], [0, np.float64(0.26617), 7, np.float64(0.13817), 9, np.float64(0.13817), 6, np.float64(0.14883)], [7, np.float64(0.13817), 9, np.float64(0.13817), 6, np.float64(0.14883), 10, np.float64(0.1275)], [9, np.float64(0.13817), 6, np.float64(0.14883), 10, np.float64(0.1275), 5, np.float64(0.26617)], [6, np.float64(0.14883), 10, np.float64(0.1275), 5, np.float64(0.26617), 3, np.float64(0.26617)], [10, np.float64(0.1275), 5, np.float64(0.26617), 3, np.float64(0.26617), 11, np.float64(0.2555)], [5, np.float64(0.26617), 3, np.float64(0.26617), 11, np.float64(0.2555), 0, np.float64(0.26617)], [3, np.float64(0.26617), 11, np.float64(0.2555), 0, np.float64(0.26617), 7, np.float64(0.13817)], [11, np.float64(0.2555), 0, np.float64(0.26617), 7, np.float64(0.13817), 9, np.float64(0.13817)], [0, np.float64(0.26617), 7, np.float64(0.13817), 9, np.float64(0.13817), 6, np.float64(0.14883)], [7, np.float64(0.13817), 9, np.float64(0.13817), 6, np.float64(0.14883), 1, np.float64(0.13817)], [9, np.float64(0.13817), 6, np.float64(0.14883), 1, np.float64(0.13817), 5, np.float64(0.2555)], [1, np.float64(0.02133), 1, np.float64(0.26617), 0, np.float64(0.2555), 7, np.float64(0.14883)], [1, np.float64(0.26617), 0, np.float64(0.2555), 7, np.float64(0.14883), 9, np.float64(0.13817)], [0, np.float64(0.2555), 7, np.float64(0.14883), 9, np.float64(0.13817), 9, np.float64(0.1275)], [7, np.float64(0.14883), 9, np.float64(0.13817), 9, np.float64(0.1275), 10, np.float64(0.14883)], [9, np.float64(0.13817), 9, np.float64(0.1275), 10, np.float64(0.14883), 5, np.float64(0.2555)], [9, np.float64(0.1275), 10, np.float64(0.14883), 5, np.float64(0.2555), 3, np.float64(0.26617)], [10, np.float64(0.14883), 5, np.float64(0.2555), 3, np.float64(0.26617), 8, np.float64(0.26617)], [5, np.float64(0.2555), 3, np.float64(0.26617), 8, np.float64(0.26617), 0, np.float64(0.2555)], [3, np.float64(0.26617), 8, np.float64(0.26617), 0, np.float64(0.2555), 2, np.float64(0.14883)], [8, np.float64(0.26617), 0, np.float64(0.2555), 2, np.float64(0.14883), 9, np.float64(0.13817)], [0, np.float64(0.2555), 2, np.float64(0.14883), 9, np.float64(0.13817), 9, np.float64(0.1275)], [2, np.float64(0.14883), 9, np.float64(0.13817), 9, np.float64(0.1275), 1, np.float64(0.14883)], [9, np.float64(0.13817), 9, np.float64(0.1275), 1, np.float64(0.14883), 5, np.float64(0.2555)], [1, np.float64(0.04267), 1, np.float64(0.26617), 0, np.float64(0.2555), 0, np.float64(0.13817)], [1, np.float64(0.26617), 0, np.float64(0.2555), 0, np.float64(0.13817), 9, np.float64(0.13817)], [0, np.float64(0.2555), 0, np.float64(0.13817), 9, np.float64(0.13817), 9, np.float64(0.14883)], [0, np.float64(0.13817), 9, np.float64(0.13817), 9, np.float64(0.14883), 10, np.float64(0.13817)], [9, np.float64(0.13817), 9, np.float64(0.14883), 10, np.float64(0.13817), 5, np.float64(0.26617)], [9, np.float64(0.14883), 10, np.float64(0.13817), 5, np.float64(0.26617), 3, np.float64(0.2555)], [10, np.float64(0.13817), 5, np.float64(0.26617), 3, np.float64(0.2555), 8, np.float64(0.26617)], [5, np.float64(0.26617), 3, np.float64(0.2555), 8, np.float64(0.26617), 0, np.float64(0.2555)], [3, np.float64(0.2555), 8, np.float64(0.26617), 0, np.float64(0.2555), 7, np.float64(0.14883)], [8, np.float64(0.26617), 0, np.float64(0.2555), 7, np.float64(0.14883), 9, np.float64(0.1275)], [0, np.float64(0.2555), 7, np.float64(0.14883), 9, np.float64(0.1275), 9, np.float64(0.14883)], [7, np.float64(0.14883), 9, np.float64(0.1275), 9, np.float64(0.14883), 1, np.float64(0.13817)], [9, np.float64(0.1275), 9, np.float64(0.14883), 1, np.float64(0.13817), 5, np.float64(0.26617)], [1, np.float64(0.07467), 5, np.float64(0.2555), 5, np.float64(0.14883), 1, np.float64(0.13817)], [5, np.float64(0.2555), 5, np.float64(0.14883), 1, np.float64(0.13817), 1, np.float64(0.2555)], [5, np.float64(0.14883), 1, np.float64(0.13817), 1, np.float64(0.2555), 5, np.float64(0.26617)], [1, np.float64(0.13817), 1, np.float64(0.2555), 5, np.float64(0.26617), 11, np.float64(0.2555)], [1, np.float64(0.2555), 5, np.float64(0.26617), 11, np.float64(0.2555), 5, np.float64(0.2555)], [5, np.float64(0.26617), 11, np.float64(0.2555), 5, np.float64(0.2555), 5, np.float64(0.14883)], [11, np.float64(0.2555), 5, np.float64(0.2555), 5, np.float64(0.14883), 1, np.float64(0.13817)], [5, np.float64(0.2555), 5, np.float64(0.14883), 1, np.float64(0.13817), 1, np.float64(0.26617)], [5, np.float64(0.14883), 1, np.float64(0.13817), 1, np.float64(0.26617), 5, np.float64(0.2555)], [1, np.float64(0.05333), 5, np.float64(0.2555), 5, np.float64(0.14883), 1, np.float64(0.13817)], [5, np.float64(0.2555), 5, np.float64(0.14883), 1, np.float64(0.13817), 1, np.float64(0.26617)], [5, np.float64(0.14883), 1, np.float64(0.13817), 1, np.float64(0.26617), 5, np.float64(0.2555)], [1, np.float64(0.13817), 1, np.float64(0.26617), 5, np.float64(0.2555), 5, np.float64(0.14883)], [1, np.float64(0.26617), 5, np.float64(0.2555), 5, np.float64(0.14883), 11, np.float64(0.13817)], [5, np.float64(0.2555), 5, np.float64(0.14883), 11, np.float64(0.13817), 5, np.float64(0.2555)], [5, np.float64(0.14883), 11, np.float64(0.13817), 5, np.float64(0.2555), 5, np.float64(0.14883)], [11, np.float64(0.13817), 5, np.float64(0.2555), 5, np.float64(0.14883), 1, np.float64(0.13817)], [5, np.float64(0.2555), 5, np.float64(0.14883), 1, np.float64(0.13817), 1, np.float64(0.2555)], [5, np.float64(0.14883), 1, np.float64(0.13817), 1, np.float64(0.2555), 5, np.float64(0.26617)], [1, np.float64(0.13817), 1, np.float64(0.2555), 5, np.float64(0.26617), 5, np.float64(0.14883)], [1, np.float64(0.07467), 5, np.float64(0.26617), 7, np.float64(0.14883), 1, np.float64(0.1275)], [5, np.float64(0.26617), 7, np.float64(0.14883), 1, np.float64(0.1275), 1, np.float64(0.26617)], [7, np.float64(0.14883), 1, np.float64(0.1275), 1, np.float64(0.26617), 5, np.float64(0.2555)], [1, np.float64(0.1275), 1, np.float64(0.26617), 5, np.float64(0.2555), 5, np.float64(0.14883)], [1, np.float64(0.26617), 5, np.float64(0.2555), 5, np.float64(0.14883), 11, np.float64(0.13817)], [5, np.float64(0.2555), 5, np.float64(0.14883), 11, np.float64(0.13817), 5, np.float64(0.26617)], [5, np.float64(0.14883), 11, np.float64(0.13817), 5, np.float64(0.26617), 7, np.float64(0.13817)], [11, np.float64(0.13817), 5, np.float64(0.26617), 7, np.float64(0.13817), 1, np.float64(0.13817)], [5, np.float64(0.26617), 7, np.float64(0.13817), 1, np.float64(0.13817), 1, np.float64(0.2555)], [7, np.float64(0.13817), 1, np.float64(0.13817), 1, np.float64(0.2555), 5, np.float64(0.26617)], [1, np.float64(0.13817), 1, np.float64(0.2555), 5, np.float64(0.26617), 5, np.float64(0.13817)], [1, np.float64(0.05333), 5, np.float64(0.26617), 5, np.float64(0.13817), 1, np.float64(0.14883)], [5, np.float64(0.26617), 5, np.float64(0.13817), 1, np.float64(0.14883), 1, np.float64(0.2555)], [5, np.float64(0.13817), 1, np.float64(0.14883), 1, np.float64(0.2555), 5, np.float64(0.2555)], [1, np.float64(0.14883), 1, np.float64(0.2555), 5, np.float64(0.2555), 5, np.float64(0.14883)], [1, np.float64(0.2555), 5, np.float64(0.2555), 5, np.float64(0.14883), 11, np.float64(0.13817)], [5, np.float64(0.2555), 5, np.float64(0.14883), 11, np.float64(0.13817), 5, np.float64(0.2555)], [5, np.float64(0.14883), 11, np.float64(0.13817), 5, np.float64(0.2555), 7, np.float64(0.14883)], [11, np.float64(0.13817), 5, np.float64(0.2555), 7, np.float64(0.14883), 1, np.float64(0.13817)], [5, np.float64(0.2555), 7, np.float64(0.14883), 1, np.float64(0.13817), 1, np.float64(0.26617)], [7, np.float64(0.14883), 1, np.float64(0.13817), 1, np.float64(0.26617), 5, np.float64(0.2555)], [1, np.float64(0.13817), 1, np.float64(0.26617), 5, np.float64(0.2555), 5, np.float64(0.13817)], [1, np.float64(0.07467), 5, np.float64(0.2555), 7, np.float64(0.14883), 1, np.float64(0.13817)], [5, np.float64(0.2555), 7, np.float64(0.14883), 1, np.float64(0.13817), 1, np.float64(0.26617)], [7, np.float64(0.14883), 1, np.float64(0.13817), 1, np.float64(0.26617), 5, np.float64(0.2555)], [1, np.float64(0.13817), 1, np.float64(0.26617), 5, np.float64(0.2555), 5, np.float64(0.13817)], [1, np.float64(0.26617), 5, np.float64(0.2555), 5, np.float64(0.13817), 11, np.float64(0.14883)], [5, np.float64(0.2555), 5, np.float64(0.13817), 11, np.float64(0.14883), 5, np.float64(0.2555)], [5, np.float64(0.13817), 11, np.float64(0.14883), 5, np.float64(0.2555), 7, np.float64(0.14883)], [11, np.float64(0.14883), 5, np.float64(0.2555), 7, np.float64(0.14883), 1, np.float64(0.1275)], [5, np.float64(0.2555), 7, np.float64(0.14883), 1, np.float64(0.1275), 1, np.float64(0.26617)], [7, np.float64(0.14883), 1, np.float64(0.1275), 1, np.float64(0.26617), 5, np.float64(0.2555)], [1, np.float64(0.1275), 1, np.float64(0.26617), 5, np.float64(0.2555), 5, np.float64(0.14883)], [1, np.float64(0.07467), 5, np.float64(0.26617), 5, np.float64(0.13817), 1, np.float64(0.14883)], [5, np.float64(0.26617), 5, np.float64(0.13817), 1, np.float64(0.14883), 1, np.float64(0.2555)], [5, np.float64(0.13817), 1, np.float64(0.14883), 1, np.float64(0.2555), 5, np.float64(0.2555)], [1, np.float64(0.14883), 1, np.float64(0.2555), 5, np.float64(0.2555), 5, np.float64(0.14883)], [1, np.float64(0.2555), 5, np.float64(0.2555), 5, np.float64(0.14883), 11, np.float64(0.13817)], [5, np.float64(0.2555), 5, np.float64(0.14883), 11, np.float64(0.13817), 5, np.float64(0.2555)], [5, np.float64(0.14883), 11, np.float64(0.13817), 5, np.float64(0.2555), 7, np.float64(0.14883)], [11, np.float64(0.13817), 5, np.float64(0.2555), 7, np.float64(0.14883), 1, np.float64(0.13817)], [5, np.float64(0.2555), 7, np.float64(0.14883), 1, np.float64(0.13817), 1, np.float64(0.26617)], [7, np.float64(0.14883), 1, np.float64(0.13817), 1, np.float64(0.26617), 5, np.float64(0.2555)], [1, np.float64(0.13817), 1, np.float64(0.26617), 5, np.float64(0.2555), 5, np.float64(0.13817)], [1, np.float64(0.128), 5, np.float64(0.26617), 7, np.float64(0.13817), 1, np.float64(0.13817)], [5, np.float64(0.26617), 7, np.float64(0.13817), 1, np.float64(0.13817), 1, np.float64(0.26617)], [7, np.float64(0.13817), 1, np.float64(0.13817), 1, np.float64(0.26617), 5, np.float64(0.2555)], [1, np.float64(0.13817), 1, np.float64(0.26617), 5, np.float64(0.2555), 11, np.float64(0.26617)], [1, np.float64(0.26617), 5, np.float64(0.2555), 11, np.float64(0.26617), 5, np.float64(0.26617)], [5, np.float64(0.2555), 11, np.float64(0.26617), 5, np.float64(0.26617), 7, np.float64(0.13817)], [11, np.float64(0.26617), 5, np.float64(0.26617), 7, np.float64(0.13817), 1, np.float64(0.13817)], [5, np.float64(0.26617), 7, np.float64(0.13817), 1, np.float64(0.13817), 1, np.float64(0.2555)], [7, np.float64(0.13817), 1, np.float64(0.13817), 1, np.float64(0.2555), 5, np.float64(0.26617)], [1, np.float64(0.13817), 1, np.float64(0.2555), 5, np.float64(0.26617), 0, np.float64(0.14883)], [1, np.float64(0.096), 5, np.float64(0.26617), 7, np.float64(0.14883), 1, np.float64(0.1275)], [5, np.float64(0.26617), 7, np.float64(0.14883), 1, np.float64(0.1275), 1, np.float64(0.26617)], [7, np.float64(0.14883), 1, np.float64(0.1275), 1, np.float64(0.26617), 5, np.float64(0.2555)], [1, np.float64(0.1275), 1, np.float64(0.26617), 5, np.float64(0.2555), 11, np.float64(0.26617)], [1, np.float64(0.26617), 5, np.float64(0.2555), 11, np.float64(0.26617), 5, np.float64(0.26617)], [5, np.float64(0.2555), 11, np.float64(0.26617), 5, np.float64(0.26617), 7, np.float64(0.13817)], [11, np.float64(0.26617), 5, np.float64(0.26617), 7, np.float64(0.13817), 1, np.float64(0.13817)], [5, np.float64(0.26617), 7, np.float64(0.13817), 1, np.float64(0.13817), 1, np.float64(0.2555)], [7, np.float64(0.13817), 1, np.float64(0.13817), 1, np.float64(0.2555), 0, np.float64(0.26617)], [1, np.float64(0.13817), 1, np.float64(0.2555), 0, np.float64(0.26617), 7, np.float64(0.24483)], [1, np.float64(0.08533), 5, np.float64(0.26617), 7, np.float64(0.13817), 1, np.float64(0.13817)], [5, np.float64(0.26617), 7, np.float64(0.13817), 1, np.float64(0.13817), 1, np.float64(0.26617)], [7, np.float64(0.13817), 1, np.float64(0.13817), 1, np.float64(0.26617), 5, np.float64(0.2555)], [1, np.float64(0.13817), 1, np.float64(0.26617), 5, np.float64(0.2555), 11, np.float64(0.26617)], [1, np.float64(0.26617), 5, np.float64(0.2555), 11, np.float64(0.26617), 5, np.float64(0.2555)], [5, np.float64(0.2555), 11, np.float64(0.26617), 5, np.float64(0.2555), 5, np.float64(0.14883)], [11, np.float64(0.26617), 5, np.float64(0.2555), 5, np.float64(0.14883), 1, np.float64(0.13817)], [5, np.float64(0.2555), 5, np.float64(0.14883), 1, np.float64(0.13817), 1, np.float64(0.2555)], [5, np.float64(0.14883), 1, np.float64(0.13817), 1, np.float64(0.2555), 5, np.float64(0.2555)], [1, np.float64(0.07467), 5, np.float64(0.26617), 7, np.float64(0.14883), 1, np.float64(0.13817)], [5, np.float64(0.26617), 7, np.float64(0.14883), 1, np.float64(0.13817), 1, np.float64(0.26617)], [7, np.float64(0.14883), 1, np.float64(0.13817), 1, np.float64(0.26617), 5, np.float64(0.2555)], [1, np.float64(0.13817), 1, np.float64(0.26617), 5, np.float64(0.2555), 5, np.float64(0.14883)], [1, np.float64(0.26617), 5, np.float64(0.2555), 5, np.float64(0.14883), 11, np.float64(0.1275)], [5, np.float64(0.2555), 5, np.float64(0.14883), 11, np.float64(0.1275), 5, np.float64(0.26617)], [5, np.float64(0.14883), 11, np.float64(0.1275), 5, np.float64(0.26617), 7, np.float64(0.13817)], [11, np.float64(0.1275), 5, np.float64(0.26617), 7, np.float64(0.13817), 1, np.float64(0.13817)], [5, np.float64(0.26617), 7, np.float64(0.13817), 1, np.float64(0.13817), 1, np.float64(0.26617)], [7, np.float64(0.13817), 1, np.float64(0.13817), 1, np.float64(0.26617), 5, np.float64(0.2555)], [1, np.float64(0.13817), 1, np.float64(0.26617), 5, np.float64(0.2555), 5, np.float64(0.14883)], [11, np.float64(0.17067), 11, np.float64(0.33017), 5, np.float64(0.3195), 1, np.float64(0.3195)], [11, np.float64(0.33017), 5, np.float64(0.3195), 1, np.float64(0.3195), 5, np.float64(0.3195)], [5, np.float64(0.3195), 1, np.float64(0.3195), 5, np.float64(0.3195), 1, np.float64(0.3195)], [1, np.float64(0.3195), 5, np.float64(0.3195), 1, np.float64(0.3195), 5, np.float64(0.3195)], [5, np.float64(0.3195), 1, np.float64(0.3195), 5, np.float64(0.3195), 7, np.float64(0.18083)], [11, np.float64(0.16), 11, np.float64(0.3195), 5, np.float64(0.3195), 1, np.float64(0.33017)], [11, np.float64(0.3195), 5, np.float64(0.3195), 1, np.float64(0.33017), 5, np.float64(0.3195)], [5, np.float64(0.3195), 1, np.float64(0.33017), 5, np.float64(0.3195), 7, np.float64(0.17017)], [1, np.float64(0.33017), 5, np.float64(0.3195), 7, np.float64(0.17017), 1, np.float64(0.17017)], [5, np.float64(0.3195), 7, np.float64(0.17017), 1, np.float64(0.17017), 5, np.float64(0.3195)], [11, np.float64(0.18133), 11, np.float64(0.3195), 5, np.float64(0.3195), 1, np.float64(0.3195)], [11, np.float64(0.3195), 5, np.float64(0.3195), 1, np.float64(0.3195), 5, np.float64(0.3195)], [5, np.float64(0.3195), 1, np.float64(0.3195), 5, np.float64(0.3195), 5, np.float64(0.18083)], [1, np.float64(0.3195), 5, np.float64(0.3195), 5, np.float64(0.18083), 1, np.float64(0.1595)], [5, np.float64(0.3195), 5, np.float64(0.18083), 1, np.float64(0.1595), 5, np.float64(0.3195)], [5, np.float64(0.18083), 1, np.float64(0.1595), 5, np.float64(0.3195), 7, np.float64(0.18083)], [11, np.float64(0.17067), 11, np.float64(0.33017), 5, np.float64(0.3195), 1, np.float64(0.3195)], [11, np.float64(0.33017), 5, np.float64(0.3195), 1, np.float64(0.3195), 5, np.float64(0.3195)], [5, np.float64(0.3195), 1, np.float64(0.3195), 5, np.float64(0.3195), 7, np.float64(0.17017)], [1, np.float64(0.3195), 5, np.float64(0.3195), 7, np.float64(0.17017), 1, np.float64(0.17017)], [5, np.float64(0.3195), 7, np.float64(0.17017), 1, np.float64(0.17017), 5, np.float64(0.3195)], [7, np.float64(0.17017), 1, np.float64(0.17017), 5, np.float64(0.3195), 7, np.float64(0.18083)], [11, np.float64(0.032), 11, np.float64(0.3195), 5, np.float64(0.3195), 1, np.float64(0.3195)], [11, np.float64(0.3195), 5, np.float64(0.3195), 1, np.float64(0.3195), 5, np.float64(0.3195)], [5, np.float64(0.3195), 1, np.float64(0.3195), 5, np.float64(0.3195), 7, np.float64(0.18083)], [1, np.float64(0.3195), 5, np.float64(0.3195), 7, np.float64(0.18083), 1, np.float64(0.1595)], [5, np.float64(0.3195), 7, np.float64(0.18083), 1, np.float64(0.1595), 5, np.float64(0.33017)], [7, np.float64(0.18083), 1, np.float64(0.1595), 5, np.float64(0.33017), 7, np.float64(0.1595)], [11, np.float64(0.02133), 11, np.float64(0.3195), 5, np.float64(0.3195), 1, np.float64(0.3195)], [11, np.float64(0.3195), 5, np.float64(0.3195), 1, np.float64(0.3195), 5, np.float64(0.3195)], [5, np.float64(0.3195), 1, np.float64(0.3195), 5, np.float64(0.3195), 7, np.float64(0.17017)], [1, np.float64(0.3195), 5, np.float64(0.3195), 7, np.float64(0.17017), 1, np.float64(0.17017)], [5, np.float64(0.3195), 7, np.float64(0.17017), 1, np.float64(0.17017), 5, np.float64(0.3195)], [7, np.float64(0.17017), 1, np.float64(0.17017), 5, np.float64(0.3195), 7, np.float64(0.17017)], [11, np.float64(0.02133), 11, np.float64(0.33017), 5, np.float64(0.30883), 1, np.float64(0.33017)], [11, np.float64(0.33017), 5, np.float64(0.30883), 1, np.float64(0.33017), 5, np.float64(0.30883)], [5, np.float64(0.30883), 1, np.float64(0.33017), 5, np.float64(0.30883), 7, np.float64(0.18083)], [1, np.float64(0.33017), 5, np.float64(0.30883), 7, np.float64(0.18083), 1, np.float64(0.17017)], [5, np.float64(0.30883), 7, np.float64(0.18083), 1, np.float64(0.17017), 5, np.float64(0.3195)], [11, np.float64(0.01067), 11, np.float64(0.32), 5, np.float64(0.3195), 1, np.float64(0.3195)], [11, np.float64(0.32), 5, np.float64(0.3195), 1, np.float64(0.3195), 5, np.float64(0.3195)], [5, np.float64(0.3195), 1, np.float64(0.3195), 5, np.float64(0.3195), 1, np.float64(0.3195)], [1, np.float64(0.3195), 5, np.float64(0.3195), 1, np.float64(0.3195), 5, np.float64(0.3195)], [11, np.float64(0.04267), 11, np.float64(0.3195), 5, np.float64(0.3195), 1, np.float64(0.3195)], [11, np.float64(0.3195), 5, np.float64(0.3195), 1, np.float64(0.3195), 5, np.float64(0.33017)], [5, np.float64(0.3195), 1, np.float64(0.3195), 5, np.float64(0.33017), 7, np.float64(0.17017)], [1, np.float64(0.3195), 5, np.float64(0.33017), 7, np.float64(0.17017), 1, np.float64(0.17017)], [5, np.float64(0.33017), 7, np.float64(0.17017), 1, np.float64(0.17017), 5, np.float64(0.3195)], [11, np.float64(0.02133), 11, np.float64(0.3195), 5, np.float64(0.3195), 1, np.float64(0.3195)], [11, np.float64(0.3195), 5, np.float64(0.3195), 1, np.float64(0.3195), 5, np.float64(0.3195)], [5, np.float64(0.3195), 1, np.float64(0.3195), 5, np.float64(0.3195), 1, np.float64(0.33017)], [1, np.float64(0.3195), 5, np.float64(0.3195), 1, np.float64(0.33017), 5, np.float64(0.30883)], [5, np.float64(0.3195), 1, np.float64(0.33017), 5, np.float64(0.30883), 7, np.float64(0.18083)], [0, np.float64(0.24533), 1, np.float64(0.33017), 1, np.float64(0.29817), 0, np.float64(0.3195)], [1, np.float64(0.33017), 1, np.float64(0.29817), 0, np.float64(0.3195), 0, np.float64(0.3195)], [1, np.float64(0.29817), 0, np.float64(0.3195), 0, np.float64(0.3195), 1, np.float64(0.33017)], [0, np.float64(0.3195), 0, np.float64(0.3195), 1, np.float64(0.33017), 1, np.float64(0.3195)], [0, np.float64(0.3195), 1, np.float64(0.33017), 1, np.float64(0.3195), 0, np.float64(0.3195)], [1, np.float64(0.33017), 1, np.float64(0.3195), 0, np.float64(0.3195), 0, np.float64(0.3195)], [1, np.float64(0.3195), 0, np.float64(0.3195), 0, np.float64(0.3195), 11, np.float64(0.33017)], [0, np.float64(0.3195), 0, np.float64(0.3195), 11, np.float64(0.33017), 11, np.float64(0.3195)], [0, np.float64(0.3195), 11, np.float64(0.33017), 11, np.float64(0.3195), 8, np.float64(0.3195)], [11, np.float64(0.33017), 11, np.float64(0.3195), 8, np.float64(0.3195), 8, np.float64(0.33017)], [11, np.float64(0.3195), 8, np.float64(0.3195), 8, np.float64(0.33017), 1, np.float64(0.3195)], [8, np.float64(0.3195), 8, np.float64(0.33017), 1, np.float64(0.3195), 1, np.float64(0.33017)], [8, np.float64(0.33017), 1, np.float64(0.3195), 1, np.float64(0.33017), 0, np.float64(0.29817)], [1, np.float64(0.3195), 1, np.float64(0.33017), 0, np.float64(0.29817), 7, np.float64(0.29817)], [0, np.float64(0.192), 1, np.float64(0.30883), 1, np.float64(0.29817), 0, np.float64(0.29817)], [1, np.float64(0.30883), 1, np.float64(0.29817), 0, np.float64(0.29817), 0, np.float64(0.2875)], [1, np.float64(0.29817), 0, np.float64(0.29817), 0, np.float64(0.2875), 1, np.float64(0.2875)], [0, np.float64(0.29817), 0, np.float64(0.2875), 1, np.float64(0.2875), 1, np.float64(0.29817)], [0, np.float64(0.2875), 1, np.float64(0.2875), 1, np.float64(0.29817), 0, np.float64(0.2875)], [1, np.float64(0.2875), 1, np.float64(0.29817), 0, np.float64(0.2875), 0, np.float64(0.29817)], [1, np.float64(0.29817), 0, np.float64(0.2875), 0, np.float64(0.29817), 11, np.float64(0.29817)], [0, np.float64(0.2875), 0, np.float64(0.29817), 11, np.float64(0.29817), 11, np.float64(0.2875)], [0, np.float64(0.29817), 11, np.float64(0.29817), 11, np.float64(0.2875), 8, np.float64(0.29817)], [11, np.float64(0.29817), 11, np.float64(0.2875), 8, np.float64(0.29817), 8, np.float64(0.2875)], [11, np.float64(0.2875), 8, np.float64(0.29817), 8, np.float64(0.2875), 1, np.float64(0.29817)], [8, np.float64(0.29817), 8, np.float64(0.2875), 1, np.float64(0.29817), 1, np.float64(0.29817)], [8, np.float64(0.2875), 1, np.float64(0.29817), 1, np.float64(0.29817), 0, np.float64(0.26617)], [0, np.float64(0.17067), 1, np.float64(0.30883), 1, np.float64(0.2875), 0, np.float64(0.29817)], [1, np.float64(0.30883), 1, np.float64(0.2875), 0, np.float64(0.29817), 0, np.float64(0.2875)], [1, np.float64(0.2875), 0, np.float64(0.29817), 0, np.float64(0.2875), 1, np.float64(0.29817)], [0, np.float64(0.29817), 0, np.float64(0.2875), 1, np.float64(0.29817), 1, np.float64(0.2875)], [0, np.float64(0.2875), 1, np.float64(0.29817), 1, np.float64(0.2875), 0, np.float64(0.29817)], [1, np.float64(0.29817), 1, np.float64(0.2875), 0, np.float64(0.29817), 0, np.float64(0.29817)], [1, np.float64(0.2875), 0, np.float64(0.29817), 0, np.float64(0.29817), 11, np.float64(0.2875)], [0, np.float64(0.29817), 0, np.float64(0.29817), 11, np.float64(0.2875), 11, np.float64(0.2875)], [0, np.float64(0.29817), 11, np.float64(0.2875), 11, np.float64(0.2875), 8, np.float64(0.29817)], [11, np.float64(0.2875), 11, np.float64(0.2875), 8, np.float64(0.29817), 8, np.float64(0.29817)], [11, np.float64(0.2875), 8, np.float64(0.29817), 8, np.float64(0.29817), 1, np.float64(0.2875)], [8, np.float64(0.29817), 8, np.float64(0.29817), 1, np.float64(0.2875), 1, np.float64(0.2875)], [8, np.float64(0.29817), 1, np.float64(0.2875), 1, np.float64(0.2875), 0, np.float64(0.29817)], [1, np.float64(0.2875), 1, np.float64(0.2875), 0, np.float64(0.29817), 7, np.float64(0.2555)], [0, np.float64(0.21333), 1, np.float64(0.29817), 1, np.float64(0.29817), 0, np.float64(0.2875)], [1, np.float64(0.29817), 1, np.float64(0.29817), 0, np.float64(0.2875), 0, np.float64(0.29817)], [1, np.float64(0.29817), 0, np.float64(0.2875), 0, np.float64(0.29817), 1, np.float64(0.2875)], [0, np.float64(0.2875), 0, np.float64(0.29817), 1, np.float64(0.2875), 1, np.float64(0.29817)], [0, np.float64(0.29817), 1, np.float64(0.2875), 1, np.float64(0.29817), 0, np.float64(0.2875)], [1, np.float64(0.2875), 1, np.float64(0.29817), 0, np.float64(0.2875), 0, np.float64(0.29817)], [1, np.float64(0.29817), 0, np.float64(0.2875), 0, np.float64(0.29817), 11, np.float64(0.2875)], [0, np.float64(0.2875), 0, np.float64(0.29817), 11, np.float64(0.2875), 11, np.float64(0.29817)], [0, np.float64(0.29817), 11, np.float64(0.2875), 11, np.float64(0.29817), 8, np.float64(0.29817)], [11, np.float64(0.2875), 11, np.float64(0.29817), 8, np.float64(0.29817), 8, np.float64(0.2875)], [11, np.float64(0.29817), 8, np.float64(0.29817), 8, np.float64(0.2875), 1, np.float64(0.29817)], [8, np.float64(0.29817), 8, np.float64(0.2875), 1, np.float64(0.29817), 1, np.float64(0.29817)], [8, np.float64(0.2875), 1, np.float64(0.29817), 1, np.float64(0.29817), 0, np.float64(0.2875)], [1, np.float64(0.29817), 1, np.float64(0.29817), 0, np.float64(0.2875), 7, np.float64(0.26617)], [0, np.float64(0.192), 1, np.float64(0.29817), 1, np.float64(0.2875), 0, np.float64(0.29817)], [1, np.float64(0.29817), 1, np.float64(0.2875), 0, np.float64(0.29817), 0, np.float64(0.2875)], [1, np.float64(0.2875), 0, np.float64(0.29817), 0, np.float64(0.2875), 1, np.float64(0.29817)], [0, np.float64(0.29817), 0, np.float64(0.2875), 1, np.float64(0.29817), 1, np.float64(0.29817)], [0, np.float64(0.2875), 1, np.float64(0.29817), 1, np.float64(0.29817), 0, np.float64(0.2875)], [1, np.float64(0.29817), 1, np.float64(0.29817), 0, np.float64(0.2875), 0, np.float64(0.29817)], [1, np.float64(0.29817), 0, np.float64(0.2875), 0, np.float64(0.29817), 11, np.float64(0.2875)], [0, np.float64(0.2875), 0, np.float64(0.29817), 11, np.float64(0.2875), 11, np.float64(0.29817)], [0, np.float64(0.29817), 11, np.float64(0.2875), 11, np.float64(0.29817), 8, np.float64(0.2875)], [11, np.float64(0.2875), 11, np.float64(0.29817), 8, np.float64(0.2875), 8, np.float64(0.29817)], [11, np.float64(0.29817), 8, np.float64(0.2875), 8, np.float64(0.29817), 1, np.float64(0.29817)], [8, np.float64(0.2875), 8, np.float64(0.29817), 1, np.float64(0.29817), 1, np.float64(0.2875)], [8, np.float64(0.29817), 1, np.float64(0.29817), 1, np.float64(0.2875), 0, np.float64(0.29817)], [0, np.float64(0.20267), 1, np.float64(0.29817), 1, np.float64(0.2875), 0, np.float64(0.29817)], [1, np.float64(0.29817), 1, np.float64(0.2875), 0, np.float64(0.29817), 0, np.float64(0.2875)], [1, np.float64(0.2875), 0, np.float64(0.29817), 0, np.float64(0.2875), 1, np.float64(0.29817)], [0, np.float64(0.29817), 0, np.float64(0.2875), 1, np.float64(0.29817), 1, np.float64(0.2875)], [0, np.float64(0.2875), 1, np.float64(0.29817), 1, np.float64(0.2875), 0, np.float64(0.29817)], [1, np.float64(0.29817), 1, np.float64(0.2875), 0, np.float64(0.29817), 0, np.float64(0.29817)], [1, np.float64(0.2875), 0, np.float64(0.29817), 0, np.float64(0.29817), 11, np.float64(0.2875)], [0, np.float64(0.29817), 0, np.float64(0.29817), 11, np.float64(0.2875), 11, np.float64(0.29817)], [0, np.float64(0.29817), 11, np.float64(0.2875), 11, np.float64(0.29817), 8, np.float64(0.2875)], [11, np.float64(0.2875), 11, np.float64(0.29817), 8, np.float64(0.2875), 8, np.float64(0.29817)], [11, np.float64(0.29817), 8, np.float64(0.2875), 8, np.float64(0.29817), 1, np.float64(0.29817)], [8, np.float64(0.2875), 8, np.float64(0.29817), 1, np.float64(0.29817), 1, np.float64(0.2875)], [8, np.float64(0.29817), 1, np.float64(0.29817), 1, np.float64(0.2875), 0, np.float64(0.29817)], [1, np.float64(0.29817), 1, np.float64(0.2875), 0, np.float64(0.29817), 7, np.float64(0.2235)], [0, np.float64(0.14933), 1, np.float64(0.30883), 1, np.float64(0.29817), 0, np.float64(0.2875)], [1, np.float64(0.30883), 1, np.float64(0.29817), 0, np.float64(0.2875), 0, np.float64(0.29817)], [1, np.float64(0.29817), 0, np.float64(0.2875), 0, np.float64(0.29817), 1, np.float64(0.2875)], [0, np.float64(0.2875), 0, np.float64(0.29817), 1, np.float64(0.2875), 1, np.float64(0.29817)], [0, np.float64(0.29817), 1, np.float64(0.2875), 1, np.float64(0.29817), 0, np.float64(0.2875)], [1, np.float64(0.2875), 1, np.float64(0.29817), 0, np.float64(0.2875), 0, np.float64(0.29817)], [1, np.float64(0.29817), 0, np.float64(0.2875), 0, np.float64(0.29817), 11, np.float64(0.29817)], [0, np.float64(0.2875), 0, np.float64(0.29817), 11, np.float64(0.29817), 11, np.float64(0.2875)], [0, np.float64(0.29817), 11, np.float64(0.29817), 11, np.float64(0.2875), 8, np.float64(0.29817)], [11, np.float64(0.29817), 11, np.float64(0.2875), 8, np.float64(0.29817), 8, np.float64(0.2875)], [11, np.float64(0.2875), 8, np.float64(0.29817), 8, np.float64(0.2875), 1, np.float64(0.29817)], [8, np.float64(0.29817), 8, np.float64(0.2875), 1, np.float64(0.29817), 1, np.float64(0.29817)], [8, np.float64(0.2875), 1, np.float64(0.29817), 1, np.float64(0.29817), 0, np.float64(0.26617)], [1, np.float64(0.29817), 1, np.float64(0.29817), 0, np.float64(0.26617), 7, np.float64(0.2555)], [0, np.float64(0.192), 1, np.float64(0.2875), 1, np.float64(0.29817), 0, np.float64(0.29817)], [1, np.float64(0.2875), 1, np.float64(0.29817), 0, np.float64(0.29817), 0, np.float64(0.2875)], [1, np.float64(0.29817), 0, np.float64(0.29817), 0, np.float64(0.2875), 1, np.float64(0.29817)], [0, np.float64(0.29817), 0, np.float64(0.2875), 1, np.float64(0.29817), 1, np.float64(0.2875)], [0, np.float64(0.2875), 1, np.float64(0.29817), 1, np.float64(0.2875), 5, np.float64(0.29817)], [1, np.float64(0.29817), 1, np.float64(0.2875), 5, np.float64(0.29817), 0, np.float64(0.2875)], [1, np.float64(0.2875), 5, np.float64(0.29817), 0, np.float64(0.2875), 11, np.float64(0.29817)], [5, np.float64(0.29817), 0, np.float64(0.2875), 11, np.float64(0.29817), 11, np.float64(0.29817)], [0, np.float64(0.2875), 11, np.float64(0.29817), 11, np.float64(0.29817), 8, np.float64(0.2875)], [11, np.float64(0.29817), 11, np.float64(0.29817), 8, np.float64(0.2875), 8, np.float64(0.29817)], [11, np.float64(0.29817), 8, np.float64(0.2875), 8, np.float64(0.29817), 1, np.float64(0.2875)], [8, np.float64(0.2875), 8, np.float64(0.29817), 1, np.float64(0.2875), 1, np.float64(0.29817)], [8, np.float64(0.29817), 1, np.float64(0.2875), 1, np.float64(0.29817), 0, np.float64(0.2875)], [1, np.float64(0.2875), 1, np.float64(0.29817), 0, np.float64(0.2875), 7, np.float64(0.27683)], [5, np.float64(0.20267), 1, np.float64(0.29817), 1, np.float64(0.29817), 0, np.float64(0.2875)], [1, np.float64(0.29817), 1, np.float64(0.29817), 0, np.float64(0.2875), 0, np.float64(0.29817)], [1, np.float64(0.29817), 0, np.float64(0.2875), 0, np.float64(0.29817), 1, np.float64(0.2875)], [0, np.float64(0.2875), 0, np.float64(0.29817), 1, np.float64(0.2875), 1, np.float64(0.29817)], [0, np.float64(0.29817), 1, np.float64(0.2875), 1, np.float64(0.29817), 0, np.float64(0.2875)], [1, np.float64(0.2875), 1, np.float64(0.29817), 0, np.float64(0.2875), 0, np.float64(0.29817)], [1, np.float64(0.29817), 0, np.float64(0.2875), 0, np.float64(0.29817), 11, np.float64(0.29817)], [0, np.float64(0.2875), 0, np.float64(0.29817), 11, np.float64(0.29817), 11, np.float64(0.2875)], [0, np.float64(0.29817), 11, np.float64(0.29817), 11, np.float64(0.2875), 8, np.float64(0.29817)], [11, np.float64(0.29817), 11, np.float64(0.2875), 8, np.float64(0.29817), 8, np.float64(0.2875)], [11, np.float64(0.2875), 8, np.float64(0.29817), 8, np.float64(0.2875), 1, np.float64(0.29817)], [8, np.float64(0.29817), 8, np.float64(0.2875), 1, np.float64(0.29817), 1, np.float64(0.29817)], [8, np.float64(0.2875), 1, np.float64(0.29817), 1, np.float64(0.29817), 0, np.float64(0.2875)]]\n"
     ]
    }
   ],
   "execution_count": 168
  },
  {
   "metadata": {
    "ExecuteTime": {
     "end_time": "2025-05-28T19:10:08.669236Z",
     "start_time": "2025-05-28T19:10:08.665086Z"
    }
   },
   "cell_type": "code",
   "source": [
    "final_data = pd.DataFrame(model_data)\n",
    "final_data.duplicated().sum()"
   ],
   "id": "b19c275e22e1a78c",
   "outputs": [
    {
     "data": {
      "text/plain": [
       "np.int64(189)"
      ]
     },
     "execution_count": 169,
     "metadata": {},
     "output_type": "execute_result"
    }
   ],
   "execution_count": 169
  },
  {
   "metadata": {
    "ExecuteTime": {
     "end_time": "2025-05-28T19:10:08.743734Z",
     "start_time": "2025-05-28T19:10:08.740616Z"
    }
   },
   "cell_type": "code",
   "source": [
    "final_data.columns = ['feature_1', 'feature_2', 'feature_3', 'feature_4', 'feature_5', 'feature_6', 'target_1', 'target_2']\n",
    "final_data.drop_duplicates(inplace=True)"
   ],
   "id": "7b030675d134addb",
   "outputs": [],
   "execution_count": 170
  },
  {
   "metadata": {
    "ExecuteTime": {
     "end_time": "2025-05-28T19:10:08.816097Z",
     "start_time": "2025-05-28T19:10:08.814369Z"
    }
   },
   "cell_type": "code",
   "source": "print(final_data.shape)",
   "id": "a90dfac7cc30a213",
   "outputs": [
    {
     "name": "stdout",
     "output_type": "stream",
     "text": [
      "(538, 8)\n"
     ]
    }
   ],
   "execution_count": 171
  },
  {
   "metadata": {
    "ExecuteTime": {
     "end_time": "2025-05-28T19:10:08.900192Z",
     "start_time": "2025-05-28T19:10:08.898137Z"
    }
   },
   "cell_type": "code",
   "source": [
    "x = final_data.drop(columns=['target_1', 'target_2'])\n",
    "y_1 = final_data['target_1']\n",
    "y_2 = final_data['target_2']"
   ],
   "id": "30117057efcd2015",
   "outputs": [],
   "execution_count": 172
  },
  {
   "metadata": {
    "ExecuteTime": {
     "end_time": "2025-05-28T19:10:08.984203Z",
     "start_time": "2025-05-28T19:10:08.981567Z"
    }
   },
   "cell_type": "code",
   "source": "x_train, x_test, y_train, y_test = train_test_split(x, y_1, test_size=0.2, random_state=42)",
   "id": "bba0e6ba46df8007",
   "outputs": [],
   "execution_count": 173
  },
  {
   "metadata": {
    "ExecuteTime": {
     "end_time": "2025-05-28T19:10:09.249242Z",
     "start_time": "2025-05-28T19:10:09.247255Z"
    }
   },
   "cell_type": "code",
   "source": "model = RandomForestClassifier(n_estimators=10)",
   "id": "9024b833a78e03ca",
   "outputs": [],
   "execution_count": 174
  },
  {
   "metadata": {
    "ExecuteTime": {
     "end_time": "2025-05-28T19:10:09.434176Z",
     "start_time": "2025-05-28T19:10:09.423296Z"
    }
   },
   "cell_type": "code",
   "source": "model.fit(x_train, y_train)",
   "id": "5201f1badf9160ed",
   "outputs": [
    {
     "data": {
      "text/plain": [
       "RandomForestClassifier(n_estimators=10)"
      ],
      "text/html": [
       "<style>#sk-container-id-7 {\n",
       "  /* Definition of color scheme common for light and dark mode */\n",
       "  --sklearn-color-text: #000;\n",
       "  --sklearn-color-text-muted: #666;\n",
       "  --sklearn-color-line: gray;\n",
       "  /* Definition of color scheme for unfitted estimators */\n",
       "  --sklearn-color-unfitted-level-0: #fff5e6;\n",
       "  --sklearn-color-unfitted-level-1: #f6e4d2;\n",
       "  --sklearn-color-unfitted-level-2: #ffe0b3;\n",
       "  --sklearn-color-unfitted-level-3: chocolate;\n",
       "  /* Definition of color scheme for fitted estimators */\n",
       "  --sklearn-color-fitted-level-0: #f0f8ff;\n",
       "  --sklearn-color-fitted-level-1: #d4ebff;\n",
       "  --sklearn-color-fitted-level-2: #b3dbfd;\n",
       "  --sklearn-color-fitted-level-3: cornflowerblue;\n",
       "\n",
       "  /* Specific color for light theme */\n",
       "  --sklearn-color-text-on-default-background: var(--sg-text-color, var(--theme-code-foreground, var(--jp-content-font-color1, black)));\n",
       "  --sklearn-color-background: var(--sg-background-color, var(--theme-background, var(--jp-layout-color0, white)));\n",
       "  --sklearn-color-border-box: var(--sg-text-color, var(--theme-code-foreground, var(--jp-content-font-color1, black)));\n",
       "  --sklearn-color-icon: #696969;\n",
       "\n",
       "  @media (prefers-color-scheme: dark) {\n",
       "    /* Redefinition of color scheme for dark theme */\n",
       "    --sklearn-color-text-on-default-background: var(--sg-text-color, var(--theme-code-foreground, var(--jp-content-font-color1, white)));\n",
       "    --sklearn-color-background: var(--sg-background-color, var(--theme-background, var(--jp-layout-color0, #111)));\n",
       "    --sklearn-color-border-box: var(--sg-text-color, var(--theme-code-foreground, var(--jp-content-font-color1, white)));\n",
       "    --sklearn-color-icon: #878787;\n",
       "  }\n",
       "}\n",
       "\n",
       "#sk-container-id-7 {\n",
       "  color: var(--sklearn-color-text);\n",
       "}\n",
       "\n",
       "#sk-container-id-7 pre {\n",
       "  padding: 0;\n",
       "}\n",
       "\n",
       "#sk-container-id-7 input.sk-hidden--visually {\n",
       "  border: 0;\n",
       "  clip: rect(1px 1px 1px 1px);\n",
       "  clip: rect(1px, 1px, 1px, 1px);\n",
       "  height: 1px;\n",
       "  margin: -1px;\n",
       "  overflow: hidden;\n",
       "  padding: 0;\n",
       "  position: absolute;\n",
       "  width: 1px;\n",
       "}\n",
       "\n",
       "#sk-container-id-7 div.sk-dashed-wrapped {\n",
       "  border: 1px dashed var(--sklearn-color-line);\n",
       "  margin: 0 0.4em 0.5em 0.4em;\n",
       "  box-sizing: border-box;\n",
       "  padding-bottom: 0.4em;\n",
       "  background-color: var(--sklearn-color-background);\n",
       "}\n",
       "\n",
       "#sk-container-id-7 div.sk-container {\n",
       "  /* jupyter's `normalize.less` sets `[hidden] { display: none; }`\n",
       "     but bootstrap.min.css set `[hidden] { display: none !important; }`\n",
       "     so we also need the `!important` here to be able to override the\n",
       "     default hidden behavior on the sphinx rendered scikit-learn.org.\n",
       "     See: https://github.com/scikit-learn/scikit-learn/issues/21755 */\n",
       "  display: inline-block !important;\n",
       "  position: relative;\n",
       "}\n",
       "\n",
       "#sk-container-id-7 div.sk-text-repr-fallback {\n",
       "  display: none;\n",
       "}\n",
       "\n",
       "div.sk-parallel-item,\n",
       "div.sk-serial,\n",
       "div.sk-item {\n",
       "  /* draw centered vertical line to link estimators */\n",
       "  background-image: linear-gradient(var(--sklearn-color-text-on-default-background), var(--sklearn-color-text-on-default-background));\n",
       "  background-size: 2px 100%;\n",
       "  background-repeat: no-repeat;\n",
       "  background-position: center center;\n",
       "}\n",
       "\n",
       "/* Parallel-specific style estimator block */\n",
       "\n",
       "#sk-container-id-7 div.sk-parallel-item::after {\n",
       "  content: \"\";\n",
       "  width: 100%;\n",
       "  border-bottom: 2px solid var(--sklearn-color-text-on-default-background);\n",
       "  flex-grow: 1;\n",
       "}\n",
       "\n",
       "#sk-container-id-7 div.sk-parallel {\n",
       "  display: flex;\n",
       "  align-items: stretch;\n",
       "  justify-content: center;\n",
       "  background-color: var(--sklearn-color-background);\n",
       "  position: relative;\n",
       "}\n",
       "\n",
       "#sk-container-id-7 div.sk-parallel-item {\n",
       "  display: flex;\n",
       "  flex-direction: column;\n",
       "}\n",
       "\n",
       "#sk-container-id-7 div.sk-parallel-item:first-child::after {\n",
       "  align-self: flex-end;\n",
       "  width: 50%;\n",
       "}\n",
       "\n",
       "#sk-container-id-7 div.sk-parallel-item:last-child::after {\n",
       "  align-self: flex-start;\n",
       "  width: 50%;\n",
       "}\n",
       "\n",
       "#sk-container-id-7 div.sk-parallel-item:only-child::after {\n",
       "  width: 0;\n",
       "}\n",
       "\n",
       "/* Serial-specific style estimator block */\n",
       "\n",
       "#sk-container-id-7 div.sk-serial {\n",
       "  display: flex;\n",
       "  flex-direction: column;\n",
       "  align-items: center;\n",
       "  background-color: var(--sklearn-color-background);\n",
       "  padding-right: 1em;\n",
       "  padding-left: 1em;\n",
       "}\n",
       "\n",
       "\n",
       "/* Toggleable style: style used for estimator/Pipeline/ColumnTransformer box that is\n",
       "clickable and can be expanded/collapsed.\n",
       "- Pipeline and ColumnTransformer use this feature and define the default style\n",
       "- Estimators will overwrite some part of the style using the `sk-estimator` class\n",
       "*/\n",
       "\n",
       "/* Pipeline and ColumnTransformer style (default) */\n",
       "\n",
       "#sk-container-id-7 div.sk-toggleable {\n",
       "  /* Default theme specific background. It is overwritten whether we have a\n",
       "  specific estimator or a Pipeline/ColumnTransformer */\n",
       "  background-color: var(--sklearn-color-background);\n",
       "}\n",
       "\n",
       "/* Toggleable label */\n",
       "#sk-container-id-7 label.sk-toggleable__label {\n",
       "  cursor: pointer;\n",
       "  display: flex;\n",
       "  width: 100%;\n",
       "  margin-bottom: 0;\n",
       "  padding: 0.5em;\n",
       "  box-sizing: border-box;\n",
       "  text-align: center;\n",
       "  align-items: start;\n",
       "  justify-content: space-between;\n",
       "  gap: 0.5em;\n",
       "}\n",
       "\n",
       "#sk-container-id-7 label.sk-toggleable__label .caption {\n",
       "  font-size: 0.6rem;\n",
       "  font-weight: lighter;\n",
       "  color: var(--sklearn-color-text-muted);\n",
       "}\n",
       "\n",
       "#sk-container-id-7 label.sk-toggleable__label-arrow:before {\n",
       "  /* Arrow on the left of the label */\n",
       "  content: \"▸\";\n",
       "  float: left;\n",
       "  margin-right: 0.25em;\n",
       "  color: var(--sklearn-color-icon);\n",
       "}\n",
       "\n",
       "#sk-container-id-7 label.sk-toggleable__label-arrow:hover:before {\n",
       "  color: var(--sklearn-color-text);\n",
       "}\n",
       "\n",
       "/* Toggleable content - dropdown */\n",
       "\n",
       "#sk-container-id-7 div.sk-toggleable__content {\n",
       "  max-height: 0;\n",
       "  max-width: 0;\n",
       "  overflow: hidden;\n",
       "  text-align: left;\n",
       "  /* unfitted */\n",
       "  background-color: var(--sklearn-color-unfitted-level-0);\n",
       "}\n",
       "\n",
       "#sk-container-id-7 div.sk-toggleable__content.fitted {\n",
       "  /* fitted */\n",
       "  background-color: var(--sklearn-color-fitted-level-0);\n",
       "}\n",
       "\n",
       "#sk-container-id-7 div.sk-toggleable__content pre {\n",
       "  margin: 0.2em;\n",
       "  border-radius: 0.25em;\n",
       "  color: var(--sklearn-color-text);\n",
       "  /* unfitted */\n",
       "  background-color: var(--sklearn-color-unfitted-level-0);\n",
       "}\n",
       "\n",
       "#sk-container-id-7 div.sk-toggleable__content.fitted pre {\n",
       "  /* unfitted */\n",
       "  background-color: var(--sklearn-color-fitted-level-0);\n",
       "}\n",
       "\n",
       "#sk-container-id-7 input.sk-toggleable__control:checked~div.sk-toggleable__content {\n",
       "  /* Expand drop-down */\n",
       "  max-height: 200px;\n",
       "  max-width: 100%;\n",
       "  overflow: auto;\n",
       "}\n",
       "\n",
       "#sk-container-id-7 input.sk-toggleable__control:checked~label.sk-toggleable__label-arrow:before {\n",
       "  content: \"▾\";\n",
       "}\n",
       "\n",
       "/* Pipeline/ColumnTransformer-specific style */\n",
       "\n",
       "#sk-container-id-7 div.sk-label input.sk-toggleable__control:checked~label.sk-toggleable__label {\n",
       "  color: var(--sklearn-color-text);\n",
       "  background-color: var(--sklearn-color-unfitted-level-2);\n",
       "}\n",
       "\n",
       "#sk-container-id-7 div.sk-label.fitted input.sk-toggleable__control:checked~label.sk-toggleable__label {\n",
       "  background-color: var(--sklearn-color-fitted-level-2);\n",
       "}\n",
       "\n",
       "/* Estimator-specific style */\n",
       "\n",
       "/* Colorize estimator box */\n",
       "#sk-container-id-7 div.sk-estimator input.sk-toggleable__control:checked~label.sk-toggleable__label {\n",
       "  /* unfitted */\n",
       "  background-color: var(--sklearn-color-unfitted-level-2);\n",
       "}\n",
       "\n",
       "#sk-container-id-7 div.sk-estimator.fitted input.sk-toggleable__control:checked~label.sk-toggleable__label {\n",
       "  /* fitted */\n",
       "  background-color: var(--sklearn-color-fitted-level-2);\n",
       "}\n",
       "\n",
       "#sk-container-id-7 div.sk-label label.sk-toggleable__label,\n",
       "#sk-container-id-7 div.sk-label label {\n",
       "  /* The background is the default theme color */\n",
       "  color: var(--sklearn-color-text-on-default-background);\n",
       "}\n",
       "\n",
       "/* On hover, darken the color of the background */\n",
       "#sk-container-id-7 div.sk-label:hover label.sk-toggleable__label {\n",
       "  color: var(--sklearn-color-text);\n",
       "  background-color: var(--sklearn-color-unfitted-level-2);\n",
       "}\n",
       "\n",
       "/* Label box, darken color on hover, fitted */\n",
       "#sk-container-id-7 div.sk-label.fitted:hover label.sk-toggleable__label.fitted {\n",
       "  color: var(--sklearn-color-text);\n",
       "  background-color: var(--sklearn-color-fitted-level-2);\n",
       "}\n",
       "\n",
       "/* Estimator label */\n",
       "\n",
       "#sk-container-id-7 div.sk-label label {\n",
       "  font-family: monospace;\n",
       "  font-weight: bold;\n",
       "  display: inline-block;\n",
       "  line-height: 1.2em;\n",
       "}\n",
       "\n",
       "#sk-container-id-7 div.sk-label-container {\n",
       "  text-align: center;\n",
       "}\n",
       "\n",
       "/* Estimator-specific */\n",
       "#sk-container-id-7 div.sk-estimator {\n",
       "  font-family: monospace;\n",
       "  border: 1px dotted var(--sklearn-color-border-box);\n",
       "  border-radius: 0.25em;\n",
       "  box-sizing: border-box;\n",
       "  margin-bottom: 0.5em;\n",
       "  /* unfitted */\n",
       "  background-color: var(--sklearn-color-unfitted-level-0);\n",
       "}\n",
       "\n",
       "#sk-container-id-7 div.sk-estimator.fitted {\n",
       "  /* fitted */\n",
       "  background-color: var(--sklearn-color-fitted-level-0);\n",
       "}\n",
       "\n",
       "/* on hover */\n",
       "#sk-container-id-7 div.sk-estimator:hover {\n",
       "  /* unfitted */\n",
       "  background-color: var(--sklearn-color-unfitted-level-2);\n",
       "}\n",
       "\n",
       "#sk-container-id-7 div.sk-estimator.fitted:hover {\n",
       "  /* fitted */\n",
       "  background-color: var(--sklearn-color-fitted-level-2);\n",
       "}\n",
       "\n",
       "/* Specification for estimator info (e.g. \"i\" and \"?\") */\n",
       "\n",
       "/* Common style for \"i\" and \"?\" */\n",
       "\n",
       ".sk-estimator-doc-link,\n",
       "a:link.sk-estimator-doc-link,\n",
       "a:visited.sk-estimator-doc-link {\n",
       "  float: right;\n",
       "  font-size: smaller;\n",
       "  line-height: 1em;\n",
       "  font-family: monospace;\n",
       "  background-color: var(--sklearn-color-background);\n",
       "  border-radius: 1em;\n",
       "  height: 1em;\n",
       "  width: 1em;\n",
       "  text-decoration: none !important;\n",
       "  margin-left: 0.5em;\n",
       "  text-align: center;\n",
       "  /* unfitted */\n",
       "  border: var(--sklearn-color-unfitted-level-1) 1pt solid;\n",
       "  color: var(--sklearn-color-unfitted-level-1);\n",
       "}\n",
       "\n",
       ".sk-estimator-doc-link.fitted,\n",
       "a:link.sk-estimator-doc-link.fitted,\n",
       "a:visited.sk-estimator-doc-link.fitted {\n",
       "  /* fitted */\n",
       "  border: var(--sklearn-color-fitted-level-1) 1pt solid;\n",
       "  color: var(--sklearn-color-fitted-level-1);\n",
       "}\n",
       "\n",
       "/* On hover */\n",
       "div.sk-estimator:hover .sk-estimator-doc-link:hover,\n",
       ".sk-estimator-doc-link:hover,\n",
       "div.sk-label-container:hover .sk-estimator-doc-link:hover,\n",
       ".sk-estimator-doc-link:hover {\n",
       "  /* unfitted */\n",
       "  background-color: var(--sklearn-color-unfitted-level-3);\n",
       "  color: var(--sklearn-color-background);\n",
       "  text-decoration: none;\n",
       "}\n",
       "\n",
       "div.sk-estimator.fitted:hover .sk-estimator-doc-link.fitted:hover,\n",
       ".sk-estimator-doc-link.fitted:hover,\n",
       "div.sk-label-container:hover .sk-estimator-doc-link.fitted:hover,\n",
       ".sk-estimator-doc-link.fitted:hover {\n",
       "  /* fitted */\n",
       "  background-color: var(--sklearn-color-fitted-level-3);\n",
       "  color: var(--sklearn-color-background);\n",
       "  text-decoration: none;\n",
       "}\n",
       "\n",
       "/* Span, style for the box shown on hovering the info icon */\n",
       ".sk-estimator-doc-link span {\n",
       "  display: none;\n",
       "  z-index: 9999;\n",
       "  position: relative;\n",
       "  font-weight: normal;\n",
       "  right: .2ex;\n",
       "  padding: .5ex;\n",
       "  margin: .5ex;\n",
       "  width: min-content;\n",
       "  min-width: 20ex;\n",
       "  max-width: 50ex;\n",
       "  color: var(--sklearn-color-text);\n",
       "  box-shadow: 2pt 2pt 4pt #999;\n",
       "  /* unfitted */\n",
       "  background: var(--sklearn-color-unfitted-level-0);\n",
       "  border: .5pt solid var(--sklearn-color-unfitted-level-3);\n",
       "}\n",
       "\n",
       ".sk-estimator-doc-link.fitted span {\n",
       "  /* fitted */\n",
       "  background: var(--sklearn-color-fitted-level-0);\n",
       "  border: var(--sklearn-color-fitted-level-3);\n",
       "}\n",
       "\n",
       ".sk-estimator-doc-link:hover span {\n",
       "  display: block;\n",
       "}\n",
       "\n",
       "/* \"?\"-specific style due to the `<a>` HTML tag */\n",
       "\n",
       "#sk-container-id-7 a.estimator_doc_link {\n",
       "  float: right;\n",
       "  font-size: 1rem;\n",
       "  line-height: 1em;\n",
       "  font-family: monospace;\n",
       "  background-color: var(--sklearn-color-background);\n",
       "  border-radius: 1rem;\n",
       "  height: 1rem;\n",
       "  width: 1rem;\n",
       "  text-decoration: none;\n",
       "  /* unfitted */\n",
       "  color: var(--sklearn-color-unfitted-level-1);\n",
       "  border: var(--sklearn-color-unfitted-level-1) 1pt solid;\n",
       "}\n",
       "\n",
       "#sk-container-id-7 a.estimator_doc_link.fitted {\n",
       "  /* fitted */\n",
       "  border: var(--sklearn-color-fitted-level-1) 1pt solid;\n",
       "  color: var(--sklearn-color-fitted-level-1);\n",
       "}\n",
       "\n",
       "/* On hover */\n",
       "#sk-container-id-7 a.estimator_doc_link:hover {\n",
       "  /* unfitted */\n",
       "  background-color: var(--sklearn-color-unfitted-level-3);\n",
       "  color: var(--sklearn-color-background);\n",
       "  text-decoration: none;\n",
       "}\n",
       "\n",
       "#sk-container-id-7 a.estimator_doc_link.fitted:hover {\n",
       "  /* fitted */\n",
       "  background-color: var(--sklearn-color-fitted-level-3);\n",
       "}\n",
       "</style><div id=\"sk-container-id-7\" class=\"sk-top-container\"><div class=\"sk-text-repr-fallback\"><pre>RandomForestClassifier(n_estimators=10)</pre><b>In a Jupyter environment, please rerun this cell to show the HTML representation or trust the notebook. <br />On GitHub, the HTML representation is unable to render, please try loading this page with nbviewer.org.</b></div><div class=\"sk-container\" hidden><div class=\"sk-item\"><div class=\"sk-estimator fitted sk-toggleable\"><input class=\"sk-toggleable__control sk-hidden--visually\" id=\"sk-estimator-id-7\" type=\"checkbox\" checked><label for=\"sk-estimator-id-7\" class=\"sk-toggleable__label fitted sk-toggleable__label-arrow\"><div><div>RandomForestClassifier</div></div><div><a class=\"sk-estimator-doc-link fitted\" rel=\"noreferrer\" target=\"_blank\" href=\"https://scikit-learn.org/1.6/modules/generated/sklearn.ensemble.RandomForestClassifier.html\">?<span>Documentation for RandomForestClassifier</span></a><span class=\"sk-estimator-doc-link fitted\">i<span>Fitted</span></span></div></label><div class=\"sk-toggleable__content fitted\"><pre>RandomForestClassifier(n_estimators=10)</pre></div> </div></div></div></div>"
      ]
     },
     "execution_count": 175,
     "metadata": {},
     "output_type": "execute_result"
    }
   ],
   "execution_count": 175
  },
  {
   "metadata": {
    "ExecuteTime": {
     "end_time": "2025-05-28T19:10:09.621983Z",
     "start_time": "2025-05-28T19:10:09.618424Z"
    }
   },
   "cell_type": "code",
   "source": "y_pred = model.predict(x_test)",
   "id": "c730261a5a609e0d",
   "outputs": [],
   "execution_count": 176
  },
  {
   "metadata": {
    "ExecuteTime": {
     "end_time": "2025-05-28T19:10:09.825109Z",
     "start_time": "2025-05-28T19:10:09.818936Z"
    }
   },
   "cell_type": "code",
   "source": [
    "print(\"Accuracy:\", accuracy_score(y_test, y_pred))\n",
    "print(\"Classification Report:\\n\", classification_report(y_test, y_pred))\n",
    "print(\"Confusion Matrix:\\n\", confusion_matrix(y_test, y_pred))"
   ],
   "id": "f2bc3e391a71b3cf",
   "outputs": [
    {
     "name": "stdout",
     "output_type": "stream",
     "text": [
      "Accuracy: 0.6944444444444444\n",
      "Classification Report:\n",
      "               precision    recall  f1-score   support\n",
      "\n",
      "           0       0.88      0.76      0.81        29\n",
      "           1       0.71      0.62      0.67        24\n",
      "           2       0.00      0.00      0.00         1\n",
      "           5       0.69      0.61      0.65        18\n",
      "           7       0.59      0.67      0.62        15\n",
      "           8       0.83      1.00      0.91         5\n",
      "           9       0.80      0.67      0.73         6\n",
      "          10       0.50      1.00      0.67         1\n",
      "          11       0.50      0.78      0.61         9\n",
      "\n",
      "    accuracy                           0.69       108\n",
      "   macro avg       0.61      0.68      0.63       108\n",
      "weighted avg       0.72      0.69      0.70       108\n",
      "\n",
      "Confusion Matrix:\n",
      " [[22  2  1  2  2  0  0  0  0]\n",
      " [ 1 15  1  0  1  0  1  1  4]\n",
      " [ 0  0  0  1  0  0  0  0  0]\n",
      " [ 1  1  0 11  2  0  0  0  3]\n",
      " [ 0  2  0  2 10  1  0  0  0]\n",
      " [ 0  0  0  0  0  5  0  0  0]\n",
      " [ 0  0  0  0  2  0  4  0  0]\n",
      " [ 0  0  0  0  0  0  0  1  0]\n",
      " [ 1  1  0  0  0  0  0  0  7]]\n"
     ]
    }
   ],
   "execution_count": 177
  },
  {
   "metadata": {
    "ExecuteTime": {
     "end_time": "2025-05-28T19:10:10.022851Z",
     "start_time": "2025-05-28T19:10:10.019926Z"
    }
   },
   "cell_type": "code",
   "source": "print(x.iloc[0])",
   "id": "7439a8cc8c8598f7",
   "outputs": [
    {
     "name": "stdout",
     "output_type": "stream",
     "text": [
      "feature_1    0.00000\n",
      "feature_2    0.03200\n",
      "feature_3    1.00000\n",
      "feature_4    0.38350\n",
      "feature_5    5.00000\n",
      "feature_6    0.26617\n",
      "Name: 0, dtype: float64\n"
     ]
    }
   ],
   "execution_count": 178
  },
  {
   "metadata": {
    "ExecuteTime": {
     "end_time": "2025-05-28T19:10:10.242278Z",
     "start_time": "2025-05-28T19:10:10.239508Z"
    }
   },
   "cell_type": "code",
   "source": "x_train_duration, x_test_duration, y_train_duration, y_test_duration = train_test_split(x, y_2, test_size=0.2, random_state=42)",
   "id": "3ee9f182ce01d468",
   "outputs": [],
   "execution_count": 179
  },
  {
   "metadata": {
    "ExecuteTime": {
     "end_time": "2025-05-28T19:10:10.444352Z",
     "start_time": "2025-05-28T19:10:10.442526Z"
    }
   },
   "cell_type": "code",
   "source": "model_2 = RandomForestRegressor(n_estimators=100, random_state=42)",
   "id": "53eca4e04a7b4103",
   "outputs": [],
   "execution_count": 180
  },
  {
   "metadata": {
    "ExecuteTime": {
     "end_time": "2025-05-28T19:10:10.726485Z",
     "start_time": "2025-05-28T19:10:10.656758Z"
    }
   },
   "cell_type": "code",
   "source": "model_2.fit(x_train_duration, y_train_duration)",
   "id": "6a0a6280b7fae0c9",
   "outputs": [
    {
     "data": {
      "text/plain": [
       "RandomForestRegressor(random_state=42)"
      ],
      "text/html": [
       "<style>#sk-container-id-8 {\n",
       "  /* Definition of color scheme common for light and dark mode */\n",
       "  --sklearn-color-text: #000;\n",
       "  --sklearn-color-text-muted: #666;\n",
       "  --sklearn-color-line: gray;\n",
       "  /* Definition of color scheme for unfitted estimators */\n",
       "  --sklearn-color-unfitted-level-0: #fff5e6;\n",
       "  --sklearn-color-unfitted-level-1: #f6e4d2;\n",
       "  --sklearn-color-unfitted-level-2: #ffe0b3;\n",
       "  --sklearn-color-unfitted-level-3: chocolate;\n",
       "  /* Definition of color scheme for fitted estimators */\n",
       "  --sklearn-color-fitted-level-0: #f0f8ff;\n",
       "  --sklearn-color-fitted-level-1: #d4ebff;\n",
       "  --sklearn-color-fitted-level-2: #b3dbfd;\n",
       "  --sklearn-color-fitted-level-3: cornflowerblue;\n",
       "\n",
       "  /* Specific color for light theme */\n",
       "  --sklearn-color-text-on-default-background: var(--sg-text-color, var(--theme-code-foreground, var(--jp-content-font-color1, black)));\n",
       "  --sklearn-color-background: var(--sg-background-color, var(--theme-background, var(--jp-layout-color0, white)));\n",
       "  --sklearn-color-border-box: var(--sg-text-color, var(--theme-code-foreground, var(--jp-content-font-color1, black)));\n",
       "  --sklearn-color-icon: #696969;\n",
       "\n",
       "  @media (prefers-color-scheme: dark) {\n",
       "    /* Redefinition of color scheme for dark theme */\n",
       "    --sklearn-color-text-on-default-background: var(--sg-text-color, var(--theme-code-foreground, var(--jp-content-font-color1, white)));\n",
       "    --sklearn-color-background: var(--sg-background-color, var(--theme-background, var(--jp-layout-color0, #111)));\n",
       "    --sklearn-color-border-box: var(--sg-text-color, var(--theme-code-foreground, var(--jp-content-font-color1, white)));\n",
       "    --sklearn-color-icon: #878787;\n",
       "  }\n",
       "}\n",
       "\n",
       "#sk-container-id-8 {\n",
       "  color: var(--sklearn-color-text);\n",
       "}\n",
       "\n",
       "#sk-container-id-8 pre {\n",
       "  padding: 0;\n",
       "}\n",
       "\n",
       "#sk-container-id-8 input.sk-hidden--visually {\n",
       "  border: 0;\n",
       "  clip: rect(1px 1px 1px 1px);\n",
       "  clip: rect(1px, 1px, 1px, 1px);\n",
       "  height: 1px;\n",
       "  margin: -1px;\n",
       "  overflow: hidden;\n",
       "  padding: 0;\n",
       "  position: absolute;\n",
       "  width: 1px;\n",
       "}\n",
       "\n",
       "#sk-container-id-8 div.sk-dashed-wrapped {\n",
       "  border: 1px dashed var(--sklearn-color-line);\n",
       "  margin: 0 0.4em 0.5em 0.4em;\n",
       "  box-sizing: border-box;\n",
       "  padding-bottom: 0.4em;\n",
       "  background-color: var(--sklearn-color-background);\n",
       "}\n",
       "\n",
       "#sk-container-id-8 div.sk-container {\n",
       "  /* jupyter's `normalize.less` sets `[hidden] { display: none; }`\n",
       "     but bootstrap.min.css set `[hidden] { display: none !important; }`\n",
       "     so we also need the `!important` here to be able to override the\n",
       "     default hidden behavior on the sphinx rendered scikit-learn.org.\n",
       "     See: https://github.com/scikit-learn/scikit-learn/issues/21755 */\n",
       "  display: inline-block !important;\n",
       "  position: relative;\n",
       "}\n",
       "\n",
       "#sk-container-id-8 div.sk-text-repr-fallback {\n",
       "  display: none;\n",
       "}\n",
       "\n",
       "div.sk-parallel-item,\n",
       "div.sk-serial,\n",
       "div.sk-item {\n",
       "  /* draw centered vertical line to link estimators */\n",
       "  background-image: linear-gradient(var(--sklearn-color-text-on-default-background), var(--sklearn-color-text-on-default-background));\n",
       "  background-size: 2px 100%;\n",
       "  background-repeat: no-repeat;\n",
       "  background-position: center center;\n",
       "}\n",
       "\n",
       "/* Parallel-specific style estimator block */\n",
       "\n",
       "#sk-container-id-8 div.sk-parallel-item::after {\n",
       "  content: \"\";\n",
       "  width: 100%;\n",
       "  border-bottom: 2px solid var(--sklearn-color-text-on-default-background);\n",
       "  flex-grow: 1;\n",
       "}\n",
       "\n",
       "#sk-container-id-8 div.sk-parallel {\n",
       "  display: flex;\n",
       "  align-items: stretch;\n",
       "  justify-content: center;\n",
       "  background-color: var(--sklearn-color-background);\n",
       "  position: relative;\n",
       "}\n",
       "\n",
       "#sk-container-id-8 div.sk-parallel-item {\n",
       "  display: flex;\n",
       "  flex-direction: column;\n",
       "}\n",
       "\n",
       "#sk-container-id-8 div.sk-parallel-item:first-child::after {\n",
       "  align-self: flex-end;\n",
       "  width: 50%;\n",
       "}\n",
       "\n",
       "#sk-container-id-8 div.sk-parallel-item:last-child::after {\n",
       "  align-self: flex-start;\n",
       "  width: 50%;\n",
       "}\n",
       "\n",
       "#sk-container-id-8 div.sk-parallel-item:only-child::after {\n",
       "  width: 0;\n",
       "}\n",
       "\n",
       "/* Serial-specific style estimator block */\n",
       "\n",
       "#sk-container-id-8 div.sk-serial {\n",
       "  display: flex;\n",
       "  flex-direction: column;\n",
       "  align-items: center;\n",
       "  background-color: var(--sklearn-color-background);\n",
       "  padding-right: 1em;\n",
       "  padding-left: 1em;\n",
       "}\n",
       "\n",
       "\n",
       "/* Toggleable style: style used for estimator/Pipeline/ColumnTransformer box that is\n",
       "clickable and can be expanded/collapsed.\n",
       "- Pipeline and ColumnTransformer use this feature and define the default style\n",
       "- Estimators will overwrite some part of the style using the `sk-estimator` class\n",
       "*/\n",
       "\n",
       "/* Pipeline and ColumnTransformer style (default) */\n",
       "\n",
       "#sk-container-id-8 div.sk-toggleable {\n",
       "  /* Default theme specific background. It is overwritten whether we have a\n",
       "  specific estimator or a Pipeline/ColumnTransformer */\n",
       "  background-color: var(--sklearn-color-background);\n",
       "}\n",
       "\n",
       "/* Toggleable label */\n",
       "#sk-container-id-8 label.sk-toggleable__label {\n",
       "  cursor: pointer;\n",
       "  display: flex;\n",
       "  width: 100%;\n",
       "  margin-bottom: 0;\n",
       "  padding: 0.5em;\n",
       "  box-sizing: border-box;\n",
       "  text-align: center;\n",
       "  align-items: start;\n",
       "  justify-content: space-between;\n",
       "  gap: 0.5em;\n",
       "}\n",
       "\n",
       "#sk-container-id-8 label.sk-toggleable__label .caption {\n",
       "  font-size: 0.6rem;\n",
       "  font-weight: lighter;\n",
       "  color: var(--sklearn-color-text-muted);\n",
       "}\n",
       "\n",
       "#sk-container-id-8 label.sk-toggleable__label-arrow:before {\n",
       "  /* Arrow on the left of the label */\n",
       "  content: \"▸\";\n",
       "  float: left;\n",
       "  margin-right: 0.25em;\n",
       "  color: var(--sklearn-color-icon);\n",
       "}\n",
       "\n",
       "#sk-container-id-8 label.sk-toggleable__label-arrow:hover:before {\n",
       "  color: var(--sklearn-color-text);\n",
       "}\n",
       "\n",
       "/* Toggleable content - dropdown */\n",
       "\n",
       "#sk-container-id-8 div.sk-toggleable__content {\n",
       "  max-height: 0;\n",
       "  max-width: 0;\n",
       "  overflow: hidden;\n",
       "  text-align: left;\n",
       "  /* unfitted */\n",
       "  background-color: var(--sklearn-color-unfitted-level-0);\n",
       "}\n",
       "\n",
       "#sk-container-id-8 div.sk-toggleable__content.fitted {\n",
       "  /* fitted */\n",
       "  background-color: var(--sklearn-color-fitted-level-0);\n",
       "}\n",
       "\n",
       "#sk-container-id-8 div.sk-toggleable__content pre {\n",
       "  margin: 0.2em;\n",
       "  border-radius: 0.25em;\n",
       "  color: var(--sklearn-color-text);\n",
       "  /* unfitted */\n",
       "  background-color: var(--sklearn-color-unfitted-level-0);\n",
       "}\n",
       "\n",
       "#sk-container-id-8 div.sk-toggleable__content.fitted pre {\n",
       "  /* unfitted */\n",
       "  background-color: var(--sklearn-color-fitted-level-0);\n",
       "}\n",
       "\n",
       "#sk-container-id-8 input.sk-toggleable__control:checked~div.sk-toggleable__content {\n",
       "  /* Expand drop-down */\n",
       "  max-height: 200px;\n",
       "  max-width: 100%;\n",
       "  overflow: auto;\n",
       "}\n",
       "\n",
       "#sk-container-id-8 input.sk-toggleable__control:checked~label.sk-toggleable__label-arrow:before {\n",
       "  content: \"▾\";\n",
       "}\n",
       "\n",
       "/* Pipeline/ColumnTransformer-specific style */\n",
       "\n",
       "#sk-container-id-8 div.sk-label input.sk-toggleable__control:checked~label.sk-toggleable__label {\n",
       "  color: var(--sklearn-color-text);\n",
       "  background-color: var(--sklearn-color-unfitted-level-2);\n",
       "}\n",
       "\n",
       "#sk-container-id-8 div.sk-label.fitted input.sk-toggleable__control:checked~label.sk-toggleable__label {\n",
       "  background-color: var(--sklearn-color-fitted-level-2);\n",
       "}\n",
       "\n",
       "/* Estimator-specific style */\n",
       "\n",
       "/* Colorize estimator box */\n",
       "#sk-container-id-8 div.sk-estimator input.sk-toggleable__control:checked~label.sk-toggleable__label {\n",
       "  /* unfitted */\n",
       "  background-color: var(--sklearn-color-unfitted-level-2);\n",
       "}\n",
       "\n",
       "#sk-container-id-8 div.sk-estimator.fitted input.sk-toggleable__control:checked~label.sk-toggleable__label {\n",
       "  /* fitted */\n",
       "  background-color: var(--sklearn-color-fitted-level-2);\n",
       "}\n",
       "\n",
       "#sk-container-id-8 div.sk-label label.sk-toggleable__label,\n",
       "#sk-container-id-8 div.sk-label label {\n",
       "  /* The background is the default theme color */\n",
       "  color: var(--sklearn-color-text-on-default-background);\n",
       "}\n",
       "\n",
       "/* On hover, darken the color of the background */\n",
       "#sk-container-id-8 div.sk-label:hover label.sk-toggleable__label {\n",
       "  color: var(--sklearn-color-text);\n",
       "  background-color: var(--sklearn-color-unfitted-level-2);\n",
       "}\n",
       "\n",
       "/* Label box, darken color on hover, fitted */\n",
       "#sk-container-id-8 div.sk-label.fitted:hover label.sk-toggleable__label.fitted {\n",
       "  color: var(--sklearn-color-text);\n",
       "  background-color: var(--sklearn-color-fitted-level-2);\n",
       "}\n",
       "\n",
       "/* Estimator label */\n",
       "\n",
       "#sk-container-id-8 div.sk-label label {\n",
       "  font-family: monospace;\n",
       "  font-weight: bold;\n",
       "  display: inline-block;\n",
       "  line-height: 1.2em;\n",
       "}\n",
       "\n",
       "#sk-container-id-8 div.sk-label-container {\n",
       "  text-align: center;\n",
       "}\n",
       "\n",
       "/* Estimator-specific */\n",
       "#sk-container-id-8 div.sk-estimator {\n",
       "  font-family: monospace;\n",
       "  border: 1px dotted var(--sklearn-color-border-box);\n",
       "  border-radius: 0.25em;\n",
       "  box-sizing: border-box;\n",
       "  margin-bottom: 0.5em;\n",
       "  /* unfitted */\n",
       "  background-color: var(--sklearn-color-unfitted-level-0);\n",
       "}\n",
       "\n",
       "#sk-container-id-8 div.sk-estimator.fitted {\n",
       "  /* fitted */\n",
       "  background-color: var(--sklearn-color-fitted-level-0);\n",
       "}\n",
       "\n",
       "/* on hover */\n",
       "#sk-container-id-8 div.sk-estimator:hover {\n",
       "  /* unfitted */\n",
       "  background-color: var(--sklearn-color-unfitted-level-2);\n",
       "}\n",
       "\n",
       "#sk-container-id-8 div.sk-estimator.fitted:hover {\n",
       "  /* fitted */\n",
       "  background-color: var(--sklearn-color-fitted-level-2);\n",
       "}\n",
       "\n",
       "/* Specification for estimator info (e.g. \"i\" and \"?\") */\n",
       "\n",
       "/* Common style for \"i\" and \"?\" */\n",
       "\n",
       ".sk-estimator-doc-link,\n",
       "a:link.sk-estimator-doc-link,\n",
       "a:visited.sk-estimator-doc-link {\n",
       "  float: right;\n",
       "  font-size: smaller;\n",
       "  line-height: 1em;\n",
       "  font-family: monospace;\n",
       "  background-color: var(--sklearn-color-background);\n",
       "  border-radius: 1em;\n",
       "  height: 1em;\n",
       "  width: 1em;\n",
       "  text-decoration: none !important;\n",
       "  margin-left: 0.5em;\n",
       "  text-align: center;\n",
       "  /* unfitted */\n",
       "  border: var(--sklearn-color-unfitted-level-1) 1pt solid;\n",
       "  color: var(--sklearn-color-unfitted-level-1);\n",
       "}\n",
       "\n",
       ".sk-estimator-doc-link.fitted,\n",
       "a:link.sk-estimator-doc-link.fitted,\n",
       "a:visited.sk-estimator-doc-link.fitted {\n",
       "  /* fitted */\n",
       "  border: var(--sklearn-color-fitted-level-1) 1pt solid;\n",
       "  color: var(--sklearn-color-fitted-level-1);\n",
       "}\n",
       "\n",
       "/* On hover */\n",
       "div.sk-estimator:hover .sk-estimator-doc-link:hover,\n",
       ".sk-estimator-doc-link:hover,\n",
       "div.sk-label-container:hover .sk-estimator-doc-link:hover,\n",
       ".sk-estimator-doc-link:hover {\n",
       "  /* unfitted */\n",
       "  background-color: var(--sklearn-color-unfitted-level-3);\n",
       "  color: var(--sklearn-color-background);\n",
       "  text-decoration: none;\n",
       "}\n",
       "\n",
       "div.sk-estimator.fitted:hover .sk-estimator-doc-link.fitted:hover,\n",
       ".sk-estimator-doc-link.fitted:hover,\n",
       "div.sk-label-container:hover .sk-estimator-doc-link.fitted:hover,\n",
       ".sk-estimator-doc-link.fitted:hover {\n",
       "  /* fitted */\n",
       "  background-color: var(--sklearn-color-fitted-level-3);\n",
       "  color: var(--sklearn-color-background);\n",
       "  text-decoration: none;\n",
       "}\n",
       "\n",
       "/* Span, style for the box shown on hovering the info icon */\n",
       ".sk-estimator-doc-link span {\n",
       "  display: none;\n",
       "  z-index: 9999;\n",
       "  position: relative;\n",
       "  font-weight: normal;\n",
       "  right: .2ex;\n",
       "  padding: .5ex;\n",
       "  margin: .5ex;\n",
       "  width: min-content;\n",
       "  min-width: 20ex;\n",
       "  max-width: 50ex;\n",
       "  color: var(--sklearn-color-text);\n",
       "  box-shadow: 2pt 2pt 4pt #999;\n",
       "  /* unfitted */\n",
       "  background: var(--sklearn-color-unfitted-level-0);\n",
       "  border: .5pt solid var(--sklearn-color-unfitted-level-3);\n",
       "}\n",
       "\n",
       ".sk-estimator-doc-link.fitted span {\n",
       "  /* fitted */\n",
       "  background: var(--sklearn-color-fitted-level-0);\n",
       "  border: var(--sklearn-color-fitted-level-3);\n",
       "}\n",
       "\n",
       ".sk-estimator-doc-link:hover span {\n",
       "  display: block;\n",
       "}\n",
       "\n",
       "/* \"?\"-specific style due to the `<a>` HTML tag */\n",
       "\n",
       "#sk-container-id-8 a.estimator_doc_link {\n",
       "  float: right;\n",
       "  font-size: 1rem;\n",
       "  line-height: 1em;\n",
       "  font-family: monospace;\n",
       "  background-color: var(--sklearn-color-background);\n",
       "  border-radius: 1rem;\n",
       "  height: 1rem;\n",
       "  width: 1rem;\n",
       "  text-decoration: none;\n",
       "  /* unfitted */\n",
       "  color: var(--sklearn-color-unfitted-level-1);\n",
       "  border: var(--sklearn-color-unfitted-level-1) 1pt solid;\n",
       "}\n",
       "\n",
       "#sk-container-id-8 a.estimator_doc_link.fitted {\n",
       "  /* fitted */\n",
       "  border: var(--sklearn-color-fitted-level-1) 1pt solid;\n",
       "  color: var(--sklearn-color-fitted-level-1);\n",
       "}\n",
       "\n",
       "/* On hover */\n",
       "#sk-container-id-8 a.estimator_doc_link:hover {\n",
       "  /* unfitted */\n",
       "  background-color: var(--sklearn-color-unfitted-level-3);\n",
       "  color: var(--sklearn-color-background);\n",
       "  text-decoration: none;\n",
       "}\n",
       "\n",
       "#sk-container-id-8 a.estimator_doc_link.fitted:hover {\n",
       "  /* fitted */\n",
       "  background-color: var(--sklearn-color-fitted-level-3);\n",
       "}\n",
       "</style><div id=\"sk-container-id-8\" class=\"sk-top-container\"><div class=\"sk-text-repr-fallback\"><pre>RandomForestRegressor(random_state=42)</pre><b>In a Jupyter environment, please rerun this cell to show the HTML representation or trust the notebook. <br />On GitHub, the HTML representation is unable to render, please try loading this page with nbviewer.org.</b></div><div class=\"sk-container\" hidden><div class=\"sk-item\"><div class=\"sk-estimator fitted sk-toggleable\"><input class=\"sk-toggleable__control sk-hidden--visually\" id=\"sk-estimator-id-8\" type=\"checkbox\" checked><label for=\"sk-estimator-id-8\" class=\"sk-toggleable__label fitted sk-toggleable__label-arrow\"><div><div>RandomForestRegressor</div></div><div><a class=\"sk-estimator-doc-link fitted\" rel=\"noreferrer\" target=\"_blank\" href=\"https://scikit-learn.org/1.6/modules/generated/sklearn.ensemble.RandomForestRegressor.html\">?<span>Documentation for RandomForestRegressor</span></a><span class=\"sk-estimator-doc-link fitted\">i<span>Fitted</span></span></div></label><div class=\"sk-toggleable__content fitted\"><pre>RandomForestRegressor(random_state=42)</pre></div> </div></div></div></div>"
      ]
     },
     "execution_count": 181,
     "metadata": {},
     "output_type": "execute_result"
    }
   ],
   "execution_count": 181
  },
  {
   "metadata": {
    "ExecuteTime": {
     "end_time": "2025-05-28T19:10:10.872268Z",
     "start_time": "2025-05-28T19:10:10.866238Z"
    }
   },
   "cell_type": "code",
   "source": "y_pred_duration = model_2.predict(x_test_duration)",
   "id": "fdc216c4a6becc6c",
   "outputs": [],
   "execution_count": 182
  },
  {
   "metadata": {
    "ExecuteTime": {
     "end_time": "2025-05-28T19:10:11.074832Z",
     "start_time": "2025-05-28T19:10:11.066533Z"
    }
   },
   "cell_type": "code",
   "source": "loss = model_2.score(x_test_duration, y_test_duration)",
   "id": "9d1617da4b8e2002",
   "outputs": [],
   "execution_count": 183
  },
  {
   "metadata": {
    "ExecuteTime": {
     "end_time": "2025-05-28T19:10:11.296411Z",
     "start_time": "2025-05-28T19:10:11.293714Z"
    }
   },
   "cell_type": "code",
   "source": "print(loss)",
   "id": "fbd6976610a71bc8",
   "outputs": [
    {
     "name": "stdout",
     "output_type": "stream",
     "text": [
      "0.8594293124602924\n"
     ]
    }
   ],
   "execution_count": 184
  },
  {
   "metadata": {
    "ExecuteTime": {
     "end_time": "2025-05-28T19:10:11.568945Z",
     "start_time": "2025-05-28T19:10:11.481188Z"
    }
   },
   "cell_type": "code",
   "source": [
    "x_test_sample = model_data[0][0:6]\n",
    "for i in range(0,3):\n",
    "    print(note_labels[x_test_sample[i*2]])\n",
    "predicted_notes = []\n",
    "predicted_duration = []\n",
    "for i in range(0,30):\n",
    "    pred_note = model.predict([x_test_sample])\n",
    "    pred_duration = model_2.predict([x_test_sample])\n",
    "    print(note_labels[pred_note[0]], pred_duration[0])\n",
    "    predicted_notes.append(note_labels[pred_note[0]])\n",
    "    predicted_duration.append(pred_duration[0])\n",
    "    x_test_sample = x_test_sample[2:]\n",
    "    x_test_sample.append(pred_note[0])\n",
    "    x_test_sample.append(pred_duration[0])"
   ],
   "id": "5ec4cf3ee365b879",
   "outputs": [
    {
     "name": "stdout",
     "output_type": "stream",
     "text": [
      "Dha\n",
      "Dhin\n",
      "Na\n",
      "Dha 0.14341306666666667\n",
      "Dha 0.2593056333333335\n",
      "Tin 0.33588194166666696\n",
      "T 0.26126170000000015\n",
      "Ta 0.1513695250000002\n",
      "Dhin 0.2580282116666668\n",
      "Dhin 0.20088680000000003\n",
      "Dha 0.20966583333333336\n",
      "Dha 0.2847626666666668\n",
      "Tin 0.2327607383333335\n",
      "Dhin 0.25761791666666656\n",
      "Tin 0.27952679666666663\n",
      "Dha 0.25875275000000025\n",
      "Tin 0.17871568000000018\n",
      "Ti 0.35599311666666655\n",
      "Ti 0.22508606523809527\n",
      "Dha 0.29972394166666677\n",
      "Dha 0.26849326000000007\n",
      "Dhin 0.22197660166666672\n",
      "Dhin 0.35195891\n",
      "Dha 0.2239536750000002\n",
      "Dha 0.21158853333333344\n",
      "Dha 0.37046891666666665\n",
      "Tin 0.2372517083333336\n",
      "Tin 0.21532436666666668\n",
      "Ta 0.3023627342857142\n",
      "Ta 0.26285179166666667\n",
      "Dha 0.29304720000000034\n",
      "T 0.27907733499999987\n",
      "Tin 0.23289603333333347\n"
     ]
    },
    {
     "name": "stderr",
     "output_type": "stream",
     "text": [
      "/opt/anaconda3/envs/ML312/lib/python3.12/site-packages/sklearn/utils/validation.py:2739: UserWarning: X does not have valid feature names, but RandomForestClassifier was fitted with feature names\n",
      "  warnings.warn(\n",
      "/opt/anaconda3/envs/ML312/lib/python3.12/site-packages/sklearn/utils/validation.py:2739: UserWarning: X does not have valid feature names, but RandomForestRegressor was fitted with feature names\n",
      "  warnings.warn(\n",
      "/opt/anaconda3/envs/ML312/lib/python3.12/site-packages/sklearn/utils/validation.py:2739: UserWarning: X does not have valid feature names, but RandomForestClassifier was fitted with feature names\n",
      "  warnings.warn(\n",
      "/opt/anaconda3/envs/ML312/lib/python3.12/site-packages/sklearn/utils/validation.py:2739: UserWarning: X does not have valid feature names, but RandomForestRegressor was fitted with feature names\n",
      "  warnings.warn(\n",
      "/opt/anaconda3/envs/ML312/lib/python3.12/site-packages/sklearn/utils/validation.py:2739: UserWarning: X does not have valid feature names, but RandomForestClassifier was fitted with feature names\n",
      "  warnings.warn(\n",
      "/opt/anaconda3/envs/ML312/lib/python3.12/site-packages/sklearn/utils/validation.py:2739: UserWarning: X does not have valid feature names, but RandomForestRegressor was fitted with feature names\n",
      "  warnings.warn(\n",
      "/opt/anaconda3/envs/ML312/lib/python3.12/site-packages/sklearn/utils/validation.py:2739: UserWarning: X does not have valid feature names, but RandomForestClassifier was fitted with feature names\n",
      "  warnings.warn(\n",
      "/opt/anaconda3/envs/ML312/lib/python3.12/site-packages/sklearn/utils/validation.py:2739: UserWarning: X does not have valid feature names, but RandomForestRegressor was fitted with feature names\n",
      "  warnings.warn(\n",
      "/opt/anaconda3/envs/ML312/lib/python3.12/site-packages/sklearn/utils/validation.py:2739: UserWarning: X does not have valid feature names, but RandomForestClassifier was fitted with feature names\n",
      "  warnings.warn(\n",
      "/opt/anaconda3/envs/ML312/lib/python3.12/site-packages/sklearn/utils/validation.py:2739: UserWarning: X does not have valid feature names, but RandomForestRegressor was fitted with feature names\n",
      "  warnings.warn(\n",
      "/opt/anaconda3/envs/ML312/lib/python3.12/site-packages/sklearn/utils/validation.py:2739: UserWarning: X does not have valid feature names, but RandomForestClassifier was fitted with feature names\n",
      "  warnings.warn(\n",
      "/opt/anaconda3/envs/ML312/lib/python3.12/site-packages/sklearn/utils/validation.py:2739: UserWarning: X does not have valid feature names, but RandomForestRegressor was fitted with feature names\n",
      "  warnings.warn(\n",
      "/opt/anaconda3/envs/ML312/lib/python3.12/site-packages/sklearn/utils/validation.py:2739: UserWarning: X does not have valid feature names, but RandomForestClassifier was fitted with feature names\n",
      "  warnings.warn(\n",
      "/opt/anaconda3/envs/ML312/lib/python3.12/site-packages/sklearn/utils/validation.py:2739: UserWarning: X does not have valid feature names, but RandomForestRegressor was fitted with feature names\n",
      "  warnings.warn(\n",
      "/opt/anaconda3/envs/ML312/lib/python3.12/site-packages/sklearn/utils/validation.py:2739: UserWarning: X does not have valid feature names, but RandomForestClassifier was fitted with feature names\n",
      "  warnings.warn(\n",
      "/opt/anaconda3/envs/ML312/lib/python3.12/site-packages/sklearn/utils/validation.py:2739: UserWarning: X does not have valid feature names, but RandomForestRegressor was fitted with feature names\n",
      "  warnings.warn(\n",
      "/opt/anaconda3/envs/ML312/lib/python3.12/site-packages/sklearn/utils/validation.py:2739: UserWarning: X does not have valid feature names, but RandomForestClassifier was fitted with feature names\n",
      "  warnings.warn(\n",
      "/opt/anaconda3/envs/ML312/lib/python3.12/site-packages/sklearn/utils/validation.py:2739: UserWarning: X does not have valid feature names, but RandomForestRegressor was fitted with feature names\n",
      "  warnings.warn(\n",
      "/opt/anaconda3/envs/ML312/lib/python3.12/site-packages/sklearn/utils/validation.py:2739: UserWarning: X does not have valid feature names, but RandomForestClassifier was fitted with feature names\n",
      "  warnings.warn(\n",
      "/opt/anaconda3/envs/ML312/lib/python3.12/site-packages/sklearn/utils/validation.py:2739: UserWarning: X does not have valid feature names, but RandomForestRegressor was fitted with feature names\n",
      "  warnings.warn(\n",
      "/opt/anaconda3/envs/ML312/lib/python3.12/site-packages/sklearn/utils/validation.py:2739: UserWarning: X does not have valid feature names, but RandomForestClassifier was fitted with feature names\n",
      "  warnings.warn(\n",
      "/opt/anaconda3/envs/ML312/lib/python3.12/site-packages/sklearn/utils/validation.py:2739: UserWarning: X does not have valid feature names, but RandomForestRegressor was fitted with feature names\n",
      "  warnings.warn(\n",
      "/opt/anaconda3/envs/ML312/lib/python3.12/site-packages/sklearn/utils/validation.py:2739: UserWarning: X does not have valid feature names, but RandomForestClassifier was fitted with feature names\n",
      "  warnings.warn(\n",
      "/opt/anaconda3/envs/ML312/lib/python3.12/site-packages/sklearn/utils/validation.py:2739: UserWarning: X does not have valid feature names, but RandomForestRegressor was fitted with feature names\n",
      "  warnings.warn(\n",
      "/opt/anaconda3/envs/ML312/lib/python3.12/site-packages/sklearn/utils/validation.py:2739: UserWarning: X does not have valid feature names, but RandomForestClassifier was fitted with feature names\n",
      "  warnings.warn(\n",
      "/opt/anaconda3/envs/ML312/lib/python3.12/site-packages/sklearn/utils/validation.py:2739: UserWarning: X does not have valid feature names, but RandomForestRegressor was fitted with feature names\n",
      "  warnings.warn(\n",
      "/opt/anaconda3/envs/ML312/lib/python3.12/site-packages/sklearn/utils/validation.py:2739: UserWarning: X does not have valid feature names, but RandomForestClassifier was fitted with feature names\n",
      "  warnings.warn(\n",
      "/opt/anaconda3/envs/ML312/lib/python3.12/site-packages/sklearn/utils/validation.py:2739: UserWarning: X does not have valid feature names, but RandomForestRegressor was fitted with feature names\n",
      "  warnings.warn(\n",
      "/opt/anaconda3/envs/ML312/lib/python3.12/site-packages/sklearn/utils/validation.py:2739: UserWarning: X does not have valid feature names, but RandomForestClassifier was fitted with feature names\n",
      "  warnings.warn(\n",
      "/opt/anaconda3/envs/ML312/lib/python3.12/site-packages/sklearn/utils/validation.py:2739: UserWarning: X does not have valid feature names, but RandomForestRegressor was fitted with feature names\n",
      "  warnings.warn(\n",
      "/opt/anaconda3/envs/ML312/lib/python3.12/site-packages/sklearn/utils/validation.py:2739: UserWarning: X does not have valid feature names, but RandomForestClassifier was fitted with feature names\n",
      "  warnings.warn(\n",
      "/opt/anaconda3/envs/ML312/lib/python3.12/site-packages/sklearn/utils/validation.py:2739: UserWarning: X does not have valid feature names, but RandomForestRegressor was fitted with feature names\n",
      "  warnings.warn(\n",
      "/opt/anaconda3/envs/ML312/lib/python3.12/site-packages/sklearn/utils/validation.py:2739: UserWarning: X does not have valid feature names, but RandomForestClassifier was fitted with feature names\n",
      "  warnings.warn(\n",
      "/opt/anaconda3/envs/ML312/lib/python3.12/site-packages/sklearn/utils/validation.py:2739: UserWarning: X does not have valid feature names, but RandomForestRegressor was fitted with feature names\n",
      "  warnings.warn(\n",
      "/opt/anaconda3/envs/ML312/lib/python3.12/site-packages/sklearn/utils/validation.py:2739: UserWarning: X does not have valid feature names, but RandomForestClassifier was fitted with feature names\n",
      "  warnings.warn(\n",
      "/opt/anaconda3/envs/ML312/lib/python3.12/site-packages/sklearn/utils/validation.py:2739: UserWarning: X does not have valid feature names, but RandomForestRegressor was fitted with feature names\n",
      "  warnings.warn(\n",
      "/opt/anaconda3/envs/ML312/lib/python3.12/site-packages/sklearn/utils/validation.py:2739: UserWarning: X does not have valid feature names, but RandomForestClassifier was fitted with feature names\n",
      "  warnings.warn(\n",
      "/opt/anaconda3/envs/ML312/lib/python3.12/site-packages/sklearn/utils/validation.py:2739: UserWarning: X does not have valid feature names, but RandomForestRegressor was fitted with feature names\n",
      "  warnings.warn(\n",
      "/opt/anaconda3/envs/ML312/lib/python3.12/site-packages/sklearn/utils/validation.py:2739: UserWarning: X does not have valid feature names, but RandomForestClassifier was fitted with feature names\n",
      "  warnings.warn(\n",
      "/opt/anaconda3/envs/ML312/lib/python3.12/site-packages/sklearn/utils/validation.py:2739: UserWarning: X does not have valid feature names, but RandomForestRegressor was fitted with feature names\n",
      "  warnings.warn(\n",
      "/opt/anaconda3/envs/ML312/lib/python3.12/site-packages/sklearn/utils/validation.py:2739: UserWarning: X does not have valid feature names, but RandomForestClassifier was fitted with feature names\n",
      "  warnings.warn(\n",
      "/opt/anaconda3/envs/ML312/lib/python3.12/site-packages/sklearn/utils/validation.py:2739: UserWarning: X does not have valid feature names, but RandomForestRegressor was fitted with feature names\n",
      "  warnings.warn(\n",
      "/opt/anaconda3/envs/ML312/lib/python3.12/site-packages/sklearn/utils/validation.py:2739: UserWarning: X does not have valid feature names, but RandomForestClassifier was fitted with feature names\n",
      "  warnings.warn(\n",
      "/opt/anaconda3/envs/ML312/lib/python3.12/site-packages/sklearn/utils/validation.py:2739: UserWarning: X does not have valid feature names, but RandomForestRegressor was fitted with feature names\n",
      "  warnings.warn(\n",
      "/opt/anaconda3/envs/ML312/lib/python3.12/site-packages/sklearn/utils/validation.py:2739: UserWarning: X does not have valid feature names, but RandomForestClassifier was fitted with feature names\n",
      "  warnings.warn(\n",
      "/opt/anaconda3/envs/ML312/lib/python3.12/site-packages/sklearn/utils/validation.py:2739: UserWarning: X does not have valid feature names, but RandomForestRegressor was fitted with feature names\n",
      "  warnings.warn(\n",
      "/opt/anaconda3/envs/ML312/lib/python3.12/site-packages/sklearn/utils/validation.py:2739: UserWarning: X does not have valid feature names, but RandomForestClassifier was fitted with feature names\n",
      "  warnings.warn(\n",
      "/opt/anaconda3/envs/ML312/lib/python3.12/site-packages/sklearn/utils/validation.py:2739: UserWarning: X does not have valid feature names, but RandomForestRegressor was fitted with feature names\n",
      "  warnings.warn(\n",
      "/opt/anaconda3/envs/ML312/lib/python3.12/site-packages/sklearn/utils/validation.py:2739: UserWarning: X does not have valid feature names, but RandomForestClassifier was fitted with feature names\n",
      "  warnings.warn(\n",
      "/opt/anaconda3/envs/ML312/lib/python3.12/site-packages/sklearn/utils/validation.py:2739: UserWarning: X does not have valid feature names, but RandomForestRegressor was fitted with feature names\n",
      "  warnings.warn(\n",
      "/opt/anaconda3/envs/ML312/lib/python3.12/site-packages/sklearn/utils/validation.py:2739: UserWarning: X does not have valid feature names, but RandomForestClassifier was fitted with feature names\n",
      "  warnings.warn(\n",
      "/opt/anaconda3/envs/ML312/lib/python3.12/site-packages/sklearn/utils/validation.py:2739: UserWarning: X does not have valid feature names, but RandomForestRegressor was fitted with feature names\n",
      "  warnings.warn(\n",
      "/opt/anaconda3/envs/ML312/lib/python3.12/site-packages/sklearn/utils/validation.py:2739: UserWarning: X does not have valid feature names, but RandomForestClassifier was fitted with feature names\n",
      "  warnings.warn(\n",
      "/opt/anaconda3/envs/ML312/lib/python3.12/site-packages/sklearn/utils/validation.py:2739: UserWarning: X does not have valid feature names, but RandomForestRegressor was fitted with feature names\n",
      "  warnings.warn(\n",
      "/opt/anaconda3/envs/ML312/lib/python3.12/site-packages/sklearn/utils/validation.py:2739: UserWarning: X does not have valid feature names, but RandomForestClassifier was fitted with feature names\n",
      "  warnings.warn(\n",
      "/opt/anaconda3/envs/ML312/lib/python3.12/site-packages/sklearn/utils/validation.py:2739: UserWarning: X does not have valid feature names, but RandomForestRegressor was fitted with feature names\n",
      "  warnings.warn(\n",
      "/opt/anaconda3/envs/ML312/lib/python3.12/site-packages/sklearn/utils/validation.py:2739: UserWarning: X does not have valid feature names, but RandomForestClassifier was fitted with feature names\n",
      "  warnings.warn(\n",
      "/opt/anaconda3/envs/ML312/lib/python3.12/site-packages/sklearn/utils/validation.py:2739: UserWarning: X does not have valid feature names, but RandomForestRegressor was fitted with feature names\n",
      "  warnings.warn(\n",
      "/opt/anaconda3/envs/ML312/lib/python3.12/site-packages/sklearn/utils/validation.py:2739: UserWarning: X does not have valid feature names, but RandomForestClassifier was fitted with feature names\n",
      "  warnings.warn(\n",
      "/opt/anaconda3/envs/ML312/lib/python3.12/site-packages/sklearn/utils/validation.py:2739: UserWarning: X does not have valid feature names, but RandomForestRegressor was fitted with feature names\n",
      "  warnings.warn(\n"
     ]
    }
   ],
   "execution_count": 185
  },
  {
   "metadata": {
    "ExecuteTime": {
     "end_time": "2025-05-28T19:10:12.207544Z",
     "start_time": "2025-05-28T19:10:12.204731Z"
    }
   },
   "cell_type": "code",
   "source": [
    "print(predicted_notes)\n",
    "print(predicted_duration)"
   ],
   "id": "91b30dc704857381",
   "outputs": [
    {
     "name": "stdout",
     "output_type": "stream",
     "text": [
      "['Dha', 'Dha', 'Tin', 'T', 'Ta', 'Dhin', 'Dhin', 'Dha', 'Dha', 'Tin', 'Dhin', 'Tin', 'Dha', 'Tin', 'Ti', 'Ti', 'Dha', 'Dha', 'Dhin', 'Dhin', 'Dha', 'Dha', 'Dha', 'Tin', 'Tin', 'Ta', 'Ta', 'Dha', 'T', 'Tin']\n",
      "[np.float64(0.14341306666666667), np.float64(0.2593056333333335), np.float64(0.33588194166666696), np.float64(0.26126170000000015), np.float64(0.1513695250000002), np.float64(0.2580282116666668), np.float64(0.20088680000000003), np.float64(0.20966583333333336), np.float64(0.2847626666666668), np.float64(0.2327607383333335), np.float64(0.25761791666666656), np.float64(0.27952679666666663), np.float64(0.25875275000000025), np.float64(0.17871568000000018), np.float64(0.35599311666666655), np.float64(0.22508606523809527), np.float64(0.29972394166666677), np.float64(0.26849326000000007), np.float64(0.22197660166666672), np.float64(0.35195891), np.float64(0.2239536750000002), np.float64(0.21158853333333344), np.float64(0.37046891666666665), np.float64(0.2372517083333336), np.float64(0.21532436666666668), np.float64(0.3023627342857142), np.float64(0.26285179166666667), np.float64(0.29304720000000034), np.float64(0.27907733499999987), np.float64(0.23289603333333347)]\n"
     ]
    }
   ],
   "execution_count": 186
  },
  {
   "metadata": {
    "ExecuteTime": {
     "end_time": "2025-05-28T19:10:12.827629Z",
     "start_time": "2025-05-28T19:10:12.824257Z"
    }
   },
   "cell_type": "code",
   "source": [
    "import os\n",
    "import random\n",
    "import numpy as np\n",
    "from pydub import AudioSegment\n",
    "import simpleaudio as sa\n",
    "\n",
    "# Set this to your dataset folder path\n",
    "DATASET_PATH = \"/Users/shreyagupta/Desktop/Machine_Learning/Group_Project/Project_Tabla_Kaggle/DataSet/TablaSN\"\n",
    "\n",
    "def get_random_sample(note):\n",
    "    \"\"\"Returns a random AudioSegment for a given tabla note label\"\"\"\n",
    "    folder = os.path.join(DATASET_PATH, note)\n",
    "    print(f\"🧾 Looking in folder: {folder}\")\n",
    "    files = [f for f in os.listdir(folder) if f.endswith(\".wav\")]\n",
    "    if not files:\n",
    "        raise FileNotFoundError(f\"No WAV files found in {folder}\")\n",
    "    chosen = random.choice(files)\n",
    "    return AudioSegment.from_wav(os.path.join(folder, chosen))\n",
    "\n",
    "def adjust_duration(audio, target_sec):\n",
    "    \"\"\"Trims or pads the audio to match the predicted duration (in seconds)\"\"\"\n",
    "    target_ms = int(target_sec * 1000)\n",
    "    if len(audio) > target_ms:\n",
    "        return audio[:target_ms]\n",
    "    else:\n",
    "        silence = AudioSegment.silent(duration=target_ms - len(audio))\n",
    "        return audio + silence\n",
    "\n",
    "def play_audiosegment(audio):\n",
    "    \"\"\"Plays a pydub AudioSegment with blocking using simpleaudio\"\"\"\n",
    "    playback = sa.play_buffer(\n",
    "        audio.raw_data,\n",
    "        num_channels=audio.channels,\n",
    "        bytes_per_sample=audio.sample_width,\n",
    "        sample_rate=audio.frame_rate,\n",
    "    )\n",
    "    playback.wait_done()\n",
    "\n",
    "def play_sequence(predicted_notes, predicted_durations):\n",
    "    \"\"\"Main sampler loop\"\"\"\n",
    "    for note, dur in zip(predicted_notes, predicted_durations):\n",
    "        note = str(note)\n",
    "        duration = float(dur)\n",
    "        try:\n",
    "            sample = get_random_sample(note)\n",
    "            sample = adjust_duration(sample, duration)\n",
    "            print(f\"Playing {note} for {round(duration, 3)} sec\")\n",
    "            play_audiosegment(sample)\n",
    "        except Exception as e:\n",
    "            print(f\"Error with {note}: {e}\")\n"
   ],
   "id": "b4664144a604e839",
   "outputs": [],
   "execution_count": 187
  },
  {
   "metadata": {
    "ExecuteTime": {
     "end_time": "2025-05-28T19:10:13.384791Z",
     "start_time": "2025-05-28T19:10:13.381309Z"
    }
   },
   "cell_type": "code",
   "source": [
    "def export_sequence(predicted_notes, predicted_durations, output_path=\"output.wav\"):\n",
    "    sequence = AudioSegment.silent(duration=0)\n",
    "    for note, dur in zip(predicted_notes, predicted_durations):\n",
    "        note = str(note).strip()  # Ensure no whitespace\n",
    "        duration = float(dur)\n",
    "        try:\n",
    "            sample = get_random_sample(note)\n",
    "            sample = adjust_duration(sample, duration)\n",
    "            sequence += sample\n",
    "        except Exception as e:\n",
    "            print(f\"Error with {note}: {e}\")\n",
    "    if len(sequence) == 0:\n",
    "        print(\"⚠️ Nothing to export. Sequence is empty.\")\n",
    "        return\n",
    "    sequence.export(output_path, format=\"wav\")\n",
    "    print(f\"✅ Exported to {output_path}\")\n"
   ],
   "id": "9d97ba2ca1456304",
   "outputs": [],
   "execution_count": 188
  },
  {
   "metadata": {
    "ExecuteTime": {
     "end_time": "2025-05-28T19:10:14.568190Z",
     "start_time": "2025-05-28T19:10:14.360325Z"
    }
   },
   "cell_type": "code",
   "source": "export_sequence(predicted_notes, predicted_duration)\n",
   "id": "8882fd7ccf7630d4",
   "outputs": [
    {
     "name": "stdout",
     "output_type": "stream",
     "text": [
      "🧾 Looking in folder: /Users/shreyagupta/Desktop/Machine_Learning/Group_Project/Project_Tabla_Kaggle/DataSet/TablaSN/Dha\n",
      "🧾 Looking in folder: /Users/shreyagupta/Desktop/Machine_Learning/Group_Project/Project_Tabla_Kaggle/DataSet/TablaSN/Dha\n",
      "🧾 Looking in folder: /Users/shreyagupta/Desktop/Machine_Learning/Group_Project/Project_Tabla_Kaggle/DataSet/TablaSN/Tin\n",
      "🧾 Looking in folder: /Users/shreyagupta/Desktop/Machine_Learning/Group_Project/Project_Tabla_Kaggle/DataSet/TablaSN/T\n",
      "🧾 Looking in folder: /Users/shreyagupta/Desktop/Machine_Learning/Group_Project/Project_Tabla_Kaggle/DataSet/TablaSN/Ta\n",
      "🧾 Looking in folder: /Users/shreyagupta/Desktop/Machine_Learning/Group_Project/Project_Tabla_Kaggle/DataSet/TablaSN/Dhin\n",
      "🧾 Looking in folder: /Users/shreyagupta/Desktop/Machine_Learning/Group_Project/Project_Tabla_Kaggle/DataSet/TablaSN/Dhin\n",
      "🧾 Looking in folder: /Users/shreyagupta/Desktop/Machine_Learning/Group_Project/Project_Tabla_Kaggle/DataSet/TablaSN/Dha\n",
      "🧾 Looking in folder: /Users/shreyagupta/Desktop/Machine_Learning/Group_Project/Project_Tabla_Kaggle/DataSet/TablaSN/Dha\n",
      "🧾 Looking in folder: /Users/shreyagupta/Desktop/Machine_Learning/Group_Project/Project_Tabla_Kaggle/DataSet/TablaSN/Tin\n",
      "🧾 Looking in folder: /Users/shreyagupta/Desktop/Machine_Learning/Group_Project/Project_Tabla_Kaggle/DataSet/TablaSN/Dhin\n",
      "🧾 Looking in folder: /Users/shreyagupta/Desktop/Machine_Learning/Group_Project/Project_Tabla_Kaggle/DataSet/TablaSN/Tin\n",
      "🧾 Looking in folder: /Users/shreyagupta/Desktop/Machine_Learning/Group_Project/Project_Tabla_Kaggle/DataSet/TablaSN/Dha\n",
      "🧾 Looking in folder: /Users/shreyagupta/Desktop/Machine_Learning/Group_Project/Project_Tabla_Kaggle/DataSet/TablaSN/Tin\n",
      "🧾 Looking in folder: /Users/shreyagupta/Desktop/Machine_Learning/Group_Project/Project_Tabla_Kaggle/DataSet/TablaSN/Ti\n",
      "🧾 Looking in folder: /Users/shreyagupta/Desktop/Machine_Learning/Group_Project/Project_Tabla_Kaggle/DataSet/TablaSN/Ti\n",
      "🧾 Looking in folder: /Users/shreyagupta/Desktop/Machine_Learning/Group_Project/Project_Tabla_Kaggle/DataSet/TablaSN/Dha\n",
      "🧾 Looking in folder: /Users/shreyagupta/Desktop/Machine_Learning/Group_Project/Project_Tabla_Kaggle/DataSet/TablaSN/Dha\n",
      "🧾 Looking in folder: /Users/shreyagupta/Desktop/Machine_Learning/Group_Project/Project_Tabla_Kaggle/DataSet/TablaSN/Dhin\n",
      "🧾 Looking in folder: /Users/shreyagupta/Desktop/Machine_Learning/Group_Project/Project_Tabla_Kaggle/DataSet/TablaSN/Dhin\n",
      "🧾 Looking in folder: /Users/shreyagupta/Desktop/Machine_Learning/Group_Project/Project_Tabla_Kaggle/DataSet/TablaSN/Dha\n",
      "🧾 Looking in folder: /Users/shreyagupta/Desktop/Machine_Learning/Group_Project/Project_Tabla_Kaggle/DataSet/TablaSN/Dha\n",
      "🧾 Looking in folder: /Users/shreyagupta/Desktop/Machine_Learning/Group_Project/Project_Tabla_Kaggle/DataSet/TablaSN/Dha\n",
      "🧾 Looking in folder: /Users/shreyagupta/Desktop/Machine_Learning/Group_Project/Project_Tabla_Kaggle/DataSet/TablaSN/Tin\n",
      "🧾 Looking in folder: /Users/shreyagupta/Desktop/Machine_Learning/Group_Project/Project_Tabla_Kaggle/DataSet/TablaSN/Tin\n",
      "🧾 Looking in folder: /Users/shreyagupta/Desktop/Machine_Learning/Group_Project/Project_Tabla_Kaggle/DataSet/TablaSN/Ta\n",
      "🧾 Looking in folder: /Users/shreyagupta/Desktop/Machine_Learning/Group_Project/Project_Tabla_Kaggle/DataSet/TablaSN/Ta\n",
      "🧾 Looking in folder: /Users/shreyagupta/Desktop/Machine_Learning/Group_Project/Project_Tabla_Kaggle/DataSet/TablaSN/Dha\n",
      "🧾 Looking in folder: /Users/shreyagupta/Desktop/Machine_Learning/Group_Project/Project_Tabla_Kaggle/DataSet/TablaSN/T\n",
      "🧾 Looking in folder: /Users/shreyagupta/Desktop/Machine_Learning/Group_Project/Project_Tabla_Kaggle/DataSet/TablaSN/Tin\n",
      "✅ Exported to output.wav\n"
     ]
    }
   ],
   "execution_count": 189
  },
  {
   "metadata": {
    "ExecuteTime": {
     "end_time": "2025-05-28T19:10:16.112151Z",
     "start_time": "2025-05-28T19:10:16.110212Z"
    }
   },
   "cell_type": "code",
   "source": "",
   "id": "3b408e656e8ed75c",
   "outputs": [],
   "execution_count": null
  },
  {
   "metadata": {
    "ExecuteTime": {
     "end_time": "2025-05-28T19:10:17.236026Z",
     "start_time": "2025-05-28T19:10:17.232802Z"
    }
   },
   "cell_type": "code",
   "source": [
    "''' play this as drum sampler '''\n",
    "'''\n",
    "1 - Dha - SD + Ride\n",
    "2 - Dhin - BD + Ride\n",
    "3 - Ta - Ride\n",
    "4 - Tin - Hihat (foot)\n",
    "5 - Na - SnareLeft\n",
    "6 - Ge - BD\n",
    "7 - kat/ki/ke - SD\n",
    "8 - T - SD\n",
    "9 - Te/re -SD\n",
    "10 - Ti - SD\n",
    "11 - Tun - TOMB + RIDE\n",
    "'''"
   ],
   "id": "736ac2c5e097e514",
   "outputs": [
    {
     "data": {
      "text/plain": [
       "'\\n1 - Dha - SD + Ride\\n2 - Dhin - BD + Ride\\n3 - Ta - Ride\\n4 - Tin - Hihat (foot)\\n5 - Na - SnareLeft\\n6 - Ge - BD\\n7 - kat/ki/ke - SD\\n8 - T - SD\\n9 - Te/re -SD\\n10 - Ti - SD\\n11 - Tun - TOMB + RIDE\\n'"
      ]
     },
     "execution_count": 190,
     "metadata": {},
     "output_type": "execute_result"
    }
   ],
   "execution_count": 190
  },
  {
   "metadata": {
    "ExecuteTime": {
     "end_time": "2025-05-28T19:10:17.724510Z",
     "start_time": "2025-05-28T19:10:17.718722Z"
    }
   },
   "cell_type": "code",
   "source": [
    "import os\n",
    "import random\n",
    "import numpy as np\n",
    "from pydub import AudioSegment\n",
    "import simpleaudio as sa\n",
    "\n",
    "# Set this to your dataset folder path\n",
    "DATASET_PATH = \"/Users/shreyagupta/Desktop/Machine_Learning/Group_Project/Project_Tabla_Kaggle/Drum_shots\"\n",
    "\n",
    "\n",
    "def get_random_sample(note):\n",
    "    \"\"\"Returns a random AudioSegment for a given tabla note label\"\"\"\n",
    "    folder = os.path.join(DATASET_PATH, note)\n",
    "    return AudioSegment.from_wav(os.path.join(folder))\n",
    "\n",
    "\n",
    "def adjust_duration(audio, target_sec):\n",
    "    \"\"\"Trims or pads the audio to match the predicted duration (in seconds)\"\"\"\n",
    "    target_ms = int(target_sec * 1000)\n",
    "    if len(audio) > target_ms:\n",
    "        return audio[:target_ms]\n",
    "    else:\n",
    "        silence = AudioSegment.silent(duration=target_ms - len(audio))\n",
    "        return audio + silence\n",
    "\n",
    "\n",
    "def play_audiosegment(audio):\n",
    "    \"\"\"Plays a pydub AudioSegment with blocking using simpleaudio\"\"\"\n",
    "    playback = sa.play_buffer(\n",
    "        audio.raw_data,\n",
    "        num_channels=audio.channels,\n",
    "        bytes_per_sample=audio.sample_width,\n",
    "        sample_rate=audio.frame_rate,\n",
    "    )\n",
    "    playback.wait_done()\n",
    "\n",
    "\n",
    "def play_sequence(predicted_notes, predicted_durations):\n",
    "    \"\"\"Main sampler loop\"\"\"\n",
    "    for note, dur in zip(predicted_notes, predicted_durations):\n",
    "        note = str(note)\n",
    "        duration = float(dur)\n",
    "        try:\n",
    "            sample = get_random_sample(note)\n",
    "            sample = adjust_duration(sample, duration)\n",
    "            print(f\"Playing {note} for {round(duration, 3)} sec\")\n",
    "            play_audiosegment(sample)\n",
    "        except Exception as e:\n",
    "            print(f\"Error with {note}: {e}\")\n",
    "\n",
    "\n",
    "def export_sequence(predicted_notes, predicted_durations, output_path=\"drum_output.wav\"):\n",
    "    sequence = AudioSegment.silent(duration=0)\n",
    "    for note, dur in zip(predicted_notes, predicted_durations):\n",
    "        note = str(note).strip()  # Ensure no whitespace\n",
    "        note_wav = note + \".wav\"\n",
    "        duration = float(dur)\n",
    "        try:\n",
    "            sample = get_random_sample(note_wav)\n",
    "            sample = adjust_duration(sample, duration)\n",
    "            sequence += sample\n",
    "        except Exception as e:\n",
    "            print(f\"Error with {note_wav}: {e}\")\n",
    "    if len(sequence) == 0:\n",
    "        print(\"⚠️ Nothing to export. Sequence is empty.\")\n",
    "        return\n",
    "    sequence.export(output_path, format=\"wav\")\n",
    "    print(f\"✅ Exported to {output_path}\")"
   ],
   "id": "e3cbd9e96da31a2d",
   "outputs": [],
   "execution_count": 191
  },
  {
   "metadata": {
    "ExecuteTime": {
     "end_time": "2025-05-28T19:10:18.526651Z",
     "start_time": "2025-05-28T19:10:18.195645Z"
    }
   },
   "cell_type": "code",
   "source": [
    "# After playing the tabla prediction\n",
    "print(predicted_notes)\n",
    "print(predicted_duration)\n",
    "export_sequence(predicted_notes, predicted_duration)"
   ],
   "id": "3516ca867e9e419e",
   "outputs": [
    {
     "name": "stdout",
     "output_type": "stream",
     "text": [
      "['Dha', 'Dha', 'Tin', 'T', 'Ta', 'Dhin', 'Dhin', 'Dha', 'Dha', 'Tin', 'Dhin', 'Tin', 'Dha', 'Tin', 'Ti', 'Ti', 'Dha', 'Dha', 'Dhin', 'Dhin', 'Dha', 'Dha', 'Dha', 'Tin', 'Tin', 'Ta', 'Ta', 'Dha', 'T', 'Tin']\n",
      "[np.float64(0.14341306666666667), np.float64(0.2593056333333335), np.float64(0.33588194166666696), np.float64(0.26126170000000015), np.float64(0.1513695250000002), np.float64(0.2580282116666668), np.float64(0.20088680000000003), np.float64(0.20966583333333336), np.float64(0.2847626666666668), np.float64(0.2327607383333335), np.float64(0.25761791666666656), np.float64(0.27952679666666663), np.float64(0.25875275000000025), np.float64(0.17871568000000018), np.float64(0.35599311666666655), np.float64(0.22508606523809527), np.float64(0.29972394166666677), np.float64(0.26849326000000007), np.float64(0.22197660166666672), np.float64(0.35195891), np.float64(0.2239536750000002), np.float64(0.21158853333333344), np.float64(0.37046891666666665), np.float64(0.2372517083333336), np.float64(0.21532436666666668), np.float64(0.3023627342857142), np.float64(0.26285179166666667), np.float64(0.29304720000000034), np.float64(0.27907733499999987), np.float64(0.23289603333333347)]\n",
      "✅ Exported to drum_output.wav\n"
     ]
    }
   ],
   "execution_count": 192
  },
  {
   "metadata": {
    "ExecuteTime": {
     "end_time": "2025-05-28T19:11:17.505207Z",
     "start_time": "2025-05-28T19:11:17.495837Z"
    }
   },
   "cell_type": "code",
   "source": [
    "import pickle\n",
    "\n",
    "# save\n",
    "with open('model.pkl','wb') as f:\n",
    "    pickle.dump(model,f)\n",
    "\n",
    "with open('model_2.pkl','wb') as f:\n",
    "    pickle.dump(model_2,f)\n"
   ],
   "id": "7ff7f321a54b5922",
   "outputs": [],
   "execution_count": 193
  },
  {
   "metadata": {
    "ExecuteTime": {
     "end_time": "2025-05-26T09:14:47.259878Z",
     "start_time": "2025-05-26T09:14:47.258219Z"
    }
   },
   "cell_type": "code",
   "source": "",
   "id": "cc2ee3ecf5ae112",
   "outputs": [],
   "execution_count": 137
  },
  {
   "metadata": {
    "ExecuteTime": {
     "end_time": "2025-05-26T09:15:09.799113Z",
     "start_time": "2025-05-26T09:15:09.797582Z"
    }
   },
   "cell_type": "code",
   "source": "",
   "id": "8e810fd9b6478cf8",
   "outputs": [],
   "execution_count": null
  },
  {
   "metadata": {
    "ExecuteTime": {
     "end_time": "2025-05-25T18:37:54.944244Z",
     "start_time": "2025-05-25T18:37:54.682063Z"
    }
   },
   "cell_type": "code",
   "source": "",
   "id": "4db233320cf9469b",
   "outputs": [
    {
     "name": "stdout",
     "output_type": "stream",
     "text": [
      "✅ Exported to drum_output.wav\n"
     ]
    }
   ],
   "execution_count": 98
  }
 ],
 "metadata": {
  "kernelspec": {
   "display_name": "Python 3",
   "language": "python",
   "name": "python3"
  },
  "language_info": {
   "codemirror_mode": {
    "name": "ipython",
    "version": 2
   },
   "file_extension": ".py",
   "mimetype": "text/x-python",
   "name": "python",
   "nbconvert_exporter": "python",
   "pygments_lexer": "ipython2",
   "version": "2.7.6"
  }
 },
 "nbformat": 4,
 "nbformat_minor": 5
}
